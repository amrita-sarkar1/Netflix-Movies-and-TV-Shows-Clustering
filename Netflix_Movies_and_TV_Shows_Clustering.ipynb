{
  "nbformat": 4,
  "nbformat_minor": 0,
  "metadata": {
    "colab": {
      "name": "Netflix Movies and TV Shows Clustering.ipynb",
      "provenance": [],
      "collapsed_sections": [],
      "include_colab_link": true
    },
    "kernelspec": {
      "name": "python3",
      "display_name": "Python 3"
    },
    "language_info": {
      "name": "python"
    }
  },
  "cells": [
    {
      "cell_type": "markdown",
      "metadata": {
        "id": "view-in-github",
        "colab_type": "text"
      },
      "source": [
        "<a href=\"https://colab.research.google.com/github/its-amrita-sarkar-01/Netflix-Movies-and-TV-Shows-Clustering/blob/main/Netflix_Movies_and_TV_Shows_Clustering.ipynb\" target=\"_parent\"><img src=\"https://colab.research.google.com/assets/colab-badge.svg\" alt=\"Open In Colab\"/></a>"
      ]
    },
    {
      "cell_type": "markdown",
      "metadata": {
        "id": "LGcl5Bv9ed6u"
      },
      "source": [
        "# **Problem Statement**"
      ]
    },
    {
      "cell_type": "markdown",
      "metadata": {
        "id": "8M5kyFaVjzXk"
      },
      "source": [
        "This dataset consists of tv shows and movies available on Netflix as of 2019. The dataset is collected from Flixable which is a third-party Netflix search engine.\n",
        "\n",
        "In 2018, they released an interesting report which shows that the number of TV shows on Netflix has nearly tripled since 2010. The streaming service’s number of movies has decreased by more than 2,000 titles since 2010, while its number of TV shows has nearly tripled. It will be interesting to explore what all other insights can be obtained from the same dataset.\n",
        "\n",
        "Integrating this dataset with other external datasets such as IMDB ratings, rotten tomatoes can also provide many interesting findings."
      ]
    },
    {
      "cell_type": "markdown",
      "metadata": {
        "id": "tLx5cJO8hzb1"
      },
      "source": [
        "## <b>In this  project, you are required to do </b>\n",
        "1. Exploratory Data Analysis \n",
        "\n",
        "2. Understanding what type content is available in different countries\n",
        "\n",
        "3. Is Netflix has increasingly focusing on TV rather than movies in recent years.\n",
        "4. Clustering similar content by matching text-based features\n",
        "\n"
      ]
    },
    {
      "cell_type": "markdown",
      "metadata": {
        "id": "AzGDqdC4fZ-b"
      },
      "source": [
        "# **Attribute Information**"
      ]
    },
    {
      "cell_type": "markdown",
      "metadata": {
        "id": "jhfLYargscGV"
      },
      "source": [
        "1. show_id : Unique ID for every Movie / Tv Show\n",
        "\n",
        "2. type : Identifier - A Movie or TV Show\n",
        "\n",
        "3. title : Title of the Movie / Tv Show\n",
        "\n",
        "4. director : Director of the Movie\n",
        "\n",
        "5. cast : Actors involved in the movie / show\n",
        "\n",
        "6. country : Country where the movie / show was produced\n",
        "\n",
        "7. date_added : Date it was added on Netflix\n",
        "\n",
        "8. release_year : Actual Releaseyear of the movie / show\n",
        "\n",
        "9. rating : TV Rating of the movie / show\n",
        "\n",
        "10. duration : Total Duration - in minutes or number of seasons\n",
        "\n",
        "11. listed_in : Genere\n",
        "\n",
        "12. description: The Summary description"
      ]
    },
    {
      "cell_type": "code",
      "source": [
        "from google.colab import drive\n",
        "drive.mount('/content/drive')"
      ],
      "metadata": {
        "colab": {
          "base_uri": "https://localhost:8080/"
        },
        "id": "BfL4ypdzHaKN",
        "outputId": "9d42fbba-240c-4f8f-cf75-20fe775bdafd"
      },
      "execution_count": 1,
      "outputs": [
        {
          "output_type": "stream",
          "name": "stdout",
          "text": [
            "Mounted at /content/drive\n"
          ]
        }
      ]
    },
    {
      "cell_type": "code",
      "source": [
        "# Importing the libraries\n",
        "import numpy as np\n",
        "import pandas as pd\n",
        "from numpy import math\n",
        "import seaborn as sns\n",
        "import matplotlib.pyplot as plt\n",
        "import matplotlib.ticker as mtick\n",
        "from matplotlib.pyplot import figure\n",
        "import plotly.graph_objects as go\n",
        "import plotly.offline as py\n",
        "import plotly.express as px\n",
        "from datetime import datetime\n",
        "\n",
        "import warnings\n",
        "warnings.filterwarnings('ignore')"
      ],
      "metadata": {
        "id": "vo0EcsfCHLUt"
      },
      "execution_count": 2,
      "outputs": []
    },
    {
      "cell_type": "code",
      "source": [
        "# Loading the data\n",
        "file_path = '/content/drive/MyDrive/Colab Notebooks/AlmaBetter Capstone Project/NETFLIX MOVIES AND TV SHOWS CLUSTERING.csv'\n",
        "\n",
        "data= pd.read_csv(file_path)\n",
        "\n",
        "# Make a copy of the dataset\n",
        "df = data.copy()\n",
        "\n",
        "# Display first 5 rows\n",
        "df.head()"
      ],
      "metadata": {
        "colab": {
          "base_uri": "https://localhost:8080/",
          "height": 337
        },
        "id": "7zQru4qZHYuc",
        "outputId": "8e2c1d20-bfd0-45c9-cdee-31bda07ce9dd"
      },
      "execution_count": 3,
      "outputs": [
        {
          "output_type": "execute_result",
          "data": {
            "text/plain": [
              "  show_id     type  title           director  \\\n",
              "0      s1  TV Show     3%                NaN   \n",
              "1      s2    Movie   7:19  Jorge Michel Grau   \n",
              "2      s3    Movie  23:59       Gilbert Chan   \n",
              "3      s4    Movie      9        Shane Acker   \n",
              "4      s5    Movie     21     Robert Luketic   \n",
              "\n",
              "                                                cast        country  \\\n",
              "0  João Miguel, Bianca Comparato, Michel Gomes, R...         Brazil   \n",
              "1  Demián Bichir, Héctor Bonilla, Oscar Serrano, ...         Mexico   \n",
              "2  Tedd Chan, Stella Chung, Henley Hii, Lawrence ...      Singapore   \n",
              "3  Elijah Wood, John C. Reilly, Jennifer Connelly...  United States   \n",
              "4  Jim Sturgess, Kevin Spacey, Kate Bosworth, Aar...  United States   \n",
              "\n",
              "          date_added  release_year rating   duration  \\\n",
              "0    August 14, 2020          2020  TV-MA  4 Seasons   \n",
              "1  December 23, 2016          2016  TV-MA     93 min   \n",
              "2  December 20, 2018          2011      R     78 min   \n",
              "3  November 16, 2017          2009  PG-13     80 min   \n",
              "4    January 1, 2020          2008  PG-13    123 min   \n",
              "\n",
              "                                           listed_in  \\\n",
              "0  International TV Shows, TV Dramas, TV Sci-Fi &...   \n",
              "1                       Dramas, International Movies   \n",
              "2                Horror Movies, International Movies   \n",
              "3  Action & Adventure, Independent Movies, Sci-Fi...   \n",
              "4                                             Dramas   \n",
              "\n",
              "                                         description  \n",
              "0  In a future where the elite inhabit an island ...  \n",
              "1  After a devastating earthquake hits Mexico Cit...  \n",
              "2  When an army recruit is found dead, his fellow...  \n",
              "3  In a postapocalyptic world, rag-doll robots hi...  \n",
              "4  A brilliant group of students become card-coun...  "
            ],
            "text/html": [
              "\n",
              "  <div id=\"df-0b5fa551-6b42-49f3-a538-5191f8a0b84b\">\n",
              "    <div class=\"colab-df-container\">\n",
              "      <div>\n",
              "<style scoped>\n",
              "    .dataframe tbody tr th:only-of-type {\n",
              "        vertical-align: middle;\n",
              "    }\n",
              "\n",
              "    .dataframe tbody tr th {\n",
              "        vertical-align: top;\n",
              "    }\n",
              "\n",
              "    .dataframe thead th {\n",
              "        text-align: right;\n",
              "    }\n",
              "</style>\n",
              "<table border=\"1\" class=\"dataframe\">\n",
              "  <thead>\n",
              "    <tr style=\"text-align: right;\">\n",
              "      <th></th>\n",
              "      <th>show_id</th>\n",
              "      <th>type</th>\n",
              "      <th>title</th>\n",
              "      <th>director</th>\n",
              "      <th>cast</th>\n",
              "      <th>country</th>\n",
              "      <th>date_added</th>\n",
              "      <th>release_year</th>\n",
              "      <th>rating</th>\n",
              "      <th>duration</th>\n",
              "      <th>listed_in</th>\n",
              "      <th>description</th>\n",
              "    </tr>\n",
              "  </thead>\n",
              "  <tbody>\n",
              "    <tr>\n",
              "      <th>0</th>\n",
              "      <td>s1</td>\n",
              "      <td>TV Show</td>\n",
              "      <td>3%</td>\n",
              "      <td>NaN</td>\n",
              "      <td>João Miguel, Bianca Comparato, Michel Gomes, R...</td>\n",
              "      <td>Brazil</td>\n",
              "      <td>August 14, 2020</td>\n",
              "      <td>2020</td>\n",
              "      <td>TV-MA</td>\n",
              "      <td>4 Seasons</td>\n",
              "      <td>International TV Shows, TV Dramas, TV Sci-Fi &amp;...</td>\n",
              "      <td>In a future where the elite inhabit an island ...</td>\n",
              "    </tr>\n",
              "    <tr>\n",
              "      <th>1</th>\n",
              "      <td>s2</td>\n",
              "      <td>Movie</td>\n",
              "      <td>7:19</td>\n",
              "      <td>Jorge Michel Grau</td>\n",
              "      <td>Demián Bichir, Héctor Bonilla, Oscar Serrano, ...</td>\n",
              "      <td>Mexico</td>\n",
              "      <td>December 23, 2016</td>\n",
              "      <td>2016</td>\n",
              "      <td>TV-MA</td>\n",
              "      <td>93 min</td>\n",
              "      <td>Dramas, International Movies</td>\n",
              "      <td>After a devastating earthquake hits Mexico Cit...</td>\n",
              "    </tr>\n",
              "    <tr>\n",
              "      <th>2</th>\n",
              "      <td>s3</td>\n",
              "      <td>Movie</td>\n",
              "      <td>23:59</td>\n",
              "      <td>Gilbert Chan</td>\n",
              "      <td>Tedd Chan, Stella Chung, Henley Hii, Lawrence ...</td>\n",
              "      <td>Singapore</td>\n",
              "      <td>December 20, 2018</td>\n",
              "      <td>2011</td>\n",
              "      <td>R</td>\n",
              "      <td>78 min</td>\n",
              "      <td>Horror Movies, International Movies</td>\n",
              "      <td>When an army recruit is found dead, his fellow...</td>\n",
              "    </tr>\n",
              "    <tr>\n",
              "      <th>3</th>\n",
              "      <td>s4</td>\n",
              "      <td>Movie</td>\n",
              "      <td>9</td>\n",
              "      <td>Shane Acker</td>\n",
              "      <td>Elijah Wood, John C. Reilly, Jennifer Connelly...</td>\n",
              "      <td>United States</td>\n",
              "      <td>November 16, 2017</td>\n",
              "      <td>2009</td>\n",
              "      <td>PG-13</td>\n",
              "      <td>80 min</td>\n",
              "      <td>Action &amp; Adventure, Independent Movies, Sci-Fi...</td>\n",
              "      <td>In a postapocalyptic world, rag-doll robots hi...</td>\n",
              "    </tr>\n",
              "    <tr>\n",
              "      <th>4</th>\n",
              "      <td>s5</td>\n",
              "      <td>Movie</td>\n",
              "      <td>21</td>\n",
              "      <td>Robert Luketic</td>\n",
              "      <td>Jim Sturgess, Kevin Spacey, Kate Bosworth, Aar...</td>\n",
              "      <td>United States</td>\n",
              "      <td>January 1, 2020</td>\n",
              "      <td>2008</td>\n",
              "      <td>PG-13</td>\n",
              "      <td>123 min</td>\n",
              "      <td>Dramas</td>\n",
              "      <td>A brilliant group of students become card-coun...</td>\n",
              "    </tr>\n",
              "  </tbody>\n",
              "</table>\n",
              "</div>\n",
              "      <button class=\"colab-df-convert\" onclick=\"convertToInteractive('df-0b5fa551-6b42-49f3-a538-5191f8a0b84b')\"\n",
              "              title=\"Convert this dataframe to an interactive table.\"\n",
              "              style=\"display:none;\">\n",
              "        \n",
              "  <svg xmlns=\"http://www.w3.org/2000/svg\" height=\"24px\"viewBox=\"0 0 24 24\"\n",
              "       width=\"24px\">\n",
              "    <path d=\"M0 0h24v24H0V0z\" fill=\"none\"/>\n",
              "    <path d=\"M18.56 5.44l.94 2.06.94-2.06 2.06-.94-2.06-.94-.94-2.06-.94 2.06-2.06.94zm-11 1L8.5 8.5l.94-2.06 2.06-.94-2.06-.94L8.5 2.5l-.94 2.06-2.06.94zm10 10l.94 2.06.94-2.06 2.06-.94-2.06-.94-.94-2.06-.94 2.06-2.06.94z\"/><path d=\"M17.41 7.96l-1.37-1.37c-.4-.4-.92-.59-1.43-.59-.52 0-1.04.2-1.43.59L10.3 9.45l-7.72 7.72c-.78.78-.78 2.05 0 2.83L4 21.41c.39.39.9.59 1.41.59.51 0 1.02-.2 1.41-.59l7.78-7.78 2.81-2.81c.8-.78.8-2.07 0-2.86zM5.41 20L4 18.59l7.72-7.72 1.47 1.35L5.41 20z\"/>\n",
              "  </svg>\n",
              "      </button>\n",
              "      \n",
              "  <style>\n",
              "    .colab-df-container {\n",
              "      display:flex;\n",
              "      flex-wrap:wrap;\n",
              "      gap: 12px;\n",
              "    }\n",
              "\n",
              "    .colab-df-convert {\n",
              "      background-color: #E8F0FE;\n",
              "      border: none;\n",
              "      border-radius: 50%;\n",
              "      cursor: pointer;\n",
              "      display: none;\n",
              "      fill: #1967D2;\n",
              "      height: 32px;\n",
              "      padding: 0 0 0 0;\n",
              "      width: 32px;\n",
              "    }\n",
              "\n",
              "    .colab-df-convert:hover {\n",
              "      background-color: #E2EBFA;\n",
              "      box-shadow: 0px 1px 2px rgba(60, 64, 67, 0.3), 0px 1px 3px 1px rgba(60, 64, 67, 0.15);\n",
              "      fill: #174EA6;\n",
              "    }\n",
              "\n",
              "    [theme=dark] .colab-df-convert {\n",
              "      background-color: #3B4455;\n",
              "      fill: #D2E3FC;\n",
              "    }\n",
              "\n",
              "    [theme=dark] .colab-df-convert:hover {\n",
              "      background-color: #434B5C;\n",
              "      box-shadow: 0px 1px 3px 1px rgba(0, 0, 0, 0.15);\n",
              "      filter: drop-shadow(0px 1px 2px rgba(0, 0, 0, 0.3));\n",
              "      fill: #FFFFFF;\n",
              "    }\n",
              "  </style>\n",
              "\n",
              "      <script>\n",
              "        const buttonEl =\n",
              "          document.querySelector('#df-0b5fa551-6b42-49f3-a538-5191f8a0b84b button.colab-df-convert');\n",
              "        buttonEl.style.display =\n",
              "          google.colab.kernel.accessAllowed ? 'block' : 'none';\n",
              "\n",
              "        async function convertToInteractive(key) {\n",
              "          const element = document.querySelector('#df-0b5fa551-6b42-49f3-a538-5191f8a0b84b');\n",
              "          const dataTable =\n",
              "            await google.colab.kernel.invokeFunction('convertToInteractive',\n",
              "                                                     [key], {});\n",
              "          if (!dataTable) return;\n",
              "\n",
              "          const docLinkHtml = 'Like what you see? Visit the ' +\n",
              "            '<a target=\"_blank\" href=https://colab.research.google.com/notebooks/data_table.ipynb>data table notebook</a>'\n",
              "            + ' to learn more about interactive tables.';\n",
              "          element.innerHTML = '';\n",
              "          dataTable['output_type'] = 'display_data';\n",
              "          await google.colab.output.renderOutput(dataTable, element);\n",
              "          const docLink = document.createElement('div');\n",
              "          docLink.innerHTML = docLinkHtml;\n",
              "          element.appendChild(docLink);\n",
              "        }\n",
              "      </script>\n",
              "    </div>\n",
              "  </div>\n",
              "  "
            ]
          },
          "metadata": {},
          "execution_count": 3
        }
      ]
    },
    {
      "cell_type": "code",
      "source": [
        "# Shape of the dataset\n",
        "\n",
        "numberofrows_1, numberofcolumns_1 = df.shape\n",
        "print('There are {} rows and {} columns'.format(numberofrows_1, numberofcolumns_1)+' in our Netflix Dataset.')"
      ],
      "metadata": {
        "id": "pTvA6KqSHsy1",
        "colab": {
          "base_uri": "https://localhost:8080/"
        },
        "outputId": "25d8f572-2b45-4cec-84e9-8b225af44804"
      },
      "execution_count": 4,
      "outputs": [
        {
          "output_type": "stream",
          "name": "stdout",
          "text": [
            "There are 7787 rows and 12 columns in our Netflix Dataset.\n"
          ]
        }
      ]
    },
    {
      "cell_type": "code",
      "source": [
        "# Information about the dataset\n",
        "\n",
        "df.info()"
      ],
      "metadata": {
        "colab": {
          "base_uri": "https://localhost:8080/"
        },
        "id": "Lje_ZP33vybS",
        "outputId": "dff70f25-7aa7-49d2-8ee6-2ba8c4dbbfb9"
      },
      "execution_count": 5,
      "outputs": [
        {
          "output_type": "stream",
          "name": "stdout",
          "text": [
            "<class 'pandas.core.frame.DataFrame'>\n",
            "RangeIndex: 7787 entries, 0 to 7786\n",
            "Data columns (total 12 columns):\n",
            " #   Column        Non-Null Count  Dtype \n",
            "---  ------        --------------  ----- \n",
            " 0   show_id       7787 non-null   object\n",
            " 1   type          7787 non-null   object\n",
            " 2   title         7787 non-null   object\n",
            " 3   director      5398 non-null   object\n",
            " 4   cast          7069 non-null   object\n",
            " 5   country       7280 non-null   object\n",
            " 6   date_added    7777 non-null   object\n",
            " 7   release_year  7787 non-null   int64 \n",
            " 8   rating        7780 non-null   object\n",
            " 9   duration      7787 non-null   object\n",
            " 10  listed_in     7787 non-null   object\n",
            " 11  description   7787 non-null   object\n",
            "dtypes: int64(1), object(11)\n",
            "memory usage: 730.2+ KB\n"
          ]
        }
      ]
    },
    {
      "cell_type": "code",
      "source": [
        "# Missing value Inspection\n",
        "\n",
        "Value_Missing = df.isnull().sum().sort_values(ascending = False)\n",
        "percent_missing = (df.isnull().sum() * 100 / len(df)).round(2).sort_values(ascending = False)\n",
        "missing_data = pd.concat([Value_Missing, percent_missing], axis = 1, keys = ['Total', 'Percent'])\n",
        "f, ax = plt.subplots(figsize = (10, 5))\n",
        "plt.xticks(rotation = '90')\n",
        "cplot = sns.barplot(x = missing_data.index, y = missing_data['Percent'], palette = 'plasma')\n",
        "for count in cplot.patches:\n",
        "    height = count.get_height()\n",
        "    ax.annotate('{}'.format(height),xy = (count.get_x() + count.get_width()/2, height),\n",
        "                    ha = 'center', va = 'bottom', size = 11, xytext = (0, 3), textcoords = 'offset points')\n",
        "cplot.set_title('Missing Value Inspection', fontsize = 20, weight = 'bold')\n",
        "cplot.set_ylabel('Count', fontsize = 15)\n",
        "cplot.set_xlabel('Features', fontsize = 15);"
      ],
      "metadata": {
        "colab": {
          "base_uri": "https://localhost:8080/",
          "height": 413
        },
        "id": "lwHrkRxWwLS_",
        "outputId": "aad7dc36-6fec-418d-9b29-59548456229c"
      },
      "execution_count": 6,
      "outputs": [
        {
          "output_type": "display_data",
          "data": {
            "text/plain": [
              "<Figure size 720x360 with 1 Axes>"
            ],
            "image/png": "[encoded data removed]"
          },
          "metadata": {
            "needs_background": "light"
          }
        }
      ]
    },
    {
      "cell_type": "markdown",
      "source": [
        "- 'director'(30.68%), 'cast'(9.22%), 'country'(6.51%), 'date_added'(0.13%), 'rating'(0.09%) are features with missing values. \n",
        "\n",
        "- Other than 'rating' none of the features can be imputed with statistical method.\n",
        "\n",
        "- Therefore, the columns 'director', 'cast' are dropped from the dataset.\n",
        "\n",
        "- Then all the rows containing missing values are dropped."
      ],
      "metadata": {
        "id": "pMeHDER_wDHF"
      }
    },
    {
      "cell_type": "code",
      "source": [
        "df['rating'].replace(np.nan, 'TV-MA', inplace  = True)\n",
        "df['country'].replace(np.nan, 'United States', inplace  = True)\n",
        "df['cast'].replace(np.nan, 'missing info', inplace  = True)"
      ],
      "metadata": {
        "id": "jH_9vrzGZE5N"
      },
      "execution_count": 7,
      "outputs": []
    },
    {
      "cell_type": "code",
      "source": [
        "# Dropping off 'director' and 'cast' variables\n",
        "#df.drop(['director', 'cast'], axis = 1, inplace = True)\n",
        "\n",
        "# Drop all null values containing rows\n",
        "#df.dropna(axis = 0, inplace = True)"
      ],
      "metadata": {
        "id": "zdCbXbuwzh0I"
      },
      "execution_count": 8,
      "outputs": []
    },
    {
      "cell_type": "code",
      "source": [
        "# Checking for the null values\n",
        "\n",
        "#df.isnull().sum().sum()"
      ],
      "metadata": {
        "id": "YRvxTMWkv8fg"
      },
      "execution_count": 9,
      "outputs": []
    },
    {
      "cell_type": "code",
      "source": [
        "# Shape of the modified dataset\n",
        "\n",
        "#print('There are {} rows and {} columns'.format(df.shape[0], df.shape[1])+' in our modified Netflix Dataset.')"
      ],
      "metadata": {
        "id": "5RGuXkcT0JMk"
      },
      "execution_count": 10,
      "outputs": []
    },
    {
      "cell_type": "code",
      "source": [
        "# Generate count statistics of duplicate entries\n",
        "\n",
        "if (len(df[df.duplicated()]) > 0):\n",
        "    print('No. of duplicated entries: ', len(df[df.duplicated()]))\n",
        "    print(df[df.duplicated(keep = False)].sort_values(by = list(df.columns)).head())\n",
        "else:\n",
        "    print('No duplicated entries found.')"
      ],
      "metadata": {
        "colab": {
          "base_uri": "https://localhost:8080/"
        },
        "id": "HC2wd0I20htP",
        "outputId": "c39f87bd-4d10-4b92-b634-3d4a95806995"
      },
      "execution_count": 11,
      "outputs": [
        {
          "output_type": "stream",
          "name": "stdout",
          "text": [
            "No duplicated entries found.\n"
          ]
        }
      ]
    },
    {
      "cell_type": "code",
      "source": [
        "# Unique values of all features\n",
        "\n",
        "df.nunique().to_frame(name = 'Unique Values')"
      ],
      "metadata": {
        "colab": {
          "base_uri": "https://localhost:8080/",
          "height": 426
        },
        "id": "wswXEQVY0rFf",
        "outputId": "09188b1a-b20c-4fb8-a64c-6d468d44422d"
      },
      "execution_count": 12,
      "outputs": [
        {
          "output_type": "execute_result",
          "data": {
            "text/plain": [
              "              Unique Values\n",
              "show_id                7787\n",
              "type                      2\n",
              "title                  7787\n",
              "director               4049\n",
              "cast                   6832\n",
              "country                 681\n",
              "date_added             1565\n",
              "release_year             73\n",
              "rating                   14\n",
              "duration                216\n",
              "listed_in               492\n",
              "description            7769"
            ],
            "text/html": [
              "\n",
              "  <div id=\"df-62c16558-2097-48d5-b8b6-57fe450dea9b\">\n",
              "    <div class=\"colab-df-container\">\n",
              "      <div>\n",
              "<style scoped>\n",
              "    .dataframe tbody tr th:only-of-type {\n",
              "        vertical-align: middle;\n",
              "    }\n",
              "\n",
              "    .dataframe tbody tr th {\n",
              "        vertical-align: top;\n",
              "    }\n",
              "\n",
              "    .dataframe thead th {\n",
              "        text-align: right;\n",
              "    }\n",
              "</style>\n",
              "<table border=\"1\" class=\"dataframe\">\n",
              "  <thead>\n",
              "    <tr style=\"text-align: right;\">\n",
              "      <th></th>\n",
              "      <th>Unique Values</th>\n",
              "    </tr>\n",
              "  </thead>\n",
              "  <tbody>\n",
              "    <tr>\n",
              "      <th>show_id</th>\n",
              "      <td>7787</td>\n",
              "    </tr>\n",
              "    <tr>\n",
              "      <th>type</th>\n",
              "      <td>2</td>\n",
              "    </tr>\n",
              "    <tr>\n",
              "      <th>title</th>\n",
              "      <td>7787</td>\n",
              "    </tr>\n",
              "    <tr>\n",
              "      <th>director</th>\n",
              "      <td>4049</td>\n",
              "    </tr>\n",
              "    <tr>\n",
              "      <th>cast</th>\n",
              "      <td>6832</td>\n",
              "    </tr>\n",
              "    <tr>\n",
              "      <th>country</th>\n",
              "      <td>681</td>\n",
              "    </tr>\n",
              "    <tr>\n",
              "      <th>date_added</th>\n",
              "      <td>1565</td>\n",
              "    </tr>\n",
              "    <tr>\n",
              "      <th>release_year</th>\n",
              "      <td>73</td>\n",
              "    </tr>\n",
              "    <tr>\n",
              "      <th>rating</th>\n",
              "      <td>14</td>\n",
              "    </tr>\n",
              "    <tr>\n",
              "      <th>duration</th>\n",
              "      <td>216</td>\n",
              "    </tr>\n",
              "    <tr>\n",
              "      <th>listed_in</th>\n",
              "      <td>492</td>\n",
              "    </tr>\n",
              "    <tr>\n",
              "      <th>description</th>\n",
              "      <td>7769</td>\n",
              "    </tr>\n",
              "  </tbody>\n",
              "</table>\n",
              "</div>\n",
              "      <button class=\"colab-df-convert\" onclick=\"convertToInteractive('df-62c16558-2097-48d5-b8b6-57fe450dea9b')\"\n",
              "              title=\"Convert this dataframe to an interactive table.\"\n",
              "              style=\"display:none;\">\n",
              "        \n",
              "  <svg xmlns=\"http://www.w3.org/2000/svg\" height=\"24px\"viewBox=\"0 0 24 24\"\n",
              "       width=\"24px\">\n",
              "    <path d=\"M0 0h24v24H0V0z\" fill=\"none\"/>\n",
              "    <path d=\"M18.56 5.44l.94 2.06.94-2.06 2.06-.94-2.06-.94-.94-2.06-.94 2.06-2.06.94zm-11 1L8.5 8.5l.94-2.06 2.06-.94-2.06-.94L8.5 2.5l-.94 2.06-2.06.94zm10 10l.94 2.06.94-2.06 2.06-.94-2.06-.94-.94-2.06-.94 2.06-2.06.94z\"/><path d=\"M17.41 7.96l-1.37-1.37c-.4-.4-.92-.59-1.43-.59-.52 0-1.04.2-1.43.59L10.3 9.45l-7.72 7.72c-.78.78-.78 2.05 0 2.83L4 21.41c.39.39.9.59 1.41.59.51 0 1.02-.2 1.41-.59l7.78-7.78 2.81-2.81c.8-.78.8-2.07 0-2.86zM5.41 20L4 18.59l7.72-7.72 1.47 1.35L5.41 20z\"/>\n",
              "  </svg>\n",
              "      </button>\n",
              "      \n",
              "  <style>\n",
              "    .colab-df-container {\n",
              "      display:flex;\n",
              "      flex-wrap:wrap;\n",
              "      gap: 12px;\n",
              "    }\n",
              "\n",
              "    .colab-df-convert {\n",
              "      background-color: #E8F0FE;\n",
              "      border: none;\n",
              "      border-radius: 50%;\n",
              "      cursor: pointer;\n",
              "      display: none;\n",
              "      fill: #1967D2;\n",
              "      height: 32px;\n",
              "      padding: 0 0 0 0;\n",
              "      width: 32px;\n",
              "    }\n",
              "\n",
              "    .colab-df-convert:hover {\n",
              "      background-color: #E2EBFA;\n",
              "      box-shadow: 0px 1px 2px rgba(60, 64, 67, 0.3), 0px 1px 3px 1px rgba(60, 64, 67, 0.15);\n",
              "      fill: #174EA6;\n",
              "    }\n",
              "\n",
              "    [theme=dark] .colab-df-convert {\n",
              "      background-color: #3B4455;\n",
              "      fill: #D2E3FC;\n",
              "    }\n",
              "\n",
              "    [theme=dark] .colab-df-convert:hover {\n",
              "      background-color: #434B5C;\n",
              "      box-shadow: 0px 1px 3px 1px rgba(0, 0, 0, 0.15);\n",
              "      filter: drop-shadow(0px 1px 2px rgba(0, 0, 0, 0.3));\n",
              "      fill: #FFFFFF;\n",
              "    }\n",
              "  </style>\n",
              "\n",
              "      <script>\n",
              "        const buttonEl =\n",
              "          document.querySelector('#df-62c16558-2097-48d5-b8b6-57fe450dea9b button.colab-df-convert');\n",
              "        buttonEl.style.display =\n",
              "          google.colab.kernel.accessAllowed ? 'block' : 'none';\n",
              "\n",
              "        async function convertToInteractive(key) {\n",
              "          const element = document.querySelector('#df-62c16558-2097-48d5-b8b6-57fe450dea9b');\n",
              "          const dataTable =\n",
              "            await google.colab.kernel.invokeFunction('convertToInteractive',\n",
              "                                                     [key], {});\n",
              "          if (!dataTable) return;\n",
              "\n",
              "          const docLinkHtml = 'Like what you see? Visit the ' +\n",
              "            '<a target=\"_blank\" href=https://colab.research.google.com/notebooks/data_table.ipynb>data table notebook</a>'\n",
              "            + ' to learn more about interactive tables.';\n",
              "          element.innerHTML = '';\n",
              "          dataTable['output_type'] = 'display_data';\n",
              "          await google.colab.output.renderOutput(dataTable, element);\n",
              "          const docLink = document.createElement('div');\n",
              "          docLink.innerHTML = docLinkHtml;\n",
              "          element.appendChild(docLink);\n",
              "        }\n",
              "      </script>\n",
              "    </div>\n",
              "  </div>\n",
              "  "
            ]
          },
          "metadata": {},
          "execution_count": 12
        }
      ]
    },
    {
      "cell_type": "code",
      "source": [
        "# Drop 'show_id' variable\n",
        "\n",
        "df.drop('show_id', axis = 1, inplace = True)"
      ],
      "metadata": {
        "id": "3A31vCkk3jj2"
      },
      "execution_count": 13,
      "outputs": []
    },
    {
      "cell_type": "code",
      "source": [
        "# type analysis\n",
        "\n",
        "type_name = df['type'].value_counts()\n",
        "colors = ['#BBFFFF', '#FFD700']\n",
        "\n",
        "trace = go.Pie(labels = type_name.index, \n",
        "               values = type_name, \n",
        "               textinfo = 'value',\n",
        "               marker = dict(colors = colors, \n",
        "               line=dict(color = '#000000', \n",
        "               width = 2)))\n",
        "\n",
        "layout = go.Layout(title = 'Proportion of Show types', width = 500, height = 500)\n",
        "fig = go.Figure(data = [trace], layout = layout)\n",
        "py.iplot(fig, filename='pie_chart_subplots')"
      ],
      "metadata": {
        "colab": {
          "base_uri": "https://localhost:8080/",
          "height": 517
        },
        "id": "F--IIRAh42ij",
        "outputId": "026681b1-ccaf-46d5-c5a6-555db311139f"
      },
      "execution_count": 14,
      "outputs": [
        {
          "output_type": "display_data",
          "data": {
            "text/html": [
              "<html>\n",
              "<head><meta charset=\"utf-8\" /></head>\n",
              "<body>\n",
              "    <div>            <script src=\"https://cdnjs.cloudflare.com/ajax/libs/mathjax/2.7.5/MathJax.js?config=TeX-AMS-MML_SVG\"></script><script type=\"text/javascript\">if (window.MathJax) {MathJax.Hub.Config({SVG: {font: \"STIX-Web\"}});}</script>                <script type=\"text/javascript\">window.PlotlyConfig = {MathJaxConfig: 'local'};</script>\n",
              "        <script src=\"https://cdn.plot.ly/plotly-2.8.3.min.js\"></script>                <div id=\"acd3a133-1e32-41e1-a7bf-61c9c42c592f\" class=\"plotly-graph-div\" style=\"height:500px; width:500px;\"></div>            <script type=\"text/javascript\">                                    window.PLOTLYENV=window.PLOTLYENV || {};                                    if (document.getElementById(\"acd3a133-1e32-41e1-a7bf-61c9c42c592f\")) {                    Plotly.newPlot(                        \"acd3a133-1e32-41e1-a7bf-61c9c42c592f\",                        [{\"labels\":[\"Movie\",\"TV Show\"],\"marker\":{\"colors\":[\"#BBFFFF\",\"#FFD700\"],\"line\":{\"color\":\"#000000\",\"width\":2}},\"textinfo\":\"value\",\"values\":[5377,2410],\"type\":\"pie\"}],                        {\"height\":500,\"template\":{\"data\":{\"barpolar\":[{\"marker\":{\"line\":{\"color\":\"#E5ECF6\",\"width\":0.5},\"pattern\":{\"fillmode\":\"overlay\",\"size\":10,\"solidity\":0.2}},\"type\":\"barpolar\"}],\"bar\":[{\"error_x\":{\"color\":\"#2a3f5f\"},\"error_y\":{\"color\":\"#2a3f5f\"},\"marker\":{\"line\":{\"color\":\"#E5ECF6\",\"width\":0.5},\"pattern\":{\"fillmode\":\"overlay\",\"size\":10,\"solidity\":0.2}},\"type\":\"bar\"}],\"carpet\":[{\"aaxis\":{\"endlinecolor\":\"#2a3f5f\",\"gridcolor\":\"white\",\"linecolor\":\"white\",\"minorgridcolor\":\"white\",\"startlinecolor\":\"#2a3f5f\"},\"baxis\":{\"endlinecolor\":\"#2a3f5f\",\"gridcolor\":\"white\",\"linecolor\":\"white\",\"minorgridcolor\":\"white\",\"startlinecolor\":\"#2a3f5f\"},\"type\":\"carpet\"}],\"choropleth\":[{\"colorbar\":{\"outlinewidth\":0,\"ticks\":\"\"},\"type\":\"choropleth\"}],\"contourcarpet\":[{\"colorbar\":{\"outlinewidth\":0,\"ticks\":\"\"},\"type\":\"contourcarpet\"}],\"contour\":[{\"colorbar\":{\"outlinewidth\":0,\"ticks\":\"\"},\"colorscale\":[[0.0,\"#0d0887\"],[0.1111111111111111,\"#46039f\"],[0.2222222222222222,\"#7201a8\"],[0.3333333333333333,\"#9c179e\"],[0.4444444444444444,\"#bd3786\"],[0.5555555555555556,\"#d8576b\"],[0.6666666666666666,\"#ed7953\"],[0.7777777777777778,\"#fb9f3a\"],[0.8888888888888888,\"#fdca26\"],[1.0,\"#f0f921\"]],\"type\":\"contour\"}],\"heatmapgl\":[{\"colorbar\":{\"outlinewidth\":0,\"ticks\":\"\"},\"colorscale\":[[0.0,\"#0d0887\"],[0.1111111111111111,\"#46039f\"],[0.2222222222222222,\"#7201a8\"],[0.3333333333333333,\"#9c179e\"],[0.4444444444444444,\"#bd3786\"],[0.5555555555555556,\"#d8576b\"],[0.6666666666666666,\"#ed7953\"],[0.7777777777777778,\"#fb9f3a\"],[0.8888888888888888,\"#fdca26\"],[1.0,\"#f0f921\"]],\"type\":\"heatmapgl\"}],\"heatmap\":[{\"colorbar\":{\"outlinewidth\":0,\"ticks\":\"\"},\"colorscale\":[[0.0,\"#0d0887\"],[0.1111111111111111,\"#46039f\"],[0.2222222222222222,\"#7201a8\"],[0.3333333333333333,\"#9c179e\"],[0.4444444444444444,\"#bd3786\"],[0.5555555555555556,\"#d8576b\"],[0.6666666666666666,\"#ed7953\"],[0.7777777777777778,\"#fb9f3a\"],[0.8888888888888888,\"#fdca26\"],[1.0,\"#f0f921\"]],\"type\":\"heatmap\"}],\"histogram2dcontour\":[{\"colorbar\":{\"outlinewidth\":0,\"ticks\":\"\"},\"colorscale\":[[0.0,\"#0d0887\"],[0.1111111111111111,\"#46039f\"],[0.2222222222222222,\"#7201a8\"],[0.3333333333333333,\"#9c179e\"],[0.4444444444444444,\"#bd3786\"],[0.5555555555555556,\"#d8576b\"],[0.6666666666666666,\"#ed7953\"],[0.7777777777777778,\"#fb9f3a\"],[0.8888888888888888,\"#fdca26\"],[1.0,\"#f0f921\"]],\"type\":\"histogram2dcontour\"}],\"histogram2d\":[{\"colorbar\":{\"outlinewidth\":0,\"ticks\":\"\"},\"colorscale\":[[0.0,\"#0d0887\"],[0.1111111111111111,\"#46039f\"],[0.2222222222222222,\"#7201a8\"],[0.3333333333333333,\"#9c179e\"],[0.4444444444444444,\"#bd3786\"],[0.5555555555555556,\"#d8576b\"],[0.6666666666666666,\"#ed7953\"],[0.7777777777777778,\"#fb9f3a\"],[0.8888888888888888,\"#fdca26\"],[1.0,\"#f0f921\"]],\"type\":\"histogram2d\"}],\"histogram\":[{\"marker\":{\"pattern\":{\"fillmode\":\"overlay\",\"size\":10,\"solidity\":0.2}},\"type\":\"histogram\"}],\"mesh3d\":[{\"colorbar\":{\"outlinewidth\":0,\"ticks\":\"\"},\"type\":\"mesh3d\"}],\"parcoords\":[{\"line\":{\"colorbar\":{\"outlinewidth\":0,\"ticks\":\"\"}},\"type\":\"parcoords\"}],\"pie\":[{\"automargin\":true,\"type\":\"pie\"}],\"scatter3d\":[{\"line\":{\"colorbar\":{\"outlinewidth\":0,\"ticks\":\"\"}},\"marker\":{\"colorbar\":{\"outlinewidth\":0,\"ticks\":\"\"}},\"type\":\"scatter3d\"}],\"scattercarpet\":[{\"marker\":{\"colorbar\":{\"outlinewidth\":0,\"ticks\":\"\"}},\"type\":\"scattercarpet\"}],\"scattergeo\":[{\"marker\":{\"colorbar\":{\"outlinewidth\":0,\"ticks\":\"\"}},\"type\":\"scattergeo\"}],\"scattergl\":[{\"marker\":{\"colorbar\":{\"outlinewidth\":0,\"ticks\":\"\"}},\"type\":\"scattergl\"}],\"scattermapbox\":[{\"marker\":{\"colorbar\":{\"outlinewidth\":0,\"ticks\":\"\"}},\"type\":\"scattermapbox\"}],\"scatterpolargl\":[{\"marker\":{\"colorbar\":{\"outlinewidth\":0,\"ticks\":\"\"}},\"type\":\"scatterpolargl\"}],\"scatterpolar\":[{\"marker\":{\"colorbar\":{\"outlinewidth\":0,\"ticks\":\"\"}},\"type\":\"scatterpolar\"}],\"scatter\":[{\"marker\":{\"colorbar\":{\"outlinewidth\":0,\"ticks\":\"\"}},\"type\":\"scatter\"}],\"scatterternary\":[{\"marker\":{\"colorbar\":{\"outlinewidth\":0,\"ticks\":\"\"}},\"type\":\"scatterternary\"}],\"surface\":[{\"colorbar\":{\"outlinewidth\":0,\"ticks\":\"\"},\"colorscale\":[[0.0,\"#0d0887\"],[0.1111111111111111,\"#46039f\"],[0.2222222222222222,\"#7201a8\"],[0.3333333333333333,\"#9c179e\"],[0.4444444444444444,\"#bd3786\"],[0.5555555555555556,\"#d8576b\"],[0.6666666666666666,\"#ed7953\"],[0.7777777777777778,\"#fb9f3a\"],[0.8888888888888888,\"#fdca26\"],[1.0,\"#f0f921\"]],\"type\":\"surface\"}],\"table\":[{\"cells\":{\"fill\":{\"color\":\"#EBF0F8\"},\"line\":{\"color\":\"white\"}},\"header\":{\"fill\":{\"color\":\"#C8D4E3\"},\"line\":{\"color\":\"white\"}},\"type\":\"table\"}]},\"layout\":{\"annotationdefaults\":{\"arrowcolor\":\"#2a3f5f\",\"arrowhead\":0,\"arrowwidth\":1},\"autotypenumbers\":\"strict\",\"coloraxis\":{\"colorbar\":{\"outlinewidth\":0,\"ticks\":\"\"}},\"colorscale\":{\"diverging\":[[0,\"#8e0152\"],[0.1,\"#c51b7d\"],[0.2,\"#de77ae\"],[0.3,\"#f1b6da\"],[0.4,\"#fde0ef\"],[0.5,\"#f7f7f7\"],[0.6,\"#e6f5d0\"],[0.7,\"#b8e186\"],[0.8,\"#7fbc41\"],[0.9,\"#4d9221\"],[1,\"#276419\"]],\"sequential\":[[0.0,\"#0d0887\"],[0.1111111111111111,\"#46039f\"],[0.2222222222222222,\"#7201a8\"],[0.3333333333333333,\"#9c179e\"],[0.4444444444444444,\"#bd3786\"],[0.5555555555555556,\"#d8576b\"],[0.6666666666666666,\"#ed7953\"],[0.7777777777777778,\"#fb9f3a\"],[0.8888888888888888,\"#fdca26\"],[1.0,\"#f0f921\"]],\"sequentialminus\":[[0.0,\"#0d0887\"],[0.1111111111111111,\"#46039f\"],[0.2222222222222222,\"#7201a8\"],[0.3333333333333333,\"#9c179e\"],[0.4444444444444444,\"#bd3786\"],[0.5555555555555556,\"#d8576b\"],[0.6666666666666666,\"#ed7953\"],[0.7777777777777778,\"#fb9f3a\"],[0.8888888888888888,\"#fdca26\"],[1.0,\"#f0f921\"]]},\"colorway\":[\"#636efa\",\"#EF553B\",\"#00cc96\",\"#ab63fa\",\"#FFA15A\",\"#19d3f3\",\"#FF6692\",\"#B6E880\",\"#FF97FF\",\"#FECB52\"],\"font\":{\"color\":\"#2a3f5f\"},\"geo\":{\"bgcolor\":\"white\",\"lakecolor\":\"white\",\"landcolor\":\"#E5ECF6\",\"showlakes\":true,\"showland\":true,\"subunitcolor\":\"white\"},\"hoverlabel\":{\"align\":\"left\"},\"hovermode\":\"closest\",\"mapbox\":{\"style\":\"light\"},\"paper_bgcolor\":\"white\",\"plot_bgcolor\":\"#E5ECF6\",\"polar\":{\"angularaxis\":{\"gridcolor\":\"white\",\"linecolor\":\"white\",\"ticks\":\"\"},\"bgcolor\":\"#E5ECF6\",\"radialaxis\":{\"gridcolor\":\"white\",\"linecolor\":\"white\",\"ticks\":\"\"}},\"scene\":{\"xaxis\":{\"backgroundcolor\":\"#E5ECF6\",\"gridcolor\":\"white\",\"gridwidth\":2,\"linecolor\":\"white\",\"showbackground\":true,\"ticks\":\"\",\"zerolinecolor\":\"white\"},\"yaxis\":{\"backgroundcolor\":\"#E5ECF6\",\"gridcolor\":\"white\",\"gridwidth\":2,\"linecolor\":\"white\",\"showbackground\":true,\"ticks\":\"\",\"zerolinecolor\":\"white\"},\"zaxis\":{\"backgroundcolor\":\"#E5ECF6\",\"gridcolor\":\"white\",\"gridwidth\":2,\"linecolor\":\"white\",\"showbackground\":true,\"ticks\":\"\",\"zerolinecolor\":\"white\"}},\"shapedefaults\":{\"line\":{\"color\":\"#2a3f5f\"}},\"ternary\":{\"aaxis\":{\"gridcolor\":\"white\",\"linecolor\":\"white\",\"ticks\":\"\"},\"baxis\":{\"gridcolor\":\"white\",\"linecolor\":\"white\",\"ticks\":\"\"},\"bgcolor\":\"#E5ECF6\",\"caxis\":{\"gridcolor\":\"white\",\"linecolor\":\"white\",\"ticks\":\"\"}},\"title\":{\"x\":0.05},\"xaxis\":{\"automargin\":true,\"gridcolor\":\"white\",\"linecolor\":\"white\",\"ticks\":\"\",\"title\":{\"standoff\":15},\"zerolinecolor\":\"white\",\"zerolinewidth\":2},\"yaxis\":{\"automargin\":true,\"gridcolor\":\"white\",\"linecolor\":\"white\",\"ticks\":\"\",\"title\":{\"standoff\":15},\"zerolinecolor\":\"white\",\"zerolinewidth\":2}}},\"title\":{\"text\":\"Proportion of Show types\"},\"width\":500},                        {\"responsive\": true}                    ).then(function(){\n",
              "                            \n",
              "var gd = document.getElementById('acd3a133-1e32-41e1-a7bf-61c9c42c592f');\n",
              "var x = new MutationObserver(function (mutations, observer) {{\n",
              "        var display = window.getComputedStyle(gd).display;\n",
              "        if (!display || display === 'none') {{\n",
              "            console.log([gd, 'removed!']);\n",
              "            Plotly.purge(gd);\n",
              "            observer.disconnect();\n",
              "        }}\n",
              "}});\n",
              "\n",
              "// Listen for the removal of the full notebook cells\n",
              "var notebookContainer = gd.closest('#notebook-container');\n",
              "if (notebookContainer) {{\n",
              "    x.observe(notebookContainer, {childList: true});\n",
              "}}\n",
              "\n",
              "// Listen for the clearing of the current output cell\n",
              "var outputEl = gd.closest('.output');\n",
              "if (outputEl) {{\n",
              "    x.observe(outputEl, {childList: true});\n",
              "}}\n",
              "\n",
              "                        })                };                            </script>        </div>\n",
              "</body>\n",
              "</html>"
            ]
          },
          "metadata": {}
        }
      ]
    },
    {
      "cell_type": "markdown",
      "source": [
        "- 71% of the Netflix shows are Movie and 29% are TV Show."
      ],
      "metadata": {
        "id": "cwzzv6Cx5qon"
      }
    },
    {
      "cell_type": "code",
      "source": [
        "# Rating insights\n",
        "\n",
        "df['rating'].value_counts().to_frame()"
      ],
      "metadata": {
        "colab": {
          "base_uri": "https://localhost:8080/",
          "height": 488
        },
        "id": "lOJW4efS7jFD",
        "outputId": "af722ec8-cb76-454b-9330-daf5f516346a"
      },
      "execution_count": 15,
      "outputs": [
        {
          "output_type": "execute_result",
          "data": {
            "text/plain": [
              "          rating\n",
              "TV-MA       2870\n",
              "TV-14       1931\n",
              "TV-PG        806\n",
              "R            665\n",
              "PG-13        386\n",
              "TV-Y         280\n",
              "TV-Y7        271\n",
              "PG           247\n",
              "TV-G         194\n",
              "NR            84\n",
              "G             39\n",
              "TV-Y7-FV       6\n",
              "UR             5\n",
              "NC-17          3"
            ],
            "text/html": [
              "\n",
              "  <div id=\"df-832489ca-9a67-4623-b4f2-4304aca646d6\">\n",
              "    <div class=\"colab-df-container\">\n",
              "      <div>\n",
              "<style scoped>\n",
              "    .dataframe tbody tr th:only-of-type {\n",
              "        vertical-align: middle;\n",
              "    }\n",
              "\n",
              "    .dataframe tbody tr th {\n",
              "        vertical-align: top;\n",
              "    }\n",
              "\n",
              "    .dataframe thead th {\n",
              "        text-align: right;\n",
              "    }\n",
              "</style>\n",
              "<table border=\"1\" class=\"dataframe\">\n",
              "  <thead>\n",
              "    <tr style=\"text-align: right;\">\n",
              "      <th></th>\n",
              "      <th>rating</th>\n",
              "    </tr>\n",
              "  </thead>\n",
              "  <tbody>\n",
              "    <tr>\n",
              "      <th>TV-MA</th>\n",
              "      <td>2870</td>\n",
              "    </tr>\n",
              "    <tr>\n",
              "      <th>TV-14</th>\n",
              "      <td>1931</td>\n",
              "    </tr>\n",
              "    <tr>\n",
              "      <th>TV-PG</th>\n",
              "      <td>806</td>\n",
              "    </tr>\n",
              "    <tr>\n",
              "      <th>R</th>\n",
              "      <td>665</td>\n",
              "    </tr>\n",
              "    <tr>\n",
              "      <th>PG-13</th>\n",
              "      <td>386</td>\n",
              "    </tr>\n",
              "    <tr>\n",
              "      <th>TV-Y</th>\n",
              "      <td>280</td>\n",
              "    </tr>\n",
              "    <tr>\n",
              "      <th>TV-Y7</th>\n",
              "      <td>271</td>\n",
              "    </tr>\n",
              "    <tr>\n",
              "      <th>PG</th>\n",
              "      <td>247</td>\n",
              "    </tr>\n",
              "    <tr>\n",
              "      <th>TV-G</th>\n",
              "      <td>194</td>\n",
              "    </tr>\n",
              "    <tr>\n",
              "      <th>NR</th>\n",
              "      <td>84</td>\n",
              "    </tr>\n",
              "    <tr>\n",
              "      <th>G</th>\n",
              "      <td>39</td>\n",
              "    </tr>\n",
              "    <tr>\n",
              "      <th>TV-Y7-FV</th>\n",
              "      <td>6</td>\n",
              "    </tr>\n",
              "    <tr>\n",
              "      <th>UR</th>\n",
              "      <td>5</td>\n",
              "    </tr>\n",
              "    <tr>\n",
              "      <th>NC-17</th>\n",
              "      <td>3</td>\n",
              "    </tr>\n",
              "  </tbody>\n",
              "</table>\n",
              "</div>\n",
              "      <button class=\"colab-df-convert\" onclick=\"convertToInteractive('df-832489ca-9a67-4623-b4f2-4304aca646d6')\"\n",
              "              title=\"Convert this dataframe to an interactive table.\"\n",
              "              style=\"display:none;\">\n",
              "        \n",
              "  <svg xmlns=\"http://www.w3.org/2000/svg\" height=\"24px\"viewBox=\"0 0 24 24\"\n",
              "       width=\"24px\">\n",
              "    <path d=\"M0 0h24v24H0V0z\" fill=\"none\"/>\n",
              "    <path d=\"M18.56 5.44l.94 2.06.94-2.06 2.06-.94-2.06-.94-.94-2.06-.94 2.06-2.06.94zm-11 1L8.5 8.5l.94-2.06 2.06-.94-2.06-.94L8.5 2.5l-.94 2.06-2.06.94zm10 10l.94 2.06.94-2.06 2.06-.94-2.06-.94-.94-2.06-.94 2.06-2.06.94z\"/><path d=\"M17.41 7.96l-1.37-1.37c-.4-.4-.92-.59-1.43-.59-.52 0-1.04.2-1.43.59L10.3 9.45l-7.72 7.72c-.78.78-.78 2.05 0 2.83L4 21.41c.39.39.9.59 1.41.59.51 0 1.02-.2 1.41-.59l7.78-7.78 2.81-2.81c.8-.78.8-2.07 0-2.86zM5.41 20L4 18.59l7.72-7.72 1.47 1.35L5.41 20z\"/>\n",
              "  </svg>\n",
              "      </button>\n",
              "      \n",
              "  <style>\n",
              "    .colab-df-container {\n",
              "      display:flex;\n",
              "      flex-wrap:wrap;\n",
              "      gap: 12px;\n",
              "    }\n",
              "\n",
              "    .colab-df-convert {\n",
              "      background-color: #E8F0FE;\n",
              "      border: none;\n",
              "      border-radius: 50%;\n",
              "      cursor: pointer;\n",
              "      display: none;\n",
              "      fill: #1967D2;\n",
              "      height: 32px;\n",
              "      padding: 0 0 0 0;\n",
              "      width: 32px;\n",
              "    }\n",
              "\n",
              "    .colab-df-convert:hover {\n",
              "      background-color: #E2EBFA;\n",
              "      box-shadow: 0px 1px 2px rgba(60, 64, 67, 0.3), 0px 1px 3px 1px rgba(60, 64, 67, 0.15);\n",
              "      fill: #174EA6;\n",
              "    }\n",
              "\n",
              "    [theme=dark] .colab-df-convert {\n",
              "      background-color: #3B4455;\n",
              "      fill: #D2E3FC;\n",
              "    }\n",
              "\n",
              "    [theme=dark] .colab-df-convert:hover {\n",
              "      background-color: #434B5C;\n",
              "      box-shadow: 0px 1px 3px 1px rgba(0, 0, 0, 0.15);\n",
              "      filter: drop-shadow(0px 1px 2px rgba(0, 0, 0, 0.3));\n",
              "      fill: #FFFFFF;\n",
              "    }\n",
              "  </style>\n",
              "\n",
              "      <script>\n",
              "        const buttonEl =\n",
              "          document.querySelector('#df-832489ca-9a67-4623-b4f2-4304aca646d6 button.colab-df-convert');\n",
              "        buttonEl.style.display =\n",
              "          google.colab.kernel.accessAllowed ? 'block' : 'none';\n",
              "\n",
              "        async function convertToInteractive(key) {\n",
              "          const element = document.querySelector('#df-832489ca-9a67-4623-b4f2-4304aca646d6');\n",
              "          const dataTable =\n",
              "            await google.colab.kernel.invokeFunction('convertToInteractive',\n",
              "                                                     [key], {});\n",
              "          if (!dataTable) return;\n",
              "\n",
              "          const docLinkHtml = 'Like what you see? Visit the ' +\n",
              "            '<a target=\"_blank\" href=https://colab.research.google.com/notebooks/data_table.ipynb>data table notebook</a>'\n",
              "            + ' to learn more about interactive tables.';\n",
              "          element.innerHTML = '';\n",
              "          dataTable['output_type'] = 'display_data';\n",
              "          await google.colab.output.renderOutput(dataTable, element);\n",
              "          const docLink = document.createElement('div');\n",
              "          docLink.innerHTML = docLinkHtml;\n",
              "          element.appendChild(docLink);\n",
              "        }\n",
              "      </script>\n",
              "    </div>\n",
              "  </div>\n",
              "  "
            ]
          },
          "metadata": {},
          "execution_count": 15
        }
      ]
    },
    {
      "cell_type": "code",
      "source": [
        "# Show type vs Rating\n",
        "\n",
        "type_TvShow = df[df['type'] == 'TV Show']['rating']\n",
        "trace0 = go.Box(y = type_TvShow, name = 'Rating of TV Shows',\n",
        "              marker = dict(color = 'rgb(214, 12, 140)',))\n",
        "\n",
        "type_Movie = df[df['type'] == 'Movie']['rating']\n",
        "trace1 = go.Box(y = type_Movie, name = 'Rating of Movies',\n",
        "              marker = dict(color = 'rgb(0, 128, 128)',))\n",
        "\n",
        "layout = go.Layout(title = 'Box Plots of Netflix Shows',width = 800, height = 500)\n",
        "\n",
        "data = [trace0, trace1]\n",
        "fig = go.Figure(data = data, layout = layout)\n",
        "py.iplot(fig)"
      ],
      "metadata": {
        "colab": {
          "base_uri": "https://localhost:8080/",
          "height": 517
        },
        "id": "GO3Hn625524c",
        "outputId": "10f0e185-e69a-4365-cc34-00aabbefb32e"
      },
      "execution_count": 16,
      "outputs": [
        {
          "output_type": "display_data",
          "data": {
            "text/html": [
              "<html>\n",
              "<head><meta charset=\"utf-8\" /></head>\n",
              "<body>\n",
              "    <div>            <script src=\"https://cdnjs.cloudflare.com/ajax/libs/mathjax/2.7.5/MathJax.js?config=TeX-AMS-MML_SVG\"></script><script type=\"text/javascript\">if (window.MathJax) {MathJax.Hub.Config({SVG: {font: \"STIX-Web\"}});}</script>                <script type=\"text/javascript\">window.PlotlyConfig = {MathJaxConfig: 'local'};</script>\n",
              "        <script src=\"https://cdn.plot.ly/plotly-2.8.3.min.js\"></script>                <div id=\"84050a30-833b-40c5-bb9c-47216def1d45\" class=\"plotly-graph-div\" style=\"height:500px; width:800px;\"></div>            <script type=\"text/javascript\">                                    window.PLOTLYENV=window.PLOTLYENV || {};                                    if (document.getElementById(\"84050a30-833b-40c5-bb9c-47216def1d45\")) {                    Plotly.newPlot(                        \"84050a30-833b-40c5-bb9c-47216def1d45\",                        [{\"marker\":{\"color\":\"rgb(214, 12, 140)\"},\"name\":\"Rating of TV Shows\",\"y\":[\"TV-MA\",\"TV-MA\",\"TV-MA\",\"TV-MA\",\"TV-14\",\"TV-14\",\"TV-MA\",\"TV-MA\",\"TV-14\",\"TV-MA\",\"TV-14\",\"TV-14\",\"TV-14\",\"TV-14\",\"TV-MA\",\"TV-MA\",\"TV-MA\",\"TV-MA\",\"TV-14\",\"TV-MA\",\"TV-PG\",\"TV-Y7\",\"TV-Y7\",\"TV-MA\",\"TV-MA\",\"TV-14\",\"TV-PG\",\"TV-PG\",\"TV-14\",\"TV-14\",\"TV-PG\",\"TV-MA\",\"TV-PG\",\"TV-MA\",\"TV-14\",\"TV-PG\",\"TV-MA\",\"TV-14\",\"TV-G\",\"TV-G\",\"TV-PG\",\"TV-14\",\"TV-14\",\"TV-14\",\"TV-PG\",\"TV-MA\",\"TV-14\",\"TV-MA\",\"TV-MA\",\"TV-PG\",\"TV-MA\",\"TV-14\",\"TV-14\",\"TV-Y\",\"TV-PG\",\"TV-14\",\"TV-PG\",\"TV-14\",\"TV-14\",\"TV-MA\",\"TV-14\",\"TV-MA\",\"TV-PG\",\"TV-PG\",\"TV-MA\",\"TV-14\",\"TV-MA\",\"TV-MA\",\"TV-MA\",\"TV-PG\",\"TV-MA\",\"TV-14\",\"TV-14\",\"TV-14\",\"TV-MA\",\"TV-PG\",\"TV-14\",\"TV-PG\",\"TV-MA\",\"TV-14\",\"TV-G\",\"TV-14\",\"TV-14\",\"TV-G\",\"TV-MA\",\"TV-MA\",\"TV-Y7\",\"TV-PG\",\"TV-PG\",\"TV-14\",\"TV-MA\",\"TV-Y7\",\"TV-Y7\",\"TV-MA\",\"TV-14\",\"TV-Y\",\"TV-MA\",\"TV-14\",\"TV-PG\",\"TV-14\",\"TV-14\",\"TV-MA\",\"TV-MA\",\"TV-PG\",\"TV-MA\",\"TV-14\",\"TV-MA\",\"TV-MA\",\"TV-14\",\"TV-14\",\"TV-14\",\"TV-PG\",\"TV-Y7\",\"TV-MA\",\"TV-14\",\"TV-14\",\"TV-PG\",\"TV-14\",\"TV-MA\",\"TV-MA\",\"TV-MA\",\"TV-PG\",\"TV-Y7\",\"TV-MA\",\"TV-MA\",\"TV-MA\",\"TV-PG\",\"TV-Y7\",\"TV-14\",\"TV-MA\",\"TV-MA\",\"TV-MA\",\"TV-MA\",\"TV-14\",\"TV-MA\",\"TV-MA\",\"TV-14\",\"TV-PG\",\"TV-Y\",\"TV-MA\",\"TV-14\",\"TV-PG\",\"TV-Y7\",\"TV-MA\",\"TV-14\",\"TV-MA\",\"TV-MA\",\"TV-14\",\"TV-Y7\",\"TV-PG\",\"TV-14\",\"TV-PG\",\"TV-MA\",\"TV-14\",\"TV-MA\",\"TV-MA\",\"TV-MA\",\"TV-MA\",\"TV-PG\",\"TV-MA\",\"TV-MA\",\"TV-14\",\"TV-MA\",\"TV-MA\",\"TV-MA\",\"TV-14\",\"TV-MA\",\"TV-MA\",\"TV-Y7\",\"TV-PG\",\"TV-Y7\",\"TV-MA\",\"TV-MA\",\"TV-MA\",\"TV-14\",\"TV-14\",\"TV-14\",\"TV-14\",\"TV-MA\",\"TV-Y\",\"TV-Y\",\"TV-Y\",\"TV-MA\",\"TV-PG\",\"TV-Y\",\"TV-MA\",\"TV-14\",\"TV-PG\",\"TV-MA\",\"TV-PG\",\"TV-14\",\"TV-Y\",\"TV-PG\",\"TV-MA\",\"TV-Y\",\"TV-14\",\"TV-14\",\"TV-MA\",\"TV-14\",\"TV-G\",\"TV-MA\",\"TV-14\",\"TV-MA\",\"TV-MA\",\"TV-14\",\"TV-G\",\"TV-Y\",\"TV-Y7\",\"TV-G\",\"TV-14\",\"TV-PG\",\"TV-MA\",\"TV-MA\",\"TV-MA\",\"TV-14\",\"TV-Y7\",\"TV-Y\",\"TV-Y7\",\"TV-Y7\",\"TV-Y7\",\"TV-14\",\"TV-PG\",\"TV-MA\",\"TV-14\",\"TV-PG\",\"TV-G\",\"TV-G\",\"TV-MA\",\"TV-14\",\"TV-14\",\"TV-MA\",\"TV-MA\",\"TV-MA\",\"TV-MA\",\"TV-14\",\"TV-MA\",\"TV-14\",\"TV-14\",\"TV-14\",\"TV-MA\",\"TV-MA\",\"TV-MA\",\"TV-MA\",\"TV-MA\",\"TV-14\",\"TV-MA\",\"TV-14\",\"TV-MA\",\"TV-MA\",\"TV-MA\",\"TV-MA\",\"TV-MA\",\"TV-14\",\"TV-MA\",\"TV-G\",\"TV-14\",\"TV-Y\",\"TV-G\",\"TV-MA\",\"TV-PG\",\"TV-MA\",\"TV-MA\",\"TV-PG\",\"TV-MA\",\"TV-MA\",\"TV-Y7\",\"TV-Y\",\"TV-PG\",\"TV-14\",\"TV-14\",\"TV-MA\",\"TV-MA\",\"TV-MA\",\"TV-MA\",\"TV-MA\",\"TV-Y7\",\"TV-14\",\"TV-14\",\"TV-G\",\"TV-G\",\"TV-14\",\"TV-PG\",\"TV-Y\",\"TV-MA\",\"TV-MA\",\"TV-MA\",\"TV-14\",\"TV-MA\",\"TV-MA\",\"TV-MA\",\"TV-14\",\"TV-14\",\"TV-MA\",\"TV-14\",\"TV-PG\",\"TV-MA\",\"TV-14\",\"TV-PG\",\"TV-Y\",\"TV-Y7\",\"TV-MA\",\"TV-G\",\"TV-PG\",\"TV-MA\",\"TV-MA\",\"TV-14\",\"TV-PG\",\"TV-MA\",\"TV-MA\",\"TV-MA\",\"TV-Y\",\"TV-Y\",\"TV-MA\",\"TV-14\",\"TV-MA\",\"TV-MA\",\"TV-14\",\"TV-14\",\"TV-MA\",\"TV-14\",\"TV-MA\",\"TV-MA\",\"TV-MA\",\"TV-MA\",\"TV-MA\",\"TV-MA\",\"TV-PG\",\"TV-Y7\",\"TV-Y\",\"TV-Y\",\"TV-14\",\"TV-Y7\",\"TV-MA\",\"TV-MA\",\"TV-14\",\"TV-MA\",\"TV-MA\",\"TV-MA\",\"TV-MA\",\"TV-MA\",\"TV-PG\",\"TV-14\",\"TV-MA\",\"TV-14\",\"TV-MA\",\"TV-MA\",\"TV-Y\",\"TV-14\",\"TV-14\",\"TV-PG\",\"TV-14\",\"TV-14\",\"TV-MA\",\"TV-PG\",\"TV-PG\",\"TV-14\",\"TV-PG\",\"TV-MA\",\"TV-14\",\"TV-14\",\"TV-MA\",\"TV-MA\",\"TV-MA\",\"TV-14\",\"TV-MA\",\"TV-Y\",\"TV-Y7\",\"TV-14\",\"TV-MA\",\"TV-Y\",\"TV-14\",\"TV-14\",\"TV-14\",\"TV-G\",\"TV-14\",\"TV-Y\",\"TV-14\",\"TV-14\",\"TV-MA\",\"TV-Y\",\"TV-Y\",\"TV-Y7\",\"TV-MA\",\"TV-PG\",\"TV-14\",\"TV-PG\",\"TV-14\",\"TV-PG\",\"TV-PG\",\"TV-14\",\"TV-PG\",\"TV-PG\",\"TV-Y\",\"TV-MA\",\"TV-14\",\"TV-14\",\"TV-MA\",\"TV-MA\",\"TV-MA\",\"TV-MA\",\"TV-MA\",\"TV-MA\",\"TV-MA\",\"TV-MA\",\"TV-MA\",\"TV-14\",\"TV-14\",\"TV-MA\",\"TV-Y\",\"TV-Y\",\"TV-MA\",\"TV-Y7\",\"TV-14\",\"TV-MA\",\"TV-MA\",\"TV-MA\",\"TV-14\",\"TV-PG\",\"TV-14\",\"TV-MA\",\"TV-14\",\"TV-14\",\"TV-14\",\"TV-14\",\"TV-14\",\"TV-14\",\"TV-MA\",\"TV-MA\",\"TV-MA\",\"TV-14\",\"TV-MA\",\"TV-MA\",\"TV-PG\",\"TV-PG\",\"TV-MA\",\"TV-14\",\"TV-MA\",\"TV-PG\",\"TV-MA\",\"TV-MA\",\"TV-MA\",\"TV-Y\",\"TV-PG\",\"TV-MA\",\"TV-MA\",\"TV-MA\",\"TV-MA\",\"TV-14\",\"TV-MA\",\"TV-MA\",\"TV-MA\",\"TV-MA\",\"TV-MA\",\"TV-Y7\",\"TV-MA\",\"TV-MA\",\"TV-MA\",\"TV-14\",\"TV-14\",\"TV-PG\",\"TV-PG\",\"TV-MA\",\"TV-Y\",\"TV-PG\",\"TV-PG\",\"TV-14\",\"TV-MA\",\"TV-Y7\",\"TV-Y\",\"TV-MA\",\"TV-MA\",\"TV-MA\",\"TV-MA\",\"TV-MA\",\"TV-PG\",\"TV-MA\",\"TV-MA\",\"TV-14\",\"TV-MA\",\"TV-14\",\"TV-14\",\"TV-MA\",\"TV-MA\",\"TV-14\",\"TV-Y7\",\"TV-14\",\"TV-MA\",\"TV-MA\",\"TV-MA\",\"TV-Y7\",\"TV-14\",\"TV-MA\",\"TV-MA\",\"TV-MA\",\"TV-MA\",\"TV-MA\",\"TV-MA\",\"TV-PG\",\"TV-MA\",\"TV-MA\",\"TV-14\",\"TV-MA\",\"TV-14\",\"TV-14\",\"TV-Y\",\"TV-MA\",\"TV-MA\",\"TV-MA\",\"TV-14\",\"TV-MA\",\"TV-MA\",\"TV-PG\",\"TV-MA\",\"TV-PG\",\"TV-14\",\"TV-MA\",\"TV-14\",\"TV-MA\",\"TV-PG\",\"TV-MA\",\"TV-Y7\",\"TV-G\",\"TV-Y7\",\"TV-Y7\",\"TV-Y7\",\"TV-MA\",\"TV-MA\",\"TV-MA\",\"TV-14\",\"TV-MA\",\"TV-MA\",\"TV-14\",\"TV-MA\",\"TV-14\",\"TV-PG\",\"TV-MA\",\"TV-MA\",\"TV-14\",\"TV-MA\",\"TV-14\",\"TV-MA\",\"TV-MA\",\"TV-PG\",\"TV-14\",\"TV-14\",\"TV-MA\",\"TV-Y7\",\"TV-Y\",\"TV-14\",\"TV-G\",\"TV-PG\",\"TV-PG\",\"TV-PG\",\"TV-PG\",\"TV-PG\",\"TV-PG\",\"TV-PG\",\"TV-14\",\"TV-MA\",\"TV-MA\",\"TV-MA\",\"TV-MA\",\"TV-14\",\"TV-MA\",\"TV-14\",\"TV-Y\",\"TV-PG\",\"TV-14\",\"TV-MA\",\"TV-MA\",\"TV-MA\",\"TV-Y7\",\"TV-G\",\"TV-MA\",\"TV-MA\",\"NR\",\"TV-MA\",\"TV-MA\",\"TV-MA\",\"TV-PG\",\"TV-14\",\"TV-MA\",\"TV-MA\",\"TV-MA\",\"TV-MA\",\"TV-MA\",\"TV-MA\",\"TV-MA\",\"TV-MA\",\"TV-MA\",\"TV-Y\",\"TV-PG\",\"TV-14\",\"TV-MA\",\"TV-14\",\"TV-MA\",\"TV-MA\",\"TV-14\",\"TV-MA\",\"TV-Y7\",\"TV-MA\",\"TV-14\",\"TV-14\",\"TV-14\",\"TV-MA\",\"TV-14\",\"TV-PG\",\"TV-Y7\",\"TV-PG\",\"TV-14\",\"TV-14\",\"TV-MA\",\"TV-14\",\"TV-MA\",\"TV-14\",\"TV-MA\",\"TV-MA\",\"TV-MA\",\"TV-MA\",\"TV-MA\",\"TV-14\",\"TV-14\",\"TV-MA\",\"TV-MA\",\"TV-MA\",\"TV-G\",\"TV-14\",\"TV-MA\",\"TV-MA\",\"TV-MA\",\"TV-MA\",\"TV-PG\",\"TV-Y7\",\"TV-14\",\"TV-MA\",\"TV-Y7\",\"TV-MA\",\"TV-MA\",\"TV-MA\",\"TV-MA\",\"TV-14\",\"TV-MA\",\"TV-14\",\"TV-MA\",\"TV-MA\",\"TV-MA\",\"TV-MA\",\"TV-MA\",\"TV-14\",\"TV-MA\",\"TV-14\",\"TV-PG\",\"TV-14\",\"TV-MA\",\"TV-Y\",\"TV-MA\",\"TV-PG\",\"TV-14\",\"TV-MA\",\"TV-G\",\"TV-MA\",\"TV-G\",\"TV-PG\",\"TV-MA\",\"TV-PG\",\"TV-Y7\",\"TV-MA\",\"TV-MA\",\"TV-MA\",\"TV-MA\",\"TV-PG\",\"TV-14\",\"TV-14\",\"TV-PG\",\"TV-MA\",\"TV-14\",\"TV-14\",\"TV-MA\",\"TV-MA\",\"TV-MA\",\"TV-MA\",\"TV-PG\",\"TV-G\",\"TV-14\",\"TV-MA\",\"TV-PG\",\"TV-14\",\"TV-MA\",\"TV-MA\",\"TV-MA\",\"TV-PG\",\"TV-MA\",\"TV-Y\",\"TV-PG\",\"TV-14\",\"TV-14\",\"TV-Y\",\"TV-14\",\"TV-PG\",\"TV-G\",\"TV-MA\",\"TV-14\",\"TV-PG\",\"TV-MA\",\"TV-PG\",\"TV-PG\",\"TV-PG\",\"TV-MA\",\"TV-MA\",\"TV-Y\",\"TV-PG\",\"TV-PG\",\"TV-MA\",\"TV-14\",\"TV-14\",\"TV-MA\",\"TV-Y\",\"TV-14\",\"TV-14\",\"TV-MA\",\"TV-MA\",\"TV-MA\",\"TV-14\",\"TV-MA\",\"TV-MA\",\"TV-MA\",\"TV-PG\",\"TV-14\",\"TV-MA\",\"TV-Y7\",\"TV-Y7\",\"TV-Y7\",\"TV-MA\",\"TV-14\",\"TV-14\",\"TV-Y\",\"TV-PG\",\"TV-14\",\"TV-MA\",\"TV-14\",\"TV-MA\",\"TV-Y\",\"TV-MA\",\"TV-14\",\"TV-MA\",\"TV-14\",\"TV-MA\",\"TV-PG\",\"TV-14\",\"TV-14\",\"TV-G\",\"TV-Y\",\"TV-14\",\"TV-MA\",\"TV-MA\",\"TV-MA\",\"TV-PG\",\"TV-MA\",\"TV-14\",\"TV-PG\",\"TV-PG\",\"TV-14\",\"TV-MA\",\"TV-PG\",\"TV-14\",\"TV-MA\",\"TV-Y7\",\"TV-MA\",\"TV-PG\",\"TV-14\",\"TV-14\",\"TV-Y\",\"TV-14\",\"TV-14\",\"TV-Y7\",\"TV-MA\",\"TV-MA\",\"TV-PG\",\"TV-Y7\",\"TV-MA\",\"TV-MA\",\"TV-14\",\"TV-14\",\"TV-14\",\"TV-14\",\"TV-PG\",\"TV-MA\",\"TV-MA\",\"TV-14\",\"TV-14\",\"TV-MA\",\"TV-MA\",\"TV-MA\",\"TV-MA\",\"TV-MA\",\"TV-14\",\"TV-Y7\",\"TV-PG\",\"TV-Y7\",\"TV-MA\",\"TV-MA\",\"TV-Y\",\"TV-PG\",\"TV-14\",\"TV-MA\",\"TV-G\",\"TV-14\",\"TV-14\",\"TV-G\",\"TV-14\",\"TV-14\",\"TV-14\",\"TV-MA\",\"TV-MA\",\"TV-Y7\",\"TV-Y\",\"TV-MA\",\"TV-14\",\"TV-Y\",\"TV-MA\",\"TV-MA\",\"TV-G\",\"TV-MA\",\"TV-14\",\"TV-14\",\"TV-MA\",\"TV-14\",\"TV-14\",\"TV-MA\",\"TV-Y7\",\"TV-14\",\"TV-PG\",\"TV-14\",\"TV-MA\",\"TV-MA\",\"TV-PG\",\"TV-PG\",\"TV-Y7\",\"TV-14\",\"TV-MA\",\"TV-MA\",\"TV-MA\",\"TV-14\",\"TV-MA\",\"TV-PG\",\"TV-14\",\"TV-MA\",\"TV-PG\",\"TV-MA\",\"TV-Y\",\"TV-G\",\"TV-MA\",\"TV-MA\",\"TV-MA\",\"TV-MA\",\"TV-Y7\",\"TV-MA\",\"TV-MA\",\"TV-MA\",\"TV-MA\",\"TV-Y7\",\"TV-14\",\"TV-MA\",\"TV-MA\",\"TV-MA\",\"TV-14\",\"TV-Y7\",\"TV-MA\",\"TV-MA\",\"TV-14\",\"TV-MA\",\"TV-MA\",\"TV-MA\",\"TV-MA\",\"TV-PG\",\"TV-MA\",\"TV-14\",\"TV-Y7\",\"TV-MA\",\"TV-14\",\"TV-14\",\"TV-MA\",\"TV-PG\",\"TV-MA\",\"TV-MA\",\"TV-14\",\"TV-MA\",\"TV-14\",\"TV-14\",\"TV-MA\",\"TV-MA\",\"TV-MA\",\"TV-14\",\"TV-PG\",\"TV-PG\",\"TV-MA\",\"TV-G\",\"TV-MA\",\"TV-14\",\"TV-MA\",\"TV-MA\",\"TV-14\",\"TV-MA\",\"TV-PG\",\"TV-14\",\"TV-14\",\"TV-14\",\"TV-PG\",\"TV-14\",\"TV-MA\",\"TV-MA\",\"TV-14\",\"TV-MA\",\"TV-14\",\"TV-MA\",\"TV-MA\",\"TV-MA\",\"TV-14\",\"TV-MA\",\"TV-MA\",\"TV-14\",\"TV-14\",\"TV-MA\",\"TV-MA\",\"TV-Y7\",\"TV-MA\",\"TV-MA\",\"TV-MA\",\"TV-PG\",\"TV-MA\",\"TV-MA\",\"TV-MA\",\"TV-14\",\"TV-14\",\"TV-14\",\"TV-Y7\",\"TV-MA\",\"TV-PG\",\"TV-MA\",\"TV-MA\",\"TV-MA\",\"TV-MA\",\"TV-MA\",\"TV-Y\",\"TV-14\",\"TV-MA\",\"TV-MA\",\"TV-MA\",\"TV-14\",\"TV-MA\",\"TV-14\",\"TV-MA\",\"TV-G\",\"TV-MA\",\"TV-MA\",\"TV-G\",\"TV-14\",\"TV-14\",\"TV-MA\",\"TV-Y7\",\"TV-MA\",\"TV-Y7\",\"TV-MA\",\"TV-14\",\"TV-14\",\"TV-MA\",\"TV-MA\",\"TV-MA\",\"TV-14\",\"TV-G\",\"TV-Y\",\"TV-Y\",\"TV-G\",\"TV-14\",\"TV-PG\",\"TV-14\",\"TV-14\",\"TV-Y\",\"TV-Y\",\"TV-MA\",\"TV-PG\",\"TV-14\",\"TV-14\",\"TV-14\",\"TV-14\",\"TV-MA\",\"TV-MA\",\"TV-PG\",\"TV-MA\",\"TV-Y\",\"TV-MA\",\"TV-14\",\"TV-PG\",\"TV-PG\",\"TV-MA\",\"TV-MA\",\"TV-14\",\"TV-14\",\"TV-14\",\"TV-14\",\"TV-Y7\",\"TV-Y7\",\"TV-Y\",\"TV-Y\",\"TV-MA\",\"TV-MA\",\"TV-MA\",\"TV-MA\",\"TV-MA\",\"TV-14\",\"TV-MA\",\"TV-PG\",\"TV-MA\",\"TV-Y7\",\"TV-MA\",\"TV-14\",\"TV-MA\",\"TV-14\",\"TV-MA\",\"TV-MA\",\"TV-MA\",\"TV-MA\",\"TV-PG\",\"TV-Y7\",\"TV-Y\",\"TV-14\",\"TV-G\",\"TV-Y7\",\"TV-Y7\",\"TV-Y7\",\"TV-MA\",\"TV-14\",\"TV-14\",\"TV-14\",\"TV-MA\",\"TV-14\",\"TV-MA\",\"TV-14\",\"TV-14\",\"TV-14\",\"TV-MA\",\"TV-MA\",\"TV-MA\",\"TV-MA\",\"TV-MA\",\"TV-MA\",\"TV-MA\",\"TV-PG\",\"TV-14\",\"TV-MA\",\"TV-MA\",\"TV-14\",\"TV-14\",\"TV-MA\",\"TV-Y7\",\"TV-Y7\",\"TV-MA\",\"TV-14\",\"TV-MA\",\"TV-14\",\"TV-MA\",\"TV-14\",\"TV-14\",\"TV-14\",\"TV-Y\",\"TV-Y\",\"TV-14\",\"TV-Y7\",\"TV-Y7\",\"TV-PG\",\"TV-Y7\",\"TV-Y7\",\"TV-G\",\"TV-Y\",\"TV-Y7\",\"TV-Y\",\"TV-Y\",\"TV-Y7\",\"TV-Y7\",\"TV-Y\",\"TV-MA\",\"TV-MA\",\"TV-Y\",\"TV-MA\",\"TV-PG\",\"TV-14\",\"TV-MA\",\"TV-PG\",\"TV-MA\",\"TV-G\",\"TV-PG\",\"TV-14\",\"TV-14\",\"TV-MA\",\"TV-MA\",\"TV-MA\",\"TV-Y\",\"TV-MA\",\"TV-Y7\",\"TV-MA\",\"TV-Y7\",\"TV-Y7\",\"TV-G\",\"TV-MA\",\"TV-MA\",\"TV-MA\",\"TV-MA\",\"TV-Y\",\"TV-14\",\"TV-14\",\"TV-MA\",\"TV-14\",\"TV-MA\",\"TV-MA\",\"TV-Y\",\"TV-MA\",\"TV-MA\",\"TV-Y\",\"TV-MA\",\"TV-14\",\"TV-MA\",\"TV-G\",\"TV-14\",\"TV-PG\",\"TV-14\",\"TV-MA\",\"TV-14\",\"TV-MA\",\"TV-MA\",\"TV-MA\",\"TV-MA\",\"TV-PG\",\"TV-14\",\"TV-14\",\"TV-MA\",\"TV-MA\",\"TV-14\",\"TV-14\",\"TV-PG\",\"TV-14\",\"TV-14\",\"TV-14\",\"TV-PG\",\"TV-MA\",\"TV-14\",\"TV-G\",\"TV-PG\",\"TV-MA\",\"TV-MA\",\"TV-14\",\"TV-14\",\"TV-PG\",\"TV-MA\",\"TV-MA\",\"TV-MA\",\"TV-Y\",\"TV-Y\",\"TV-MA\",\"TV-Y\",\"TV-MA\",\"TV-14\",\"TV-PG\",\"TV-MA\",\"TV-Y7\",\"TV-14\",\"TV-14\",\"TV-14\",\"TV-PG\",\"TV-G\",\"TV-14\",\"TV-14\",\"TV-14\",\"TV-14\",\"TV-14\",\"TV-PG\",\"TV-14\",\"TV-G\",\"TV-G\",\"TV-MA\",\"TV-MA\",\"TV-14\",\"TV-PG\",\"TV-PG\",\"TV-14\",\"TV-MA\",\"TV-MA\",\"TV-MA\",\"TV-MA\",\"TV-14\",\"TV-14\",\"TV-MA\",\"TV-MA\",\"TV-14\",\"TV-MA\",\"TV-14\",\"TV-PG\",\"TV-MA\",\"TV-14\",\"TV-14\",\"TV-14\",\"TV-MA\",\"TV-MA\",\"TV-MA\",\"TV-MA\",\"TV-MA\",\"TV-MA\",\"TV-14\",\"TV-MA\",\"TV-14\",\"TV-Y\",\"TV-Y\",\"TV-Y\",\"TV-MA\",\"TV-14\",\"TV-MA\",\"TV-MA\",\"TV-MA\",\"TV-PG\",\"TV-G\",\"TV-MA\",\"TV-PG\",\"TV-14\",\"TV-MA\",\"TV-14\",\"TV-14\",\"TV-14\",\"TV-MA\",\"TV-PG\",\"TV-PG\",\"TV-MA\",\"TV-MA\",\"TV-14\",\"TV-PG\",\"TV-Y7\",\"TV-MA\",\"TV-MA\",\"TV-MA\",\"TV-14\",\"TV-Y\",\"TV-Y\",\"TV-Y\",\"TV-Y\",\"TV-Y\",\"TV-Y7\",\"TV-Y7\",\"TV-MA\",\"TV-MA\",\"TV-MA\",\"TV-MA\",\"TV-14\",\"TV-MA\",\"TV-PG\",\"TV-G\",\"TV-Y7\",\"TV-Y7\",\"TV-PG\",\"TV-Y7\",\"TV-MA\",\"TV-MA\",\"TV-14\",\"TV-14\",\"TV-14\",\"TV-PG\",\"TV-MA\",\"TV-MA\",\"TV-PG\",\"TV-14\",\"TV-PG\",\"TV-Y\",\"TV-14\",\"TV-MA\",\"TV-PG\",\"TV-Y7\",\"TV-PG\",\"TV-MA\",\"TV-Y\",\"TV-PG\",\"TV-G\",\"TV-G\",\"TV-MA\",\"TV-MA\",\"TV-MA\",\"TV-14\",\"TV-MA\",\"TV-MA\",\"TV-14\",\"TV-Y\",\"TV-MA\",\"TV-MA\",\"TV-MA\",\"TV-Y\",\"TV-Y\",\"TV-MA\",\"TV-G\",\"TV-PG\",\"TV-14\",\"TV-MA\",\"TV-G\",\"TV-MA\",\"TV-MA\",\"TV-MA\",\"TV-PG\",\"TV-PG\",\"TV-PG\",\"TV-14\",\"TV-MA\",\"TV-14\",\"TV-14\",\"TV-14\",\"TV-PG\",\"TV-MA\",\"TV-14\",\"TV-PG\",\"TV-Y\",\"TV-MA\",\"TV-PG\",\"TV-MA\",\"TV-MA\",\"TV-G\",\"TV-14\",\"TV-14\",\"TV-14\",\"TV-14\",\"TV-MA\",\"TV-MA\",\"TV-PG\",\"TV-14\",\"TV-14\",\"TV-MA\",\"TV-14\",\"TV-MA\",\"TV-PG\",\"TV-G\",\"TV-14\",\"TV-PG\",\"TV-14\",\"TV-14\",\"TV-PG\",\"TV-PG\",\"TV-PG\",\"TV-MA\",\"TV-MA\",\"TV-MA\",\"TV-14\",\"TV-PG\",\"TV-G\",\"TV-PG\",\"TV-PG\",\"TV-PG\",\"TV-PG\",\"TV-PG\",\"TV-14\",\"TV-MA\",\"TV-MA\",\"TV-MA\",\"TV-14\",\"TV-14\",\"TV-14\",\"TV-MA\",\"TV-PG\",\"TV-MA\",\"TV-MA\",\"TV-14\",\"TV-MA\",\"TV-Y7\",\"TV-G\",\"TV-MA\",\"TV-MA\",\"TV-PG\",\"TV-MA\",\"TV-PG\",\"R\",\"TV-MA\",\"TV-Y\",\"TV-MA\",\"TV-MA\",\"NR\",\"TV-14\",\"TV-MA\",\"TV-MA\",\"TV-MA\",\"TV-MA\",\"TV-Y\",\"TV-MA\",\"TV-MA\",\"TV-14\",\"TV-MA\",\"TV-MA\",\"TV-14\",\"TV-MA\",\"TV-Y\",\"TV-Y\",\"TV-MA\",\"TV-14\",\"TV-MA\",\"TV-Y7\",\"TV-MA\",\"TV-Y7-FV\",\"TV-G\",\"TV-G\",\"TV-MA\",\"TV-MA\",\"TV-PG\",\"TV-Y\",\"TV-MA\",\"TV-14\",\"TV-14\",\"TV-MA\",\"TV-14\",\"TV-14\",\"TV-PG\",\"TV-14\",\"TV-14\",\"TV-14\",\"TV-14\",\"TV-PG\",\"TV-14\",\"TV-14\",\"TV-PG\",\"TV-PG\",\"TV-MA\",\"TV-MA\",\"TV-PG\",\"TV-Y\",\"TV-MA\",\"TV-PG\",\"TV-PG\",\"TV-MA\",\"TV-MA\",\"TV-MA\",\"TV-MA\",\"TV-MA\",\"TV-Y\",\"TV-Y7\",\"TV-MA\",\"TV-Y\",\"TV-MA\",\"TV-Y7\",\"TV-14\",\"TV-14\",\"TV-Y\",\"TV-14\",\"TV-14\",\"TV-Y\",\"TV-MA\",\"TV-MA\",\"TV-MA\",\"TV-14\",\"TV-14\",\"TV-MA\",\"TV-14\",\"TV-14\",\"TV-14\",\"TV-G\",\"TV-Y\",\"TV-MA\",\"TV-MA\",\"TV-14\",\"TV-14\",\"TV-MA\",\"TV-14\",\"TV-PG\",\"TV-MA\",\"TV-MA\",\"TV-MA\",\"TV-14\",\"TV-MA\",\"TV-14\",\"TV-MA\",\"TV-Y7\",\"TV-14\",\"TV-14\",\"TV-Y\",\"TV-G\",\"TV-PG\",\"TV-MA\",\"TV-Y\",\"TV-Y7\",\"TV-Y7\",\"TV-Y7\",\"TV-Y\",\"TV-G\",\"TV-14\",\"TV-Y\",\"TV-Y7\",\"TV-14\",\"TV-MA\",\"TV-MA\",\"TV-14\",\"TV-Y7\",\"TV-Y7\",\"TV-Y7\",\"TV-Y7\",\"TV-Y7\",\"TV-Y7\",\"TV-Y7\",\"TV-Y7\",\"TV-Y7\",\"TV-Y7\",\"TV-Y7\",\"TV-Y7\",\"TV-Y7\",\"TV-Y7\",\"TV-Y7\",\"TV-Y7\",\"TV-Y7\",\"TV-Y7\",\"TV-Y7\",\"TV-Y7\",\"TV-Y7\",\"TV-Y7\",\"TV-Y7\",\"TV-Y7\",\"TV-MA\",\"TV-14\",\"TV-14\",\"TV-14\",\"TV-Y\",\"TV-G\",\"TV-MA\",\"TV-14\",\"TV-14\",\"TV-PG\",\"TV-G\",\"TV-MA\",\"TV-MA\",\"TV-Y7\",\"TV-14\",\"TV-MA\",\"TV-Y\",\"TV-Y\",\"TV-14\",\"TV-14\",\"TV-14\",\"TV-14\",\"TV-MA\",\"TV-14\",\"TV-MA\",\"TV-MA\",\"TV-MA\",\"TV-MA\",\"TV-14\",\"TV-14\",\"TV-14\",\"TV-MA\",\"TV-Y\",\"TV-14\",\"TV-Y7\",\"TV-MA\",\"TV-Y\",\"TV-PG\",\"TV-G\",\"TV-MA\",\"TV-14\",\"TV-MA\",\"TV-MA\",\"TV-14\",\"TV-MA\",\"TV-MA\",\"TV-MA\",\"TV-MA\",\"TV-MA\",\"TV-14\",\"TV-MA\",\"TV-Y7\",\"TV-MA\",\"TV-MA\",\"TV-14\",\"TV-MA\",\"NR\",\"TV-14\",\"TV-MA\",\"TV-PG\",\"TV-14\",\"TV-14\",\"TV-MA\",\"TV-MA\",\"TV-14\",\"TV-MA\",\"TV-14\",\"TV-14\",\"TV-MA\",\"TV-MA\",\"TV-14\",\"TV-PG\",\"TV-MA\",\"TV-Y\",\"TV-Y\",\"TV-MA\",\"TV-MA\",\"TV-G\",\"TV-PG\",\"TV-PG\",\"TV-PG\",\"TV-MA\",\"TV-MA\",\"TV-14\",\"TV-MA\",\"TV-14\",\"TV-Y\",\"TV-Y7\",\"TV-MA\",\"TV-Y7\",\"TV-MA\",\"TV-14\",\"TV-14\",\"TV-MA\",\"TV-14\",\"TV-MA\",\"TV-14\",\"TV-MA\",\"TV-PG\",\"TV-PG\",\"TV-MA\",\"TV-MA\",\"TV-Y7\",\"TV-14\",\"NR\",\"TV-MA\",\"TV-14\",\"TV-Y7\",\"TV-MA\",\"TV-PG\",\"TV-MA\",\"TV-14\",\"TV-MA\",\"TV-MA\",\"TV-PG\",\"TV-PG\",\"TV-MA\",\"TV-Y\",\"TV-PG\",\"TV-MA\",\"TV-MA\",\"TV-PG\",\"TV-PG\",\"TV-MA\",\"TV-G\",\"TV-14\",\"TV-14\",\"TV-14\",\"TV-MA\",\"TV-MA\",\"TV-MA\",\"TV-14\",\"TV-Y7\",\"TV-MA\",\"TV-MA\",\"TV-14\",\"TV-14\",\"TV-MA\",\"TV-14\",\"TV-14\",\"TV-MA\",\"TV-PG\",\"TV-14\",\"TV-MA\",\"TV-14\",\"TV-PG\",\"TV-MA\",\"TV-MA\",\"TV-MA\",\"TV-MA\",\"TV-14\",\"TV-14\",\"TV-Y\",\"TV-MA\",\"TV-MA\",\"TV-MA\",\"TV-MA\",\"TV-MA\",\"TV-14\",\"TV-MA\",\"TV-Y\",\"TV-Y7\",\"TV-MA\",\"TV-Y7\",\"TV-MA\",\"TV-14\",\"TV-MA\",\"TV-14\",\"TV-Y\",\"TV-MA\",\"TV-14\",\"TV-14\",\"TV-MA\",\"TV-Y\",\"TV-MA\",\"TV-MA\",\"TV-14\",\"TV-MA\",\"TV-Y\",\"TV-14\",\"TV-MA\",\"TV-14\",\"TV-PG\",\"TV-PG\",\"TV-G\",\"TV-MA\",\"TV-MA\",\"TV-MA\",\"TV-14\",\"TV-MA\",\"TV-MA\",\"TV-G\",\"TV-MA\",\"TV-14\",\"TV-MA\",\"TV-14\",\"TV-14\",\"TV-Y7\",\"TV-MA\",\"TV-MA\",\"TV-MA\",\"TV-MA\",\"TV-MA\",\"TV-MA\",\"TV-MA\",\"TV-MA\",\"TV-MA\",\"TV-MA\",\"TV-Y\",\"TV-Y\",\"TV-14\",\"TV-MA\",\"TV-14\",\"TV-MA\",\"TV-14\",\"TV-MA\",\"TV-MA\",\"TV-Y7\",\"TV-14\",\"TV-MA\",\"TV-14\",\"TV-MA\",\"TV-PG\",\"TV-MA\",\"TV-Y\",\"TV-Y\",\"TV-PG\",\"TV-MA\",\"TV-MA\",\"TV-MA\",\"TV-MA\",\"TV-14\",\"TV-MA\",\"TV-Y7\",\"TV-Y7\",\"TV-Y7\",\"TV-PG\",\"TV-Y\",\"TV-MA\",\"TV-Y7\",\"TV-PG\",\"TV-14\",\"TV-14\",\"TV-14\",\"TV-PG\",\"TV-PG\",\"TV-14\",\"TV-Y\",\"TV-MA\",\"TV-14\",\"TV-MA\",\"TV-MA\",\"TV-PG\",\"TV-14\",\"TV-14\",\"TV-PG\",\"TV-MA\",\"TV-Y7\",\"TV-MA\",\"TV-PG\",\"TV-Y\",\"TV-MA\",\"TV-14\",\"TV-MA\",\"TV-Y\",\"TV-PG\",\"TV-PG\",\"TV-Y7\",\"TV-14\",\"TV-14\",\"TV-MA\",\"TV-PG\",\"TV-MA\",\"TV-14\",\"TV-MA\",\"TV-14\",\"TV-PG\",\"TV-14\",\"TV-MA\",\"TV-MA\",\"TV-MA\",\"TV-Y\",\"TV-Y\",\"TV-MA\",\"TV-Y\",\"TV-Y\",\"TV-Y\",\"TV-Y\",\"TV-14\",\"TV-G\",\"TV-14\",\"TV-PG\",\"TV-MA\",\"TV-MA\",\"TV-MA\",\"TV-MA\",\"TV-14\",\"TV-14\",\"TV-14\",\"TV-MA\",\"TV-MA\",\"TV-MA\",\"TV-MA\",\"TV-PG\",\"TV-MA\",\"TV-MA\",\"TV-MA\",\"TV-14\",\"TV-14\",\"TV-14\",\"TV-14\",\"TV-MA\",\"TV-MA\",\"TV-Y\",\"TV-14\",\"TV-MA\",\"TV-Y\",\"TV-PG\",\"TV-PG\",\"TV-14\",\"TV-MA\",\"TV-PG\",\"TV-14\",\"TV-14\",\"TV-14\",\"TV-MA\",\"TV-MA\",\"TV-Y7\",\"TV-MA\",\"TV-14\",\"TV-MA\",\"TV-14\",\"TV-14\",\"TV-MA\",\"TV-MA\",\"TV-14\",\"TV-PG\",\"TV-PG\",\"TV-Y7\",\"TV-Y7\",\"TV-Y7\",\"TV-MA\",\"TV-G\",\"TV-G\",\"TV-G\",\"TV-PG\",\"TV-MA\",\"TV-G\",\"TV-14\",\"TV-14\",\"TV-MA\",\"TV-MA\",\"TV-PG\",\"TV-14\",\"TV-PG\",\"TV-PG\",\"TV-PG\",\"TV-G\",\"TV-14\",\"TV-G\",\"TV-MA\",\"TV-MA\",\"TV-MA\",\"TV-Y7\",\"TV-MA\",\"TV-MA\",\"TV-MA\",\"TV-14\",\"TV-MA\",\"TV-MA\",\"TV-MA\",\"TV-14\",\"TV-Y\",\"TV-MA\",\"TV-14\",\"TV-14\",\"TV-PG\",\"TV-MA\",\"TV-14\",\"TV-MA\",\"TV-MA\",\"TV-MA\",\"TV-MA\",\"TV-MA\",\"TV-PG\",\"TV-MA\",\"TV-14\",\"TV-MA\",\"TV-PG\",\"TV-14\",\"TV-14\",\"TV-MA\",\"TV-MA\",\"TV-MA\",\"TV-14\",\"TV-PG\",\"TV-PG\",\"TV-PG\",\"TV-MA\",\"TV-Y7\",\"TV-14\",\"TV-Y7\",\"TV-14\",\"TV-MA\",\"TV-14\",\"TV-MA\",\"TV-14\",\"TV-14\",\"TV-14\",\"TV-14\",\"TV-Y7\",\"TV-14\",\"TV-14\",\"TV-MA\",\"TV-MA\",\"TV-14\",\"TV-MA\",\"TV-PG\",\"TV-MA\",\"TV-14\",\"TV-Y7\",\"TV-Y7\",\"TV-PG\",\"TV-MA\",\"TV-MA\",\"TV-MA\",\"TV-PG\",\"TV-MA\",\"TV-MA\",\"TV-14\",\"TV-MA\",\"TV-14\",\"TV-MA\",\"TV-MA\",\"TV-Y\",\"TV-PG\",\"TV-14\",\"TV-Y\",\"TV-MA\",\"TV-14\",\"TV-MA\",\"TV-MA\",\"TV-G\",\"TV-MA\",\"TV-14\",\"TV-MA\",\"TV-14\",\"TV-MA\",\"TV-14\",\"TV-14\",\"TV-14\",\"TV-PG\",\"TV-PG\",\"TV-MA\",\"NR\",\"TV-14\",\"TV-MA\",\"R\",\"TV-G\",\"TV-MA\",\"TV-MA\",\"TV-G\",\"TV-MA\",\"TV-PG\",\"TV-Y7\",\"TV-MA\",\"TV-PG\",\"TV-MA\",\"TV-MA\",\"TV-MA\",\"TV-PG\",\"TV-PG\",\"TV-MA\",\"TV-14\",\"TV-MA\",\"TV-14\",\"TV-Y\",\"TV-MA\",\"TV-14\",\"TV-MA\",\"TV-MA\",\"TV-MA\",\"TV-MA\",\"TV-MA\",\"TV-MA\",\"TV-14\",\"TV-MA\",\"TV-PG\",\"TV-MA\",\"TV-MA\",\"TV-Y7\",\"TV-14\",\"TV-MA\",\"TV-PG\",\"TV-14\",\"TV-MA\",\"TV-14\",\"TV-MA\",\"TV-MA\",\"TV-MA\",\"TV-14\",\"TV-MA\",\"TV-MA\",\"TV-Y7\",\"TV-MA\",\"TV-MA\",\"TV-MA\",\"TV-MA\",\"TV-MA\",\"TV-14\",\"TV-Y7\",\"TV-14\",\"TV-MA\",\"TV-PG\",\"TV-14\",\"TV-PG\",\"TV-MA\",\"TV-14\",\"TV-14\",\"TV-14\",\"TV-Y\",\"TV-Y\",\"TV-MA\",\"TV-PG\",\"TV-14\",\"TV-MA\",\"TV-MA\",\"TV-14\",\"TV-MA\",\"TV-MA\",\"TV-PG\",\"TV-14\",\"TV-G\",\"TV-MA\",\"TV-MA\",\"TV-14\",\"TV-MA\",\"TV-PG\",\"TV-MA\",\"TV-MA\",\"TV-MA\",\"TV-MA\",\"TV-Y7\",\"TV-MA\",\"TV-MA\",\"TV-MA\",\"TV-MA\",\"TV-PG\",\"TV-G\",\"TV-14\",\"TV-14\",\"TV-MA\",\"TV-14\",\"TV-14\",\"TV-Y\",\"TV-MA\",\"TV-14\",\"TV-MA\",\"TV-MA\",\"TV-PG\",\"TV-14\",\"TV-MA\",\"TV-14\",\"TV-MA\",\"TV-MA\",\"TV-PG\",\"TV-14\",\"TV-14\",\"TV-14\",\"TV-MA\",\"TV-PG\",\"TV-14\",\"TV-MA\",\"TV-MA\",\"TV-MA\",\"TV-MA\",\"TV-14\",\"TV-MA\",\"TV-PG\",\"TV-MA\",\"TV-MA\",\"TV-14\",\"TV-14\",\"TV-14\",\"TV-MA\",\"TV-MA\",\"TV-MA\",\"TV-14\",\"TV-PG\",\"TV-MA\",\"TV-MA\",\"TV-MA\",\"TV-MA\",\"TV-14\",\"TV-14\",\"TV-MA\",\"TV-MA\",\"TV-MA\",\"TV-14\",\"TV-14\",\"TV-MA\",\"TV-MA\",\"TV-Y7\",\"TV-14\",\"TV-14\",\"TV-14\",\"TV-MA\",\"TV-MA\",\"TV-MA\",\"TV-14\",\"TV-MA\",\"TV-MA\",\"TV-MA\",\"TV-14\",\"TV-14\",\"TV-14\",\"TV-14\",\"TV-MA\",\"TV-MA\",\"TV-14\",\"TV-14\",\"TV-PG\",\"TV-PG\",\"TV-MA\",\"TV-14\",\"TV-MA\",\"TV-14\",\"TV-MA\",\"TV-MA\",\"TV-MA\",\"TV-14\",\"TV-14\",\"TV-PG\",\"TV-Y\",\"TV-MA\",\"TV-MA\",\"TV-MA\",\"TV-MA\",\"TV-MA\",\"TV-G\",\"TV-G\",\"TV-14\",\"TV-MA\",\"TV-PG\",\"TV-MA\",\"TV-MA\",\"TV-14\",\"TV-14\",\"TV-14\",\"TV-Y\",\"TV-MA\",\"TV-14\",\"TV-MA\",\"TV-PG\",\"TV-MA\",\"TV-14\",\"TV-MA\",\"TV-MA\",\"TV-MA\",\"TV-MA\",\"TV-MA\",\"TV-14\",\"TV-14\",\"TV-Y\",\"TV-PG\",\"TV-PG\",\"TV-MA\",\"TV-Y\",\"TV-Y\",\"TV-MA\",\"TV-MA\",\"TV-MA\",\"TV-Y7\",\"TV-14\",\"TV-MA\",\"TV-14\",\"TV-MA\",\"TV-MA\",\"TV-MA\",\"TV-14\",\"TV-MA\",\"TV-MA\",\"TV-14\",\"TV-PG\",\"TV-MA\",\"TV-MA\",\"TV-MA\",\"TV-MA\",\"TV-MA\",\"TV-MA\",\"TV-MA\",\"TV-MA\",\"TV-Y7\",\"TV-Y\",\"TV-Y7\",\"TV-Y7\",\"TV-Y7\",\"TV-14\",\"TV-Y7\",\"TV-Y\",\"TV-MA\",\"TV-Y\",\"TV-Y\",\"TV-MA\",\"TV-MA\",\"TV-MA\",\"TV-MA\",\"TV-MA\",\"TV-PG\",\"TV-Y7\",\"TV-Y7\",\"TV-Y\",\"TV-MA\",\"TV-MA\",\"TV-Y\",\"TV-Y\",\"TV-Y\",\"TV-Y\",\"TV-Y\",\"TV-14\",\"TV-MA\",\"TV-PG\",\"TV-14\",\"TV-Y7\",\"TV-MA\",\"TV-14\",\"TV-PG\",\"TV-MA\",\"TV-14\",\"TV-Y\",\"TV-14\",\"TV-14\",\"TV-G\",\"TV-MA\",\"TV-MA\",\"TV-14\",\"TV-PG\",\"TV-PG\",\"TV-14\",\"TV-14\",\"TV-MA\",\"TV-MA\",\"TV-MA\",\"TV-MA\",\"TV-14\",\"TV-14\",\"TV-MA\",\"TV-14\",\"TV-MA\",\"TV-MA\",\"TV-MA\",\"TV-MA\",\"TV-MA\",\"TV-MA\",\"TV-14\",\"TV-14\",\"TV-MA\",\"TV-MA\",\"TV-MA\",\"TV-MA\",\"TV-Y\",\"TV-MA\",\"TV-G\",\"TV-MA\",\"TV-MA\",\"TV-14\",\"TV-MA\",\"TV-14\",\"TV-14\",\"TV-MA\",\"TV-MA\",\"TV-Y\",\"TV-Y\",\"TV-14\",\"TV-14\",\"TV-MA\",\"TV-MA\",\"TV-MA\",\"TV-G\",\"TV-MA\",\"TV-14\",\"TV-PG\",\"TV-Y7\",\"TV-14\",\"TV-14\",\"TV-PG\",\"TV-Y7\",\"TV-Y\",\"TV-MA\",\"TV-MA\",\"TV-14\",\"TV-PG\",\"TV-14\",\"TV-PG\",\"TV-PG\",\"TV-MA\",\"TV-14\",\"TV-MA\",\"TV-MA\",\"TV-MA\",\"TV-14\",\"TV-MA\",\"TV-PG\",\"TV-14\",\"TV-MA\",\"TV-MA\",\"TV-Y\",\"TV-MA\",\"TV-Y\",\"TV-MA\",\"TV-PG\",\"TV-MA\",\"TV-14\",\"TV-MA\",\"TV-G\",\"TV-MA\",\"TV-14\",\"TV-MA\",\"TV-MA\",\"TV-MA\",\"TV-14\",\"TV-14\",\"TV-14\",\"TV-14\",\"TV-14\",\"TV-14\",\"TV-Y7\",\"TV-PG\",\"TV-MA\",\"TV-14\",\"TV-14\",\"TV-MA\",\"TV-MA\",\"TV-MA\",\"TV-14\",\"TV-14\",\"TV-MA\",\"TV-MA\",\"TV-14\",\"TV-PG\",\"TV-PG\",\"TV-PG\",\"TV-MA\",\"TV-MA\",\"TV-14\",\"TV-G\",\"TV-MA\",\"TV-Y7\",\"TV-14\",\"TV-Y7\",\"TV-MA\",\"TV-14\",\"TV-MA\",\"TV-Y\",\"TV-Y\",\"TV-MA\",\"TV-14\",\"TV-Y7\",\"TV-MA\",\"TV-PG\",\"TV-14\",\"TV-14\",\"TV-MA\",\"TV-MA\",\"TV-14\",\"TV-14\",\"TV-MA\",\"TV-14\",\"TV-PG\",\"TV-14\",\"TV-MA\",\"TV-Y7\",\"TV-Y\",\"TV-Y7\",\"TV-Y\",\"TV-MA\",\"TV-MA\",\"TV-PG\",\"TV-MA\",\"TV-14\",\"TV-MA\",\"TV-14\",\"TV-14\",\"TV-14\",\"TV-Y7\",\"TV-Y7\",\"TV-MA\",\"TV-PG\",\"TV-MA\",\"TV-PG\",\"TV-Y7\",\"TV-Y7\",\"TV-PG\",\"TV-Y7\",\"TV-Y7\",\"TV-MA\",\"TV-PG\"],\"type\":\"box\"},{\"marker\":{\"color\":\"rgb(0, 128, 128)\"},\"name\":\"Rating of Movies\",\"y\":[\"TV-MA\",\"R\",\"PG-13\",\"PG-13\",\"TV-MA\",\"R\",\"TV-14\",\"TV-MA\",\"TV-MA\",\"TV-MA\",\"R\",\"TV-14\",\"R\",\"TV-14\",\"TV-PG\",\"TV-14\",\"TV-14\",\"TV-14\",\"TV-14\",\"NR\",\"TV-MA\",\"TV-14\",\"TV-14\",\"TV-G\",\"TV-G\",\"TV-14\",\"TV-14\",\"TV-PG\",\"TV-MA\",\"TV-MA\",\"TV-MA\",\"TV-14\",\"TV-MA\",\"TV-MA\",\"TV-MA\",\"PG-13\",\"TV-PG\",\"TV-14\",\"TV-14\",\"TV-14\",\"PG-13\",\"TV-MA\",\"TV-MA\",\"TV-Y\",\"TV-14\",\"TV-14\",\"TV-14\",\"TV-MA\",\"NR\",\"R\",\"TV-MA\",\"TV-MA\",\"R\",\"TV-MA\",\"TV-MA\",\"PG-13\",\"PG-13\",\"TV-MA\",\"R\",\"TV-MA\",\"TV-MA\",\"TV-MA\",\"TV-PG\",\"PG-13\",\"TV-PG\",\"TV-14\",\"R\",\"R\",\"TV-MA\",\"R\",\"TV-14\",\"TV-MA\",\"TV-MA\",\"TV-MA\",\"PG-13\",\"PG-13\",\"TV-MA\",\"PG-13\",\"TV-PG\",\"PG-13\",\"TV-PG\",\"TV-MA\",\"TV-14\",\"R\",\"TV-14\",\"TV-MA\",\"TV-MA\",\"TV-14\",\"TV-MA\",\"TV-G\",\"TV-MA\",\"NR\",\"TV-MA\",\"TV-MA\",\"PG-13\",\"TV-14\",\"R\",\"PG-13\",\"R\",\"TV-14\",\"TV-14\",\"TV-MA\",\"R\",\"R\",\"TV-MA\",\"TV-MA\",\"R\",\"TV-MA\",\"TV-PG\",\"TV-MA\",\"TV-MA\",\"TV-PG\",\"PG\",\"TV-PG\",\"TV-PG\",\"R\",\"TV-14\",\"TV-14\",\"PG\",\"PG\",\"PG-13\",\"G\",\"TV-14\",\"TV-14\",\"TV-G\",\"TV-PG\",\"TV-PG\",\"TV-PG\",\"TV-Y7\",\"PG\",\"PG\",\"R\",\"R\",\"TV-Y7\",\"TV-MA\",\"TV-PG\",\"R\",\"TV-PG\",\"TV-14\",\"TV-MA\",\"TV-MA\",\"R\",\"R\",\"TV-Y\",\"TV-Y\",\"TV-Y\",\"TV-PG\",\"TV-MA\",\"R\",\"TV-14\",\"TV-MA\",\"TV-G\",\"TV-MA\",\"TV-MA\",\"R\",\"TV-MA\",\"TV-MA\",\"TV-14\",\"R\",\"TV-PG\",\"TV-14\",\"TV-MA\",\"TV-MA\",\"PG-13\",\"R\",\"PG-13\",\"TV-14\",\"TV-MA\",\"PG-13\",\"TV-MA\",\"TV-MA\",\"TV-MA\",\"R\",\"TV-14\",\"TV-PG\",\"TV-MA\",\"NR\",\"TV-MA\",\"TV-MA\",\"TV-14\",\"PG-13\",\"R\",\"G\",\"TV-14\",\"R\",\"TV-14\",\"TV-PG\",\"TV-14\",\"TV-Y\",\"TV-MA\",\"PG-13\",\"TV-PG\",\"R\",\"PG-13\",\"TV-Y\",\"TV-MA\",\"TV-Y7\",\"TV-MA\",\"TV-G\",\"TV-14\",\"TV-G\",\"PG\",\"TV-MA\",\"TV-14\",\"TV-PG\",\"PG\",\"PG\",\"TV-MA\",\"TV-MA\",\"PG\",\"TV-MA\",\"TV-MA\",\"TV-14\",\"TV-PG\",\"TV-14\",\"TV-PG\",\"TV-14\",\"TV-14\",\"TV-14\",\"TV-14\",\"TV-14\",\"TV-14\",\"TV-14\",\"TV-PG\",\"TV-14\",\"TV-14\",\"TV-MA\",\"TV-14\",\"TV-14\",\"TV-14\",\"TV-Y7\",\"PG-13\",\"R\",\"TV-MA\",\"TV-MA\",\"TV-MA\",\"TV-PG\",\"TV-MA\",\"PG-13\",\"R\",\"NR\",\"TV-PG\",\"R\",\"R\",\"TV-MA\",\"TV-MA\",\"TV-MA\",\"TV-MA\",\"TV-14\",\"TV-MA\",\"TV-14\",\"TV-MA\",\"R\",\"PG-13\",\"TV-14\",\"TV-MA\",\"NR\",\"TV-14\",\"TV-MA\",\"PG-13\",\"TV-PG\",\"NR\",\"TV-MA\",\"TV-PG\",\"R\",\"R\",\"TV-MA\",\"R\",\"TV-MA\",\"TV-PG\",\"TV-14\",\"TV-MA\",\"TV-14\",\"TV-14\",\"R\",\"TV-PG\",\"TV-PG\",\"TV-14\",\"TV-14\",\"TV-MA\",\"TV-14\",\"TV-14\",\"TV-MA\",\"TV-MA\",\"TV-MA\",\"TV-14\",\"TV-MA\",\"TV-MA\",\"TV-MA\",\"TV-MA\",\"TV-MA\",\"TV-PG\",\"TV-MA\",\"TV-MA\",\"TV-MA\",\"TV-MA\",\"TV-MA\",\"TV-MA\",\"TV-MA\",\"TV-MA\",\"TV-14\",\"TV-MA\",\"TV-MA\",\"TV-MA\",\"TV-MA\",\"TV-MA\",\"TV-14\",\"PG\",\"TV-MA\",\"TV-PG\",\"TV-MA\",\"TV-Y\",\"PG\",\"TV-14\",\"TV-MA\",\"R\",\"TV-PG\",\"R\",\"G\",\"TV-MA\",\"TV-G\",\"TV-14\",\"TV-MA\",\"TV-MA\",\"R\",\"TV-MA\",\"R\",\"TV-14\",\"TV-MA\",\"PG\",\"TV-14\",\"TV-MA\",\"R\",\"TV-MA\",\"R\",\"TV-14\",\"R\",\"TV-G\",\"TV-Y7\",\"TV-G\",\"TV-MA\",\"TV-MA\",\"TV-14\",\"TV-14\",\"TV-MA\",\"PG-13\",\"TV-MA\",\"TV-MA\",\"TV-14\",\"TV-14\",\"TV-MA\",\"TV-PG\",\"TV-MA\",\"R\",\"R\",\"TV-14\",\"TV-MA\",\"TV-14\",\"TV-14\",\"TV-G\",\"TV-MA\",\"R\",\"R\",\"R\",\"TV-MA\",\"TV-MA\",\"R\",\"R\",\"TV-MA\",\"TV-MA\",\"TV-14\",\"TV-14\",\"TV-PG\",\"R\",\"TV-MA\",\"TV-MA\",\"TV-PG\",\"G\",\"G\",\"G\",\"G\",\"TV-MA\",\"TV-MA\",\"R\",\"TV-14\",\"R\",\"TV-PG\",\"R\",\"TV-14\",\"TV-MA\",\"TV-MA\",\"TV-14\",\"TV-MA\",\"TV-MA\",\"TV-MA\",\"TV-14\",\"TV-14\",\"TV-14\",\"TV-14\",\"TV-14\",\"TV-14\",\"TV-PG\",\"TV-14\",\"R\",\"TV-14\",\"R\",\"R\",\"TV-Y\",\"TV-Y\",\"PG-13\",\"PG-13\",\"TV-MA\",\"TV-14\",\"TV-14\",\"TV-PG\",\"TV-Y7\",\"TV-MA\",\"TV-MA\",\"TV-14\",\"TV-14\",\"TV-PG\",\"TV-14\",\"TV-PG\",\"TV-MA\",\"TV-PG\",\"PG-13\",\"TV-MA\",\"TV-Y7\",\"TV-MA\",\"TV-MA\",\"TV-14\",\"TV-MA\",\"TV-PG\",\"TV-14\",\"TV-MA\",\"TV-14\",\"NR\",\"PG-13\",\"TV-MA\",\"PG\",\"TV-MA\",\"TV-14\",\"TV-MA\",\"PG\",\"TV-14\",\"TV-14\",\"TV-MA\",\"TV-MA\",\"TV-14\",\"TV-14\",\"TV-MA\",\"TV-MA\",\"PG-13\",\"PG\",\"TV-MA\",\"TV-14\",\"R\",\"PG-13\",\"TV-MA\",\"TV-14\",\"R\",\"TV-MA\",\"TV-14\",\"TV-MA\",\"TV-14\",\"TV-14\",\"NR\",\"TV-MA\",\"TV-14\",\"PG-13\",\"TV-14\",\"PG-13\",\"TV-14\",\"TV-14\",\"TV-14\",\"TV-MA\",\"TV-MA\",\"TV-PG\",\"PG-13\",\"PG-13\",\"PG-13\",\"TV-MA\",\"R\",\"R\",\"TV-PG\",\"TV-MA\",\"PG-13\",\"TV-MA\",\"TV-MA\",\"TV-MA\",\"TV-MA\",\"TV-MA\",\"TV-MA\",\"TV-MA\",\"TV-14\",\"TV-14\",\"TV-MA\",\"TV-MA\",\"TV-MA\",\"TV-14\",\"TV-14\",\"TV-14\",\"TV-14\",\"TV-MA\",\"TV-14\",\"TV-MA\",\"TV-14\",\"TV-14\",\"TV-14\",\"TV-14\",\"TV-MA\",\"TV-14\",\"TV-MA\",\"R\",\"TV-PG\",\"TV-14\",\"TV-MA\",\"NR\",\"TV-Y\",\"TV-MA\",\"TV-14\",\"NR\",\"R\",\"TV-MA\",\"R\",\"R\",\"R\",\"TV-MA\",\"TV-MA\",\"TV-MA\",\"TV-MA\",\"TV-MA\",\"TV-MA\",\"TV-14\",\"TV-14\",\"TV-14\",\"G\",\"G\",\"G\",\"TV-MA\",\"TV-14\",\"TV-14\",\"TV-MA\",\"R\",\"NR\",\"TV-PG\",\"TV-MA\",\"TV-14\",\"TV-MA\",\"TV-14\",\"TV-MA\",\"TV-14\",\"TV-MA\",\"TV-MA\",\"TV-Y\",\"TV-Y\",\"TV-Y\",\"TV-Y\",\"TV-Y\",\"TV-Y\",\"TV-Y\",\"TV-Y7\",\"TV-Y\",\"TV-Y\",\"TV-Y\",\"TV-Y\",\"TV-14\",\"TV-14\",\"TV-14\",\"PG-13\",\"TV-14\",\"TV-14\",\"TV-MA\",\"TV-PG\",\"R\",\"R\",\"TV-14\",\"PG-13\",\"R\",\"TV-MA\",\"TV-MA\",\"TV-PG\",\"TV-PG\",\"TV-MA\",\"TV-14\",\"TV-14\",\"TV-MA\",\"PG\",\"TV-G\",\"PG-13\",\"TV-G\",\"TV-MA\",\"TV-Y\",\"TV-MA\",\"TV-MA\",\"TV-14\",\"PG-13\",\"PG-13\",\"TV-14\",\"TV-14\",\"PG\",\"PG-13\",\"PG\",\"PG\",\"TV-MA\",\"PG-13\",\"PG-13\",\"PG\",\"TV-14\",\"TV-14\",\"TV-MA\",\"TV-14\",\"TV-MA\",\"TV-14\",\"PG\",\"TV-14\",\"TV-MA\",\"TV-14\",\"TV-MA\",\"TV-MA\",\"TV-MA\",\"TV-MA\",\"TV-PG\",\"PG-13\",\"TV-MA\",\"TV-MA\",\"TV-PG\",\"PG\",\"TV-G\",\"PG-13\",\"TV-MA\",\"TV-14\",\"R\",\"TV-MA\",\"R\",\"TV-MA\",\"TV-MA\",\"TV-MA\",\"TV-MA\",\"TV-MA\",\"TV-MA\",\"TV-14\",\"TV-MA\",\"TV-MA\",\"TV-MA\",\"PG\",\"TV-PG\",\"TV-14\",\"TV-14\",\"TV-MA\",\"R\",\"TV-PG\",\"TV-14\",\"TV-MA\",\"TV-14\",\"R\",\"TV-G\",\"TV-14\",\"TV-14\",\"TV-14\",\"TV-PG\",\"TV-14\",\"TV-14\",\"TV-14\",\"TV-14\",\"TV-Y\",\"TV-14\",\"TV-14\",\"TV-MA\",\"TV-14\",\"TV-PG\",\"TV-14\",\"TV-14\",\"TV-14\",\"TV-MA\",\"PG-13\",\"PG\",\"R\",\"PG\",\"PG-13\",\"TV-MA\",\"TV-PG\",\"TV-MA\",\"PG\",\"R\",\"TV-MA\",\"TV-MA\",\"NR\",\"TV-MA\",\"TV-MA\",\"TV-MA\",\"TV-MA\",\"TV-MA\",\"TV-MA\",\"TV-MA\",\"TV-MA\",\"TV-PG\",\"TV-PG\",\"R\",\"TV-PG\",\"TV-MA\",\"TV-14\",\"TV-MA\",\"R\",\"TV-G\",\"TV-MA\",\"TV-MA\",\"R\",\"TV-14\",\"TV-MA\",\"TV-14\",\"TV-14\",\"R\",\"TV-MA\",\"TV-MA\",\"R\",\"TV-PG\",\"TV-MA\",\"PG-13\",\"TV-MA\",\"R\",\"TV-MA\",\"R\",\"TV-MA\",\"PG-13\",\"TV-14\",\"PG-13\",\"TV-14\",\"R\",\"TV-PG\",\"TV-14\",\"R\",\"TV-14\",\"TV-14\",\"TV-MA\",\"PG\",\"TV-MA\",\"TV-MA\",\"R\",\"TV-14\",\"TV-MA\",\"R\",\"NC-17\",\"PG-13\",\"TV-MA\",\"R\",\"R\",\"PG-13\",\"R\",\"TV-14\",\"TV-MA\",\"TV-14\",\"TV-MA\",\"TV-MA\",\"TV-MA\",\"TV-G\",\"TV-MA\",\"PG\",\"TV-14\",\"TV-14\",\"TV-14\",\"TV-14\",\"TV-14\",\"TV-PG\",\"TV-MA\",\"TV-MA\",\"TV-14\",\"TV-MA\",\"PG\",\"TV-MA\",\"TV-MA\",\"TV-MA\",\"TV-MA\",\"TV-14\",\"TV-MA\",\"TV-MA\",\"TV-MA\",\"R\",\"TV-MA\",\"TV-MA\",\"TV-14\",\"TV-14\",\"R\",\"TV-MA\",\"TV-14\",\"TV-14\",\"TV-14\",\"TV-MA\",\"TV-MA\",\"PG\",\"TV-MA\",\"TV-MA\",\"R\",\"TV-MA\",\"TV-MA\",\"PG-13\",\"TV-MA\",\"PG\",\"TV-PG\",\"TV-MA\",\"R\",\"TV-MA\",\"TV-14\",\"TV-14\",\"TV-MA\",\"TV-PG\",\"TV-MA\",\"TV-14\",\"TV-PG\",\"R\",\"TV-PG\",\"TV-MA\",\"TV-MA\",\"TV-MA\",\"TV-MA\",\"PG-13\",\"R\",\"TV-MA\",\"TV-MA\",\"TV-MA\",\"TV-MA\",\"TV-14\",\"TV-PG\",\"TV-PG\",\"TV-PG\",\"TV-14\",\"TV-MA\",\"TV-MA\",\"TV-Y7\",\"TV-MA\",\"TV-MA\",\"TV-G\",\"TV-MA\",\"TV-14\",\"R\",\"TV-MA\",\"TV-MA\",\"PG-13\",\"PG-13\",\"TV-MA\",\"TV-MA\",\"TV-MA\",\"TV-MA\",\"TV-MA\",\"TV-MA\",\"TV-MA\",\"TV-14\",\"TV-MA\",\"TV-MA\",\"R\",\"TV-14\",\"TV-MA\",\"TV-14\",\"TV-14\",\"R\",\"R\",\"TV-MA\",\"TV-14\",\"TV-MA\",\"TV-14\",\"TV-MA\",\"TV-14\",\"TV-MA\",\"TV-Y\",\"TV-Y\",\"TV-Y\",\"TV-MA\",\"TV-MA\",\"TV-14\",\"TV-MA\",\"TV-G\",\"R\",\"PG-13\",\"TV-14\",\"TV-MA\",\"TV-14\",\"TV-MA\",\"R\",\"G\",\"TV-14\",\"TV-PG\",\"TV-Y7\",\"TV-Y7\",\"TV-MA\",\"TV-MA\",\"TV-14\",\"TV-14\",\"TV-14\",\"TV-14\",\"TV-MA\",\"TV-MA\",\"TV-Y7\",\"R\",\"R\",\"TV-MA\",\"PG-13\",\"R\",\"TV-14\",\"R\",\"PG-13\",\"TV-MA\",\"TV-MA\",\"TV-14\",\"NR\",\"PG-13\",\"TV-MA\",\"TV-14\",\"TV-MA\",\"PG\",\"TV-PG\",\"TV-MA\",\"TV-MA\",\"TV-PG\",\"TV-PG\",\"TV-G\",\"PG-13\",\"TV-14\",\"TV-PG\",\"TV-PG\",\"TV-14\",\"TV-14\",\"TV-14\",\"TV-14\",\"TV-14\",\"TV-MA\",\"TV-14\",\"TV-14\",\"TV-14\",\"TV-G\",\"PG\",\"TV-14\",\"PG-13\",\"R\",\"PG\",\"PG-13\",\"PG-13\",\"G\",\"TV-Y7\",\"TV-14\",\"TV-PG\",\"R\",\"TV-PG\",\"TV-MA\",\"TV-PG\",\"TV-MA\",\"TV-14\",\"R\",\"TV-MA\",\"TV-MA\",\"TV-14\",\"R\",\"TV-Y7\",\"TV-Y7\",\"TV-Y7\",\"TV-Y7\",\"TV-Y7\",\"TV-14\",\"G\",\"TV-Y\",\"TV-MA\",\"R\",\"TV-MA\",\"TV-PG\",\"TV-PG\",\"TV-MA\",\"TV-MA\",\"TV-14\",\"NR\",\"G\",\"R\",\"TV-MA\",\"TV-14\",\"TV-MA\",\"TV-MA\",\"TV-MA\",\"TV-MA\",\"TV-MA\",\"TV-MA\",\"TV-MA\",\"TV-MA\",\"PG\",\"TV-MA\",\"R\",\"TV-PG\",\"TV-MA\",\"TV-PG\",\"TV-PG\",\"TV-G\",\"TV-G\",\"TV-MA\",\"PG\",\"TV-PG\",\"TV-PG\",\"PG\",\"PG\",\"TV-MA\",\"R\",\"TV-Y\",\"TV-Y\",\"TV-Y\",\"TV-Y\",\"TV-PG\",\"TV-14\",\"TV-PG\",\"TV-14\",\"TV-14\",\"TV-MA\",\"TV-MA\",\"PG-13\",\"TV-MA\",\"TV-MA\",\"R\",\"TV-MA\",\"TV-MA\",\"TV-MA\",\"TV-MA\",\"TV-MA\",\"PG-13\",\"TV-PG\",\"TV-14\",\"TV-MA\",\"PG\",\"PG-13\",\"TV-MA\",\"TV-MA\",\"TV-MA\",\"TV-MA\",\"R\",\"R\",\"R\",\"PG\",\"PG\",\"PG-13\",\"TV-MA\",\"PG-13\",\"TV-MA\",\"TV-MA\",\"PG-13\",\"TV-MA\",\"TV-PG\",\"TV-PG\",\"TV-14\",\"TV-14\",\"TV-MA\",\"TV-14\",\"TV-MA\",\"TV-MA\",\"TV-14\",\"R\",\"TV-14\",\"R\",\"TV-14\",\"TV-PG\",\"TV-14\",\"TV-MA\",\"TV-MA\",\"TV-MA\",\"R\",\"TV-MA\",\"R\",\"TV-MA\",\"TV-MA\",\"TV-14\",\"TV-14\",\"TV-G\",\"TV-14\",\"PG\",\"R\",\"TV-MA\",\"PG-13\",\"PG\",\"TV-MA\",\"TV-MA\",\"TV-14\",\"TV-MA\",\"TV-14\",\"TV-MA\",\"TV-G\",\"TV-PG\",\"TV-MA\",\"TV-MA\",\"TV-MA\",\"R\",\"TV-PG\",\"TV-14\",\"TV-MA\",\"TV-MA\",\"TV-14\",\"R\",\"TV-MA\",\"R\",\"TV-MA\",\"TV-14\",\"TV-14\",\"PG-13\",\"PG-13\",\"TV-14\",\"TV-MA\",\"R\",\"TV-PG\",\"TV-MA\",\"R\",\"R\",\"TV-MA\",\"TV-PG\",\"TV-MA\",\"TV-MA\",\"TV-PG\",\"TV-MA\",\"R\",\"TV-PG\",\"TV-14\",\"TV-MA\",\"TV-MA\",\"TV-MA\",\"PG\",\"TV-14\",\"PG\",\"TV-MA\",\"NR\",\"TV-14\",\"TV-MA\",\"R\",\"TV-MA\",\"TV-PG\",\"TV-G\",\"TV-MA\",\"TV-PG\",\"TV-PG\",\"TV-14\",\"TV-MA\",\"TV-MA\",\"TV-MA\",\"PG-13\",\"TV-MA\",\"TV-MA\",\"TV-MA\",\"TV-PG\",\"TV-MA\",\"R\",\"TV-MA\",\"TV-MA\",\"R\",\"PG-13\",\"TV-14\",\"TV-MA\",\"TV-14\",\"NR\",\"TV-MA\",\"TV-MA\",\"PG\",\"TV-MA\",\"TV-MA\",\"TV-MA\",\"TV-MA\",\"R\",\"TV-MA\",\"TV-PG\",\"R\",\"TV-MA\",\"TV-MA\",\"TV-14\",\"TV-14\",\"TV-14\",\"TV-PG\",\"PG-13\",\"TV-14\",\"TV-Y7-FV\",\"TV-MA\",\"TV-PG\",\"TV-14\",\"R\",\"TV-14\",\"R\",\"TV-MA\",\"R\",\"R\",\"TV-MA\",\"TV-MA\",\"TV-14\",\"TV-14\",\"PG\",\"TV-14\",\"TV-MA\",\"TV-MA\",\"R\",\"TV-14\",\"TV-14\",\"TV-14\",\"TV-MA\",\"TV-14\",\"TV-PG\",\"R\",\"TV-MA\",\"TV-MA\",\"NR\",\"R\",\"R\",\"R\",\"TV-MA\",\"TV-MA\",\"TV-MA\",\"TV-MA\",\"TV-MA\",\"TV-MA\",\"TV-MA\",\"TV-MA\",\"TV-MA\",\"TV-MA\",\"TV-MA\",\"TV-14\",\"TV-14\",\"R\",\"TV-MA\",\"TV-MA\",\"TV-14\",\"TV-MA\",\"TV-MA\",\"TV-PG\",\"TV-14\",\"TV-14\",\"TV-PG\",\"TV-PG\",\"TV-G\",\"TV-MA\",\"TV-14\",\"TV-14\",\"TV-14\",\"TV-PG\",\"TV-PG\",\"NR\",\"PG-13\",\"PG-13\",\"TV-MA\",\"TV-MA\",\"TV-Y\",\"TV-Y\",\"TV-14\",\"TV-14\",\"TV-MA\",\"TV-14\",\"TV-14\",\"TV-PG\",\"TV-14\",\"TV-14\",\"TV-PG\",\"PG-13\",\"TV-14\",\"TV-MA\",\"TV-14\",\"TV-MA\",\"TV-MA\",\"TV-14\",\"R\",\"TV-MA\",\"TV-PG\",\"R\",\"TV-MA\",\"TV-PG\",\"TV-MA\",\"PG-13\",\"TV-MA\",\"R\",\"TV-MA\",\"TV-14\",\"TV-PG\",\"TV-PG\",\"PG\",\"R\",\"TV-14\",\"TV-14\",\"TV-14\",\"PG-13\",\"R\",\"TV-MA\",\"TV-MA\",\"TV-14\",\"TV-PG\",\"TV-14\",\"R\",\"TV-MA\",\"R\",\"TV-MA\",\"TV-MA\",\"R\",\"R\",\"R\",\"TV-14\",\"TV-14\",\"TV-14\",\"TV-G\",\"R\",\"TV-14\",\"TV-14\",\"PG-13\",\"PG-13\",\"TV-PG\",\"TV-MA\",\"PG\",\"PG\",\"PG\",\"TV-PG\",\"TV-14\",\"PG-13\",\"PG-13\",\"PG\",\"PG-13\",\"PG-13\",\"TV-Y\",\"TV-PG\",\"TV-Y\",\"TV-Y\",\"TV-Y\",\"TV-G\",\"TV-MA\",\"TV-MA\",\"TV-Y\",\"TV-PG\",\"TV-MA\",\"TV-14\",\"TV-14\",\"TV-PG\",\"R\",\"TV-MA\",\"TV-PG\",\"TV-MA\",\"PG\",\"TV-MA\",\"TV-14\",\"TV-14\",\"PG-13\",\"PG-13\",\"TV-14\",\"TV-14\",\"TV-14\",\"TV-MA\",\"TV-14\",\"TV-MA\",\"TV-MA\",\"PG\",\"R\",\"PG\",\"PG-13\",\"PG-13\",\"TV-14\",\"PG-13\",\"TV-MA\",\"TV-MA\",\"R\",\"TV-MA\",\"TV-MA\",\"TV-MA\",\"TV-MA\",\"TV-14\",\"TV-14\",\"TV-14\",\"PG-13\",\"TV-14\",\"TV-14\",\"TV-PG\",\"TV-PG\",\"TV-MA\",\"TV-14\",\"TV-14\",\"TV-14\",\"TV-14\",\"TV-PG\",\"R\",\"TV-MA\",\"TV-MA\",\"TV-14\",\"TV-MA\",\"TV-MA\",\"TV-MA\",\"TV-14\",\"TV-PG\",\"TV-14\",\"TV-MA\",\"TV-14\",\"TV-14\",\"TV-14\",\"TV-PG\",\"TV-14\",\"TV-14\",\"TV-14\",\"TV-MA\",\"TV-MA\",\"TV-Y\",\"TV-Y\",\"TV-MA\",\"TV-MA\",\"TV-G\",\"R\",\"TV-14\",\"TV-MA\",\"TV-PG\",\"PG\",\"TV-PG\",\"TV-MA\",\"TV-14\",\"TV-MA\",\"TV-PG\",\"TV-MA\",\"TV-14\",\"PG-13\",\"TV-14\",\"TV-PG\",\"R\",\"R\",\"TV-14\",\"TV-MA\",\"TV-14\",\"PG-13\",\"TV-MA\",\"TV-MA\",\"R\",\"PG-13\",\"PG-13\",\"R\",\"TV-MA\",\"TV-MA\",\"TV-MA\",\"TV-Y\",\"TV-MA\",\"TV-14\",\"NR\",\"TV-14\",\"TV-14\",\"R\",\"PG-13\",\"PG\",\"TV-MA\",\"TV-MA\",\"TV-MA\",\"TV-MA\",\"TV-PG\",\"R\",\"TV-MA\",\"R\",\"TV-14\",\"TV-MA\",\"PG-13\",\"TV-14\",\"R\",\"R\",\"TV-MA\",\"TV-MA\",\"NR\",\"R\",\"TV-G\",\"TV-PG\",\"TV-MA\",\"TV-14\",\"TV-MA\",\"R\",\"R\",\"TV-PG\",\"TV-MA\",\"TV-MA\",\"TV-PG\",\"TV-PG\",\"TV-MA\",\"TV-PG\",\"TV-MA\",\"TV-MA\",\"TV-MA\",\"PG\",\"TV-MA\",\"TV-14\",\"TV-14\",\"R\",\"TV-PG\",\"TV-MA\",\"TV-MA\",\"TV-MA\",\"TV-14\",\"TV-G\",\"TV-14\",\"TV-MA\",\"NR\",\"TV-PG\",\"TV-14\",\"TV-MA\",\"TV-MA\",\"TV-MA\",\"TV-MA\",\"TV-14\",\"TV-14\",\"TV-MA\",\"R\",\"TV-14\",\"R\",\"TV-Y7\",\"TV-MA\",\"TV-G\",\"TV-MA\",\"TV-MA\",\"TV-MA\",\"TV-MA\",\"TV-MA\",\"TV-MA\",\"TV-PG\",\"PG-13\",\"TV-14\",\"G\",\"TV-MA\",\"NR\",\"TV-14\",\"TV-Y7\",\"TV-PG\",\"TV-MA\",\"TV-PG\",\"R\",\"R\",\"R\",\"TV-14\",\"TV-PG\",\"TV-14\",\"TV-MA\",\"TV-14\",\"TV-MA\",\"TV-MA\",\"TV-G\",\"TV-G\",\"TV-PG\",\"TV-14\",\"R\",\"TV-14\",\"TV-MA\",\"TV-MA\",\"TV-MA\",\"TV-MA\",\"PG-13\",\"TV-14\",\"NR\",\"TV-Y\",\"TV-14\",\"TV-14\",\"R\",\"TV-MA\",\"TV-14\",\"PG-13\",\"TV-PG\",\"TV-14\",\"TV-MA\",\"TV-MA\",\"TV-MA\",\"TV-MA\",\"PG\",\"R\",\"TV-PG\",\"R\",\"TV-MA\",\"TV-MA\",\"TV-MA\",\"TV-14\",\"G\",\"TV-14\",\"TV-MA\",\"TV-14\",\"G\",\"TV-14\",\"TV-14\",\"TV-MA\",\"TV-MA\",\"TV-MA\",\"TV-MA\",\"PG\",\"TV-MA\",\"PG-13\",\"TV-14\",\"R\",\"R\",\"TV-MA\",\"TV-MA\",\"R\",\"TV-MA\",\"TV-MA\",\"TV-MA\",\"TV-MA\",\"TV-MA\",\"TV-14\",\"TV-MA\",\"TV-MA\",\"R\",\"TV-MA\",\"TV-PG\",\"PG\",\"R\",\"TV-G\",\"TV-G\",\"R\",\"PG\",\"TV-MA\",\"TV-PG\",\"R\",\"TV-MA\",\"TV-MA\",\"TV-PG\",\"TV-PG\",\"R\",\"R\",\"TV-14\",\"TV-MA\",\"TV-14\",\"TV-14\",\"R\",\"PG\",\"TV-MA\",\"TV-PG\",\"TV-PG\",\"R\",\"R\",\"TV-14\",\"TV-Y7\",\"TV-PG\",\"TV-PG\",\"TV-Y\",\"TV-PG\",\"R\",\"TV-14\",\"TV-MA\",\"TV-MA\",\"TV-MA\",\"TV-MA\",\"TV-MA\",\"TV-MA\",\"PG\",\"TV-MA\",\"TV-MA\",\"TV-14\",\"TV-14\",\"TV-MA\",\"TV-14\",\"TV-14\",\"TV-MA\",\"TV-14\",\"TV-MA\",\"TV-14\",\"TV-PG\",\"TV-14\",\"TV-14\",\"TV-MA\",\"TV-MA\",\"TV-MA\",\"TV-MA\",\"TV-MA\",\"TV-MA\",\"R\",\"TV-MA\",\"TV-MA\",\"TV-14\",\"TV-Y\",\"TV-Y7\",\"G\",\"TV-MA\",\"TV-PG\",\"TV-PG\",\"TV-MA\",\"TV-MA\",\"TV-MA\",\"TV-MA\",\"TV-PG\",\"TV-14\",\"TV-PG\",\"PG-13\",\"TV-MA\",\"TV-14\",\"TV-MA\",\"PG\",\"TV-MA\",\"R\",\"TV-MA\",\"TV-MA\",\"PG\",\"PG-13\",\"TV-MA\",\"PG-13\",\"TV-MA\",\"TV-MA\",\"TV-14\",\"TV-MA\",\"G\",\"TV-MA\",\"TV-Y7\",\"PG-13\",\"TV-MA\",\"TV-MA\",\"TV-14\",\"TV-MA\",\"R\",\"TV-MA\",\"TV-14\",\"G\",\"PG-13\",\"TV-MA\",\"TV-MA\",\"TV-MA\",\"PG-13\",\"TV-MA\",\"R\",\"TV-MA\",\"TV-14\",\"TV-MA\",\"TV-MA\",\"TV-MA\",\"TV-MA\",\"PG-13\",\"NR\",\"PG\",\"TV-PG\",\"TV-Y\",\"TV-PG\",\"PG\",\"TV-PG\",\"NR\",\"PG\",\"PG\",\"TV-MA\",\"TV-14\",\"TV-PG\",\"TV-G\",\"TV-PG\",\"TV-Y\",\"PG-13\",\"TV-MA\",\"R\",\"TV-14\",\"TV-MA\",\"TV-14\",\"R\",\"TV-14\",\"PG\",\"TV-14\",\"PG-13\",\"R\",\"R\",\"TV-MA\",\"TV-MA\",\"UR\",\"PG\",\"R\",\"TV-PG\",\"R\",\"R\",\"TV-MA\",\"R\",\"R\",\"PG\",\"TV-14\",\"R\",\"R\",\"TV-14\",\"TV-MA\",\"R\",\"TV-MA\",\"PG-13\",\"TV-14\",\"TV-14\",\"TV-14\",\"TV-MA\",\"TV-MA\",\"PG\",\"PG\",\"R\",\"TV-MA\",\"TV-MA\",\"TV-MA\",\"R\",\"TV-MA\",\"TV-MA\",\"R\",\"TV-PG\",\"G\",\"TV-G\",\"R\",\"TV-14\",\"TV-MA\",\"TV-14\",\"TV-MA\",\"TV-PG\",\"TV-MA\",\"TV-14\",\"TV-14\",\"TV-PG\",\"TV-G\",\"TV-14\",\"TV-MA\",\"TV-MA\",\"TV-14\",\"TV-14\",\"TV-14\",\"TV-14\",\"TV-14\",\"TV-MA\",\"PG-13\",\"PG\",\"TV-14\",\"TV-PG\",\"TV-14\",\"TV-14\",\"TV-14\",\"PG-13\",\"TV-14\",\"TV-14\",\"R\",\"TV-MA\",\"TV-14\",\"TV-MA\",\"TV-MA\",\"R\",\"TV-14\",\"TV-MA\",\"TV-MA\",\"TV-MA\",\"TV-MA\",\"TV-G\",\"TV-PG\",\"TV-MA\",\"PG-13\",\"TV-14\",\"TV-MA\",\"TV-14\",\"TV-MA\",\"NR\",\"TV-14\",\"TV-14\",\"R\",\"TV-14\",\"TV-MA\",\"R\",\"TV-MA\",\"TV-PG\",\"TV-14\",\"TV-14\",\"R\",\"R\",\"TV-14\",\"TV-G\",\"TV-PG\",\"NR\",\"TV-MA\",\"TV-MA\",\"TV-14\",\"TV-PG\",\"TV-MA\",\"TV-14\",\"TV-MA\",\"TV-MA\",\"TV-MA\",\"TV-MA\",\"TV-MA\",\"TV-14\",\"TV-14\",\"R\",\"TV-MA\",\"TV-MA\",\"TV-MA\",\"PG-13\",\"R\",\"R\",\"TV-MA\",\"TV-MA\",\"TV-MA\",\"TV-MA\",\"TV-14\",\"PG-13\",\"TV-MA\",\"TV-MA\",\"PG\",\"TV-14\",\"R\",\"R\",\"PG-13\",\"TV-14\",\"TV-14\",\"TV-MA\",\"R\",\"R\",\"TV-14\",\"TV-14\",\"TV-MA\",\"TV-14\",\"TV-MA\",\"TV-MA\",\"TV-14\",\"TV-MA\",\"TV-PG\",\"TV-MA\",\"TV-14\",\"TV-14\",\"TV-14\",\"TV-MA\",\"TV-MA\",\"TV-MA\",\"TV-MA\",\"TV-MA\",\"TV-14\",\"TV-MA\",\"TV-MA\",\"TV-14\",\"TV-14\",\"TV-14\",\"TV-PG\",\"R\",\"TV-14\",\"TV-PG\",\"TV-14\",\"TV-MA\",\"TV-14\",\"R\",\"PG-13\",\"TV-MA\",\"TV-PG\",\"TV-14\",\"TV-PG\",\"TV-MA\",\"TV-MA\",\"TV-MA\",\"TV-MA\",\"TV-MA\",\"TV-PG\",\"TV-PG\",\"TV-MA\",\"PG\",\"TV-MA\",\"TV-14\",\"TV-MA\",\"NR\",\"TV-14\",\"TV-MA\",\"TV-14\",\"TV-14\",\"TV-MA\",\"TV-PG\",\"TV-G\",\"PG-13\",\"PG-13\",\"TV-14\",\"TV-MA\",\"PG\",\"PG\",\"PG\",\"TV-14\",\"TV-PG\",\"PG\",\"TV-14\",\"R\",\"TV-Y\",\"TV-14\",\"R\",\"TV-14\",\"TV-PG\",\"R\",\"NR\",\"TV-MA\",\"TV-MA\",\"TV-MA\",\"PG-13\",\"TV-14\",\"PG\",\"TV-MA\",\"PG\",\"TV-14\",\"PG-13\",\"TV-MA\",\"TV-14\",\"TV-14\",\"TV-MA\",\"TV-MA\",\"TV-PG\",\"PG\",\"PG-13\",\"R\",\"NR\",\"TV-MA\",\"PG-13\",\"TV-14\",\"PG\",\"TV-PG\",\"PG\",\"TV-14\",\"PG-13\",\"PG\",\"PG-13\",\"TV-14\",\"TV-G\",\"TV-PG\",\"TV-PG\",\"TV-14\",\"TV-MA\",\"PG-13\",\"R\",\"TV-MA\",\"R\",\"TV-MA\",\"TV-MA\",\"TV-MA\",\"TV-14\",\"R\",\"R\",\"TV-MA\",\"TV-MA\",\"PG\",\"TV-MA\",\"TV-14\",\"TV-MA\",\"TV-PG\",\"TV-14\",\"TV-MA\",\"TV-PG\",\"TV-MA\",\"TV-14\",\"PG-13\",\"NR\",\"TV-14\",\"R\",\"R\",\"TV-MA\",\"R\",\"TV-14\",\"TV-MA\",\"PG-13\",\"TV-14\",\"TV-14\",\"TV-14\",\"TV-MA\",\"TV-MA\",\"TV-14\",\"R\",\"PG-13\",\"TV-MA\",\"TV-MA\",\"PG\",\"TV-MA\",\"TV-MA\",\"R\",\"TV-MA\",\"TV-MA\",\"TV-MA\",\"TV-MA\",\"TV-MA\",\"R\",\"TV-14\",\"PG\",\"PG\",\"TV-MA\",\"TV-MA\",\"TV-MA\",\"TV-MA\",\"TV-MA\",\"NR\",\"TV-MA\",\"PG\",\"TV-PG\",\"UR\",\"TV-MA\",\"TV-MA\",\"R\",\"TV-MA\",\"TV-14\",\"TV-MA\",\"TV-14\",\"TV-MA\",\"TV-14\",\"R\",\"PG-13\",\"TV-MA\",\"TV-MA\",\"TV-MA\",\"PG-13\",\"PG-13\",\"PG-13\",\"TV-14\",\"TV-MA\",\"TV-MA\",\"R\",\"TV-MA\",\"PG\",\"NR\",\"TV-MA\",\"PG-13\",\"PG-13\",\"PG\",\"PG\",\"TV-MA\",\"PG\",\"TV-PG\",\"R\",\"TV-MA\",\"TV-14\",\"TV-MA\",\"PG\",\"TV-14\",\"R\",\"PG-13\",\"PG-13\",\"TV-14\",\"TV-MA\",\"TV-MA\",\"R\",\"TV-PG\",\"R\",\"TV-MA\",\"TV-PG\",\"TV-14\",\"TV-PG\",\"TV-14\",\"TV-Y7\",\"PG-13\",\"TV-MA\",\"TV-PG\",\"TV-MA\",\"TV-14\",\"R\",\"R\",\"PG-13\",\"TV-MA\",\"TV-Y7\",\"TV-14\",\"TV-14\",\"TV-MA\",\"PG\",\"TV-MA\",\"TV-MA\",\"TV-MA\",\"TV-G\",\"TV-PG\",\"TV-14\",\"TV-14\",\"TV-MA\",\"TV-PG\",\"TV-14\",\"TV-MA\",\"R\",\"TV-MA\",\"TV-PG\",\"PG\",\"TV-14\",\"TV-MA\",\"TV-MA\",\"TV-14\",\"TV-MA\",\"NR\",\"TV-PG\",\"TV-Y7\",\"TV-14\",\"TV-14\",\"TV-14\",\"TV-MA\",\"TV-14\",\"PG\",\"TV-MA\",\"TV-MA\",\"TV-MA\",\"TV-MA\",\"R\",\"TV-PG\",\"TV-14\",\"R\",\"TV-14\",\"TV-MA\",\"TV-MA\",\"TV-14\",\"TV-MA\",\"TV-14\",\"TV-MA\",\"TV-Y\",\"TV-14\",\"TV-14\",\"TV-14\",\"TV-MA\",\"TV-MA\",\"TV-MA\",\"R\",\"TV-14\",\"TV-PG\",\"R\",\"TV-MA\",\"TV-MA\",\"TV-MA\",\"TV-MA\",\"TV-MA\",\"TV-MA\",\"TV-MA\",\"TV-MA\",\"TV-MA\",\"TV-MA\",\"TV-14\",\"TV-MA\",\"PG\",\"TV-MA\",\"TV-MA\",\"TV-MA\",\"R\",\"PG-13\",\"TV-14\",\"TV-PG\",\"R\",\"TV-14\",\"R\",\"TV-Y\",\"TV-14\",\"TV-MA\",\"TV-MA\",\"TV-PG\",\"TV-14\",\"TV-MA\",\"TV-14\",\"TV-14\",\"TV-PG\",\"TV-14\",\"TV-14\",\"TV-MA\",\"TV-MA\",\"TV-MA\",\"TV-MA\",\"TV-MA\",\"R\",\"TV-MA\",\"TV-MA\",\"G\",\"TV-14\",\"PG\",\"TV-Y\",\"PG\",\"TV-14\",\"TV-MA\",\"TV-MA\",\"TV-MA\",\"TV-MA\",\"TV-14\",\"TV-MA\",\"TV-MA\",\"TV-14\",\"TV-14\",\"TV-MA\",\"TV-MA\",\"TV-MA\",\"TV-14\",\"TV-MA\",\"PG-13\",\"TV-MA\",\"R\",\"TV-MA\",\"TV-MA\",\"TV-PG\",\"TV-MA\",\"TV-MA\",\"TV-MA\",\"TV-PG\",\"TV-PG\",\"TV-MA\",\"TV-MA\",\"TV-MA\",\"TV-MA\",\"TV-PG\",\"TV-14\",\"TV-14\",\"TV-MA\",\"TV-MA\",\"TV-MA\",\"TV-MA\",\"TV-PG\",\"TV-14\",\"TV-14\",\"PG\",\"TV-14\",\"PG-13\",\"PG-13\",\"R\",\"PG-13\",\"TV-MA\",\"TV-MA\",\"PG-13\",\"TV-MA\",\"TV-G\",\"R\",\"TV-14\",\"G\",\"TV-MA\",\"TV-MA\",\"PG-13\",\"TV-PG\",\"TV-MA\",\"TV-14\",\"TV-MA\",\"TV-PG\",\"TV-PG\",\"TV-14\",\"TV-14\",\"TV-14\",\"TV-PG\",\"TV-MA\",\"TV-14\",\"TV-14\",\"TV-14\",\"TV-MA\",\"TV-14\",\"TV-14\",\"PG\",\"TV-MA\",\"TV-14\",\"TV-14\",\"TV-14\",\"TV-MA\",\"TV-PG\",\"TV-MA\",\"TV-14\",\"TV-MA\",\"TV-14\",\"TV-PG\",\"TV-14\",\"TV-14\",\"TV-14\",\"TV-14\",\"TV-14\",\"TV-14\",\"TV-14\",\"TV-14\",\"TV-MA\",\"TV-14\",\"TV-PG\",\"TV-14\",\"TV-14\",\"TV-MA\",\"PG-13\",\"TV-14\",\"TV-PG\",\"TV-MA\",\"TV-MA\",\"TV-MA\",\"TV-MA\",\"TV-MA\",\"TV-MA\",\"NR\",\"TV-MA\",\"TV-14\",\"TV-MA\",\"TV-14\",\"TV-14\",\"TV-14\",\"TV-14\",\"TV-MA\",\"TV-MA\",\"TV-MA\",\"TV-MA\",\"R\",\"R\",\"TV-MA\",\"R\",\"TV-MA\",\"TV-PG\",\"TV-PG\",\"TV-PG\",\"TV-MA\",\"TV-14\",\"TV-14\",\"TV-14\",\"TV-14\",\"TV-14\",\"TV-PG\",\"TV-14\",\"TV-14\",\"R\",\"TV-MA\",\"R\",\"TV-14\",\"R\",\"TV-MA\",\"TV-PG\",\"R\",\"R\",\"TV-MA\",\"TV-14\",\"TV-14\",\"TV-MA\",\"R\",\"R\",\"TV-14\",\"TV-14\",\"PG-13\",\"PG-13\",\"R\",\"R\",\"TV-MA\",\"R\",\"NR\",\"TV-MA\",\"TV-14\",\"PG-13\",\"TV-MA\",\"PG-13\",\"R\",\"TV-PG\",\"TV-14\",\"TV-PG\",\"TV-MA\",\"R\",\"TV-G\",\"TV-14\",\"TV-14\",\"PG\",\"PG\",\"R\",\"TV-14\",\"PG-13\",\"TV-14\",\"TV-14\",\"TV-MA\",\"TV-14\",\"TV-G\",\"TV-14\",\"TV-14\",\"PG-13\",\"TV-14\",\"TV-MA\",\"TV-Y7\",\"TV-Y7\",\"TV-Y\",\"TV-Y7\",\"TV-Y7\",\"TV-Y7\",\"TV-Y7\",\"TV-Y7\",\"R\",\"TV-MA\",\"TV-MA\",\"NR\",\"TV-14\",\"R\",\"TV-14\",\"TV-14\",\"TV-MA\",\"R\",\"TV-Y7\",\"TV-PG\",\"TV-PG\",\"TV-PG\",\"TV-14\",\"TV-14\",\"TV-14\",\"R\",\"TV-MA\",\"TV-PG\",\"TV-14\",\"R\",\"TV-MA\",\"TV-PG\",\"TV-PG\",\"TV-MA\",\"TV-MA\",\"R\",\"PG-13\",\"TV-MA\",\"TV-14\",\"TV-MA\",\"TV-MA\",\"TV-14\",\"TV-PG\",\"TV-MA\",\"TV-G\",\"R\",\"R\",\"PG\",\"PG-13\",\"TV-MA\",\"NC-17\",\"TV-MA\",\"PG\",\"TV-MA\",\"TV-PG\",\"TV-PG\",\"TV-14\",\"TV-MA\",\"TV-MA\",\"TV-MA\",\"TV-14\",\"TV-14\",\"TV-MA\",\"TV-MA\",\"TV-14\",\"R\",\"R\",\"TV-14\",\"TV-Y\",\"TV-MA\",\"R\",\"R\",\"TV-MA\",\"TV-14\",\"TV-PG\",\"TV-MA\",\"PG\",\"PG\",\"TV-Y\",\"TV-Y\",\"TV-Y\",\"TV-Y\",\"TV-MA\",\"PG-13\",\"PG-13\",\"R\",\"PG\",\"TV-MA\",\"TV-14\",\"TV-PG\",\"R\",\"TV-Y7\",\"TV-G\",\"TV-Y7\",\"TV-Y7\",\"TV-Y7\",\"TV-Y\",\"TV-Y7-FV\",\"TV-Y7\",\"TV-MA\",\"TV-MA\",\"TV-Y7-FV\",\"TV-MA\",\"PG-13\",\"TV-MA\",\"TV-14\",\"TV-MA\",\"PG-13\",\"TV-PG\",\"TV-14\",\"TV-MA\",\"TV-14\",\"TV-PG\",\"TV-MA\",\"TV-MA\",\"TV-PG\",\"TV-MA\",\"R\",\"TV-14\",\"TV-PG\",\"TV-MA\",\"TV-PG\",\"TV-PG\",\"TV-14\",\"TV-MA\",\"TV-14\",\"TV-14\",\"TV-PG\",\"TV-MA\",\"R\",\"TV-MA\",\"R\",\"TV-MA\",\"TV-PG\",\"PG-13\",\"TV-MA\",\"TV-MA\",\"TV-14\",\"TV-PG\",\"TV-14\",\"TV-MA\",\"TV-14\",\"TV-Y\",\"TV-MA\",\"TV-14\",\"TV-MA\",\"TV-Y7\",\"TV-Y7\",\"PG\",\"TV-G\",\"PG\",\"PG-13\",\"TV-Y7-FV\",\"TV-Y7\",\"TV-Y7\",\"TV-Y7\",\"TV-Y7\",\"TV-Y7\",\"TV-Y7\",\"NR\",\"TV-MA\",\"TV-MA\",\"TV-14\",\"PG-13\",\"TV-14\",\"TV-14\",\"TV-PG\",\"R\",\"R\",\"TV-14\",\"PG-13\",\"TV-MA\",\"TV-MA\",\"PG\",\"TV-14\",\"R\",\"TV-MA\",\"R\",\"TV-MA\",\"TV-14\",\"TV-14\",\"TV-14\",\"TV-14\",\"NR\",\"TV-14\",\"TV-G\",\"TV-MA\",\"TV-14\",\"TV-PG\",\"TV-14\",\"TV-MA\",\"R\",\"TV-PG\",\"TV-14\",\"TV-MA\",\"TV-MA\",\"TV-MA\",\"TV-MA\",\"TV-MA\",\"R\",\"TV-MA\",\"TV-14\",\"TV-14\",\"TV-MA\",\"TV-MA\",\"TV-MA\",\"TV-14\",\"PG-13\",\"R\",\"TV-14\",\"TV-14\",\"TV-14\",\"TV-MA\",\"TV-14\",\"TV-14\",\"TV-MA\",\"TV-14\",\"TV-MA\",\"TV-14\",\"TV-14\",\"TV-PG\",\"R\",\"TV-14\",\"TV-MA\",\"TV-MA\",\"TV-MA\",\"PG-13\",\"TV-MA\",\"TV-MA\",\"TV-14\",\"TV-MA\",\"PG\",\"TV-MA\",\"TV-G\",\"TV-G\",\"TV-G\",\"TV-Y\",\"TV-PG\",\"TV-14\",\"TV-MA\",\"TV-14\",\"TV-14\",\"TV-14\",\"TV-14\",\"TV-MA\",\"TV-PG\",\"PG-13\",\"TV-14\",\"TV-MA\",\"TV-MA\",\"TV-14\",\"TV-MA\",\"TV-14\",\"R\",\"TV-PG\",\"TV-PG\",\"R\",\"TV-MA\",\"R\",\"TV-MA\",\"R\",\"PG-13\",\"NR\",\"TV-MA\",\"TV-14\",\"PG\",\"TV-MA\",\"TV-MA\",\"TV-14\",\"TV-14\",\"TV-MA\",\"TV-Y\",\"TV-14\",\"TV-14\",\"R\",\"TV-PG\",\"TV-14\",\"TV-14\",\"TV-14\",\"TV-PG\",\"TV-14\",\"TV-14\",\"TV-PG\",\"TV-14\",\"TV-PG\",\"TV-MA\",\"TV-G\",\"TV-MA\",\"TV-PG\",\"TV-14\",\"TV-MA\",\"TV-MA\",\"TV-MA\",\"TV-G\",\"TV-G\",\"TV-MA\",\"TV-PG\",\"TV-14\",\"R\",\"R\",\"TV-MA\",\"TV-14\",\"PG-13\",\"TV-14\",\"TV-14\",\"TV-MA\",\"TV-14\",\"TV-14\",\"R\",\"TV-MA\",\"TV-14\",\"TV-MA\",\"TV-14\",\"TV-14\",\"PG-13\",\"TV-MA\",\"TV-MA\",\"TV-MA\",\"TV-14\",\"TV-14\",\"TV-14\",\"R\",\"TV-MA\",\"R\",\"TV-MA\",\"TV-MA\",\"TV-MA\",\"TV-MA\",\"TV-MA\",\"TV-MA\",\"TV-MA\",\"TV-MA\",\"TV-G\",\"TV-MA\",\"TV-14\",\"TV-MA\",\"TV-MA\",\"TV-14\",\"R\",\"R\",\"R\",\"TV-PG\",\"TV-14\",\"TV-14\",\"TV-PG\",\"PG\",\"PG\",\"PG\",\"PG\",\"TV-PG\",\"PG\",\"TV-14\",\"TV-MA\",\"TV-MA\",\"TV-14\",\"NR\",\"TV-14\",\"TV-14\",\"TV-MA\",\"TV-14\",\"TV-14\",\"TV-MA\",\"TV-14\",\"TV-MA\",\"TV-14\",\"TV-MA\",\"TV-MA\",\"TV-14\",\"TV-PG\",\"TV-14\",\"TV-PG\",\"TV-PG\",\"TV-14\",\"TV-PG\",\"TV-MA\",\"TV-MA\",\"R\",\"PG-13\",\"R\",\"TV-PG\",\"TV-MA\",\"TV-PG\",\"TV-14\",\"TV-MA\",\"TV-MA\",\"TV-PG\",\"R\",\"TV-MA\",\"TV-MA\",\"TV-14\",\"PG-13\",\"PG-13\",\"TV-14\",\"PG\",\"TV-MA\",\"R\",\"TV-14\",\"TV-MA\",\"TV-PG\",\"TV-MA\",\"TV-14\",\"TV-MA\",\"TV-MA\",\"TV-MA\",\"TV-MA\",\"TV-14\",\"TV-MA\",\"R\",\"TV-14\",\"TV-MA\",\"R\",\"TV-PG\",\"TV-MA\",\"TV-14\",\"R\",\"TV-MA\",\"TV-MA\",\"TV-MA\",\"TV-PG\",\"TV-MA\",\"TV-MA\",\"TV-MA\",\"R\",\"PG\",\"TV-G\",\"PG-13\",\"TV-Y\",\"TV-Y7\",\"TV-14\",\"TV-MA\",\"TV-MA\",\"TV-MA\",\"TV-MA\",\"TV-MA\",\"TV-14\",\"R\",\"TV-14\",\"TV-MA\",\"TV-MA\",\"R\",\"R\",\"TV-MA\",\"TV-14\",\"TV-MA\",\"TV-14\",\"TV-14\",\"PG\",\"TV-14\",\"TV-MA\",\"PG\",\"TV-14\",\"PG\",\"TV-MA\",\"TV-PG\",\"TV-14\",\"TV-G\",\"TV-MA\",\"PG-13\",\"TV-PG\",\"TV-MA\",\"PG-13\",\"TV-14\",\"NR\",\"TV-MA\",\"NR\",\"TV-MA\",\"TV-PG\",\"TV-14\",\"TV-MA\",\"TV-MA\",\"TV-PG\",\"R\",\"TV-PG\",\"TV-MA\",\"TV-MA\",\"PG\",\"TV-MA\",\"TV-14\",\"TV-MA\",\"TV-14\",\"R\",\"TV-14\",\"R\",\"TV-14\",\"TV-14\",\"PG-13\",\"R\",\"TV-MA\",\"R\",\"TV-MA\",\"PG\",\"TV-MA\",\"PG\",\"TV-Y7\",\"TV-Y7\",\"TV-Y\",\"TV-Y7\",\"TV-Y7\",\"TV-Y7\",\"TV-Y7\",\"TV-Y7\",\"TV-Y7\",\"TV-Y7\",\"TV-Y7\",\"TV-Y7\",\"TV-G\",\"TV-Y7\",\"PG\",\"TV-Y7\",\"PG-13\",\"R\",\"PG\",\"TV-MA\",\"TV-MA\",\"TV-MA\",\"TV-MA\",\"R\",\"TV-MA\",\"R\",\"R\",\"R\",\"R\",\"TV-14\",\"R\",\"TV-MA\",\"TV-14\",\"TV-MA\",\"TV-MA\",\"TV-MA\",\"TV-14\",\"TV-14\",\"TV-PG\",\"TV-Y7-FV\",\"PG\",\"R\",\"PG-13\",\"TV-MA\",\"PG-13\",\"PG-13\",\"TV-14\",\"PG\",\"TV-MA\",\"R\",\"TV-14\",\"TV-MA\",\"TV-14\",\"PG-13\",\"TV-MA\",\"TV-14\",\"PG-13\",\"TV-MA\",\"TV-MA\",\"TV-14\",\"TV-14\",\"PG-13\",\"R\",\"TV-14\",\"TV-14\",\"TV-PG\",\"TV-14\",\"TV-PG\",\"TV-MA\",\"TV-MA\",\"TV-14\",\"TV-MA\",\"TV-MA\",\"TV-14\",\"PG\",\"PG\",\"TV-14\",\"TV-MA\",\"TV-14\",\"PG-13\",\"NR\",\"TV-MA\",\"TV-14\",\"TV-14\",\"TV-14\",\"TV-MA\",\"TV-MA\",\"TV-PG\",\"TV-MA\",\"TV-14\",\"TV-PG\",\"TV-14\",\"TV-MA\",\"TV-14\",\"TV-PG\",\"TV-14\",\"TV-14\",\"PG-13\",\"TV-14\",\"TV-MA\",\"TV-14\",\"TV-14\",\"PG-13\",\"TV-14\",\"TV-MA\",\"TV-MA\",\"PG-13\",\"TV-Y\",\"TV-Y\",\"TV-Y7\",\"TV-Y\",\"TV-Y\",\"TV-Y\",\"TV-MA\",\"TV-PG\",\"TV-G\",\"TV-14\",\"TV-MA\",\"PG\",\"TV-14\",\"TV-MA\",\"PG-13\",\"TV-PG\",\"TV-MA\",\"TV-G\",\"TV-14\",\"TV-MA\",\"TV-14\",\"TV-MA\",\"TV-MA\",\"TV-14\",\"R\",\"TV-MA\",\"TV-14\",\"R\",\"R\",\"TV-PG\",\"TV-14\",\"TV-14\",\"TV-14\",\"PG\",\"TV-PG\",\"TV-MA\",\"TV-14\",\"TV-PG\",\"TV-14\",\"TV-14\",\"NR\",\"TV-MA\",\"TV-MA\",\"TV-MA\",\"TV-PG\",\"TV-PG\",\"TV-14\",\"TV-PG\",\"TV-14\",\"TV-PG\",\"TV-PG\",\"TV-PG\",\"TV-14\",\"TV-PG\",\"TV-MA\",\"TV-MA\",\"TV-MA\",\"TV-14\",\"TV-PG\",\"TV-MA\",\"TV-MA\",\"PG-13\",\"TV-G\",\"PG\",\"TV-14\",\"R\",\"R\",\"TV-G\",\"TV-PG\",\"TV-MA\",\"TV-14\",\"TV-MA\",\"TV-14\",\"TV-14\",\"TV-14\",\"R\",\"TV-14\",\"TV-PG\",\"TV-14\",\"PG\",\"TV-MA\",\"NR\",\"PG-13\",\"TV-14\",\"TV-PG\",\"TV-14\",\"TV-MA\",\"TV-MA\",\"R\",\"TV-MA\",\"TV-PG\",\"R\",\"PG-13\",\"TV-MA\",\"TV-MA\",\"TV-MA\",\"R\",\"TV-14\",\"TV-14\",\"TV-PG\",\"TV-MA\",\"TV-PG\",\"TV-MA\",\"TV-MA\",\"TV-14\",\"TV-MA\",\"TV-MA\",\"TV-MA\",\"PG\",\"TV-MA\",\"TV-MA\",\"TV-MA\",\"TV-14\",\"R\",\"TV-MA\",\"TV-Y7\",\"TV-PG\",\"TV-PG\",\"TV-MA\",\"TV-14\",\"TV-MA\",\"TV-PG\",\"TV-MA\",\"PG\",\"PG-13\",\"TV-G\",\"TV-G\",\"TV-PG\",\"TV-PG\",\"TV-PG\",\"TV-G\",\"TV-14\",\"TV-G\",\"TV-PG\",\"TV-PG\",\"TV-14\",\"TV-PG\",\"TV-PG\",\"TV-PG\",\"TV-PG\",\"TV-G\",\"TV-PG\",\"TV-PG\",\"TV-PG\",\"TV-G\",\"PG-13\",\"PG-13\",\"TV-MA\",\"R\",\"TV-PG\",\"TV-MA\",\"NR\",\"TV-MA\",\"TV-MA\",\"R\",\"R\",\"G\",\"R\",\"TV-PG\",\"PG-13\",\"PG-13\",\"TV-Y\",\"TV-Y\",\"TV-Y\",\"TV-Y\",\"TV-14\",\"TV-MA\",\"TV-MA\",\"R\",\"TV-MA\",\"TV-14\",\"TV-MA\",\"TV-MA\",\"TV-MA\",\"TV-PG\",\"TV-MA\",\"TV-MA\",\"TV-14\",\"TV-14\",\"TV-14\",\"TV-14\",\"TV-MA\",\"PG\",\"TV-14\",\"TV-14\",\"TV-MA\",\"R\",\"TV-14\",\"TV-14\",\"TV-MA\",\"TV-MA\",\"TV-MA\",\"TV-14\",\"TV-14\",\"TV-14\",\"TV-MA\",\"TV-PG\",\"TV-MA\",\"TV-MA\",\"TV-14\",\"TV-PG\",\"TV-MA\",\"TV-PG\",\"TV-MA\",\"TV-PG\",\"TV-MA\",\"NR\",\"TV-14\",\"PG-13\",\"TV-14\",\"TV-14\",\"TV-PG\",\"TV-G\",\"TV-14\",\"PG\",\"TV-G\",\"TV-14\",\"TV-MA\",\"TV-MA\",\"TV-MA\",\"TV-14\",\"TV-MA\",\"TV-14\",\"TV-G\",\"TV-MA\",\"TV-MA\",\"R\",\"TV-14\",\"TV-MA\",\"PG\",\"TV-MA\",\"TV-MA\",\"TV-G\",\"NR\",\"TV-MA\",\"TV-MA\",\"TV-MA\",\"TV-MA\",\"TV-MA\",\"TV-PG\",\"TV-14\",\"TV-MA\",\"TV-14\",\"TV-14\",\"TV-14\",\"TV-MA\",\"R\",\"TV-MA\",\"TV-MA\",\"TV-PG\",\"TV-MA\",\"PG-13\",\"R\",\"TV-MA\",\"TV-G\",\"TV-PG\",\"TV-14\",\"TV-MA\",\"TV-PG\",\"TV-MA\",\"R\",\"TV-MA\",\"TV-MA\",\"R\",\"PG\",\"TV-MA\",\"TV-MA\",\"TV-14\",\"TV-MA\",\"TV-14\",\"PG-13\",\"TV-14\",\"TV-14\",\"NR\",\"TV-Y7\",\"PG\",\"TV-G\",\"PG-13\",\"TV-MA\",\"TV-14\",\"TV-MA\",\"TV-PG\",\"TV-PG\",\"TV-MA\",\"R\",\"R\",\"TV-PG\",\"TV-MA\",\"TV-14\",\"TV-MA\",\"R\",\"TV-MA\",\"TV-MA\",\"R\",\"TV-14\",\"TV-MA\",\"TV-G\",\"TV-PG\",\"TV-MA\",\"TV-MA\",\"TV-MA\",\"TV-MA\",\"R\",\"TV-14\",\"PG\",\"TV-14\",\"TV-14\",\"TV-PG\",\"TV-14\",\"R\",\"TV-MA\",\"TV-MA\",\"TV-PG\",\"TV-14\",\"TV-14\",\"TV-14\",\"R\",\"TV-PG\",\"TV-14\",\"TV-MA\",\"TV-PG\",\"R\",\"TV-MA\",\"TV-MA\",\"TV-MA\",\"PG\",\"TV-14\",\"TV-MA\",\"TV-14\",\"TV-14\",\"TV-MA\",\"TV-MA\",\"TV-PG\",\"TV-PG\",\"TV-MA\",\"TV-MA\",\"TV-MA\",\"TV-MA\",\"TV-14\",\"TV-14\",\"PG\",\"PG\",\"TV-MA\",\"R\",\"TV-PG\",\"TV-MA\",\"TV-MA\",\"R\",\"TV-PG\",\"R\",\"TV-MA\",\"TV-MA\",\"PG\",\"TV-Y7\",\"TV-14\",\"TV-14\",\"TV-G\",\"TV-MA\",\"TV-14\",\"PG\",\"PG-13\",\"TV-14\",\"TV-14\",\"TV-14\",\"TV-MA\",\"TV-14\",\"TV-14\",\"TV-14\",\"TV-PG\",\"TV-MA\",\"R\",\"R\",\"TV-MA\",\"TV-14\",\"TV-PG\",\"R\",\"TV-14\",\"TV-Y\",\"TV-MA\",\"TV-MA\",\"TV-14\",\"TV-MA\",\"TV-14\",\"TV-MA\",\"PG\",\"TV-14\",\"TV-MA\",\"R\",\"TV-14\",\"PG-13\",\"TV-14\",\"TV-MA\",\"TV-MA\",\"TV-MA\",\"TV-Y\",\"TV-Y\",\"TV-Y\",\"TV-Y\",\"TV-Y\",\"TV-Y\",\"TV-MA\",\"TV-Y7\",\"TV-Y7\",\"TV-Y7\",\"TV-MA\",\"PG-13\",\"TV-PG\",\"TV-14\",\"PG\",\"PG\",\"TV-MA\",\"PG-13\",\"TV-MA\",\"TV-14\",\"TV-MA\",\"PG-13\",\"TV-MA\",\"PG-13\",\"TV-MA\",\"TV-Y7\",\"TV-Y7\",\"TV-Y7\",\"TV-Y7\",\"TV-Y7\",\"TV-Y7\",\"TV-Y7\",\"TV-Y7\",\"TV-MA\",\"TV-14\",\"TV-14\",\"TV-14\",\"TV-14\",\"NR\",\"TV-14\",\"TV-PG\",\"R\",\"TV-PG\",\"TV-14\",\"TV-G\",\"TV-MA\",\"TV-14\",\"R\",\"TV-PG\",\"TV-MA\",\"TV-MA\",\"TV-14\",\"R\",\"PG-13\",\"TV-MA\",\"R\",\"TV-MA\",\"TV-MA\",\"R\",\"TV-14\",\"TV-14\",\"R\",\"TV-14\",\"G\",\"PG\",\"G\",\"PG\",\"TV-MA\",\"R\",\"TV-Y7\",\"PG\",\"TV-14\",\"TV-MA\",\"TV-MA\",\"TV-14\",\"TV-MA\",\"TV-14\",\"TV-14\",\"TV-PG\",\"TV-14\",\"PG-13\",\"PG-13\",\"TV-MA\",\"PG-13\",\"TV-MA\",\"TV-PG\",\"PG-13\",\"TV-MA\",\"TV-14\",\"PG\",\"TV-14\",\"TV-MA\",\"TV-PG\",\"TV-14\",\"TV-14\",\"PG\",\"R\",\"TV-MA\",\"TV-G\",\"TV-PG\",\"TV-14\",\"TV-14\",\"TV-MA\",\"TV-MA\",\"R\",\"TV-MA\",\"TV-MA\",\"TV-14\",\"NR\",\"TV-14\",\"R\",\"TV-14\",\"TV-MA\",\"TV-Y\",\"R\",\"TV-14\",\"TV-14\",\"TV-MA\",\"TV-PG\",\"TV-MA\",\"PG\",\"TV-MA\",\"TV-MA\",\"TV-14\",\"TV-14\",\"TV-14\",\"TV-MA\",\"TV-PG\",\"TV-14\",\"TV-MA\",\"TV-MA\",\"TV-MA\",\"TV-14\",\"PG\",\"TV-14\",\"TV-14\",\"TV-MA\",\"NR\",\"TV-MA\",\"TV-MA\",\"TV-MA\",\"TV-14\",\"TV-14\",\"TV-PG\",\"TV-MA\",\"TV-14\",\"TV-14\",\"PG-13\",\"PG-13\",\"PG-13\",\"TV-MA\",\"TV-MA\",\"TV-MA\",\"TV-MA\",\"PG-13\",\"TV-14\",\"TV-PG\",\"R\",\"TV-PG\",\"TV-MA\",\"TV-MA\",\"TV-14\",\"R\",\"TV-14\",\"TV-MA\",\"TV-14\",\"TV-MA\",\"TV-MA\",\"TV-14\",\"TV-MA\",\"TV-14\",\"TV-PG\",\"R\",\"PG-13\",\"PG-13\",\"TV-MA\",\"R\",\"TV-MA\",\"TV-MA\",\"TV-MA\",\"R\",\"TV-MA\",\"TV-MA\",\"TV-MA\",\"R\",\"NR\",\"R\",\"TV-14\",\"TV-MA\",\"TV-14\",\"R\",\"R\",\"NR\",\"TV-MA\",\"TV-MA\",\"TV-MA\",\"TV-MA\",\"TV-MA\",\"TV-14\",\"TV-MA\",\"TV-MA\",\"PG\",\"TV-PG\",\"TV-MA\",\"R\",\"TV-14\",\"TV-14\",\"TV-MA\",\"TV-PG\",\"TV-14\",\"TV-MA\",\"TV-PG\",\"TV-MA\",\"PG-13\",\"TV-MA\",\"TV-G\",\"TV-MA\",\"PG-13\",\"TV-MA\",\"TV-PG\",\"TV-14\",\"TV-14\",\"R\",\"TV-MA\",\"TV-14\",\"TV-14\",\"TV-MA\",\"TV-PG\",\"TV-14\",\"TV-Y7\",\"PG\",\"TV-MA\",\"PG\",\"PG\",\"PG\",\"PG-13\",\"TV-MA\",\"TV-MA\",\"R\",\"TV-MA\",\"R\",\"R\",\"TV-MA\",\"TV-MA\",\"TV-MA\",\"TV-MA\",\"TV-MA\",\"R\",\"TV-MA\",\"NR\",\"TV-14\",\"TV-14\",\"TV-14\",\"TV-MA\",\"TV-MA\",\"TV-MA\",\"TV-MA\",\"R\",\"TV-MA\",\"TV-Y7\",\"TV-PG\",\"TV-PG\",\"PG\",\"TV-MA\",\"TV-14\",\"R\",\"R\",\"TV-14\",\"TV-MA\",\"TV-14\",\"G\",\"TV-MA\",\"TV-MA\",\"R\",\"PG-13\",\"TV-14\",\"PG\",\"TV-14\",\"TV-14\",\"TV-14\",\"TV-MA\",\"TV-MA\",\"TV-MA\",\"PG\",\"TV-MA\",\"NR\",\"R\",\"TV-14\",\"TV-14\",\"TV-MA\",\"TV-MA\",\"PG-13\",\"TV-MA\",\"TV-PG\",\"TV-14\",\"TV-14\",\"TV-14\",\"TV-14\",\"TV-MA\",\"TV-MA\",\"TV-14\",\"TV-MA\",\"TV-14\",\"TV-14\",\"TV-MA\",\"R\",\"TV-Y7\",\"TV-MA\",\"TV-MA\",\"TV-14\",\"TV-14\",\"TV-PG\",\"TV-14\",\"TV-MA\",\"TV-PG\",\"TV-14\",\"TV-MA\",\"TV-MA\",\"TV-MA\",\"TV-MA\",\"TV-MA\",\"TV-MA\",\"TV-PG\",\"PG-13\",\"TV-14\",\"TV-14\",\"PG-13\",\"TV-Y\",\"TV-14\",\"TV-14\",\"TV-MA\",\"TV-PG\",\"TV-14\",\"TV-14\",\"TV-MA\",\"TV-14\",\"TV-PG\",\"TV-PG\",\"TV-Y\",\"TV-G\",\"TV-MA\",\"TV-14\",\"TV-MA\",\"TV-MA\",\"TV-MA\",\"PG-13\",\"TV-PG\",\"TV-14\",\"TV-PG\",\"TV-14\",\"TV-MA\",\"TV-14\",\"TV-14\",\"TV-14\",\"TV-14\",\"TV-14\",\"TV-MA\",\"TV-14\",\"TV-G\",\"TV-14\",\"TV-MA\",\"TV-14\",\"TV-14\",\"TV-MA\",\"TV-MA\",\"TV-MA\",\"TV-PG\",\"PG-13\",\"R\",\"TV-14\",\"R\",\"TV-14\",\"PG\",\"TV-PG\",\"TV-MA\",\"R\",\"PG-13\",\"R\",\"R\",\"TV-MA\",\"TV-14\",\"TV-PG\",\"PG-13\",\"PG-13\",\"R\",\"R\",\"TV-MA\",\"TV-MA\",\"TV-MA\",\"R\",\"PG\",\"PG-13\",\"PG-13\",\"TV-MA\",\"TV-MA\",\"TV-MA\",\"TV-MA\",\"TV-PG\",\"PG-13\",\"TV-14\",\"TV-14\",\"TV-14\",\"TV-PG\",\"TV-PG\",\"TV-PG\",\"TV-PG\",\"TV-PG\",\"TV-14\",\"TV-PG\",\"TV-PG\",\"TV-PG\",\"TV-PG\",\"TV-PG\",\"R\",\"TV-MA\",\"TV-14\",\"TV-14\",\"PG-13\",\"TV-MA\",\"TV-14\",\"PG-13\",\"TV-MA\",\"PG-13\",\"TV-MA\",\"R\",\"TV-MA\",\"TV-MA\",\"TV-MA\",\"TV-MA\",\"R\",\"TV-MA\",\"TV-MA\",\"TV-MA\",\"TV-14\",\"TV-MA\",\"TV-14\",\"TV-14\",\"PG-13\",\"PG-13\",\"TV-MA\",\"TV-MA\",\"PG-13\",\"R\",\"R\",\"UR\",\"R\",\"R\",\"TV-14\",\"TV-MA\",\"TV-MA\",\"TV-14\",\"TV-14\",\"TV-14\",\"TV-MA\",\"TV-MA\",\"TV-14\",\"TV-14\",\"TV-PG\",\"TV-14\",\"PG-13\",\"TV-14\",\"TV-Y\",\"TV-14\",\"TV-MA\",\"TV-PG\",\"TV-PG\",\"TV-14\",\"TV-14\",\"R\",\"TV-14\",\"TV-MA\",\"R\",\"R\",\"PG-13\",\"TV-14\",\"TV-14\",\"TV-MA\",\"TV-MA\",\"TV-14\",\"TV-MA\",\"TV-PG\",\"UR\",\"TV-Y\",\"TV-Y\",\"TV-Y\",\"TV-MA\",\"TV-14\",\"R\",\"TV-PG\",\"PG\",\"R\",\"TV-MA\",\"TV-G\",\"TV-PG\",\"TV-14\",\"TV-MA\",\"TV-PG\",\"TV-G\",\"TV-G\",\"TV-MA\",\"TV-MA\",\"TV-G\",\"PG-13\",\"TV-14\",\"TV-MA\",\"TV-Y\",\"R\",\"TV-PG\",\"TV-14\",\"R\",\"TV-MA\",\"TV-MA\",\"TV-MA\",\"TV-14\",\"TV-MA\",\"TV-PG\",\"TV-14\",\"TV-14\",\"TV-PG\",\"PG-13\",\"R\",\"TV-MA\",\"TV-MA\",\"TV-MA\",\"R\",\"TV-14\",\"TV-PG\",\"TV-MA\",\"R\",\"TV-MA\",\"PG-13\",\"TV-MA\",\"TV-MA\",\"TV-G\",\"TV-G\",\"PG-13\",\"TV-MA\",\"R\",\"PG\",\"R\",\"R\",\"TV-MA\",\"R\",\"TV-MA\",\"PG-13\",\"R\",\"R\",\"TV-MA\",\"TV-14\",\"PG-13\",\"R\",\"PG\",\"R\",\"R\",\"TV-14\",\"TV-14\",\"TV-MA\",\"TV-MA\",\"TV-MA\",\"TV-MA\",\"TV-14\",\"TV-14\",\"TV-14\",\"TV-MA\",\"NR\",\"PG-13\",\"PG-13\",\"R\",\"TV-MA\",\"R\",\"TV-MA\",\"PG-13\",\"TV-14\",\"TV-MA\",\"TV-MA\",\"R\",\"TV-14\",\"TV-MA\",\"NR\",\"TV-14\",\"TV-14\",\"TV-14\",\"PG\",\"TV-MA\",\"NR\",\"PG-13\",\"TV-MA\",\"PG\",\"TV-MA\",\"TV-PG\",\"TV-MA\",\"TV-14\",\"PG-13\",\"TV-14\",\"TV-G\",\"R\",\"PG-13\",\"PG-13\",\"PG\",\"TV-Y7\",\"TV-Y7\",\"TV-14\",\"TV-MA\",\"TV-MA\",\"TV-Y\",\"G\",\"R\",\"R\",\"TV-MA\",\"TV-MA\",\"PG\",\"PG\",\"PG\",\"PG\",\"TV-MA\",\"TV-14\",\"TV-MA\",\"TV-14\",\"R\",\"TV-14\",\"PG-13\",\"TV-Y\",\"PG-13\",\"TV-MA\",\"TV-14\",\"PG-13\",\"TV-14\",\"TV-PG\",\"TV-PG\",\"TV-Y\",\"TV-MA\",\"R\",\"TV-14\",\"PG-13\",\"R\",\"TV-MA\",\"R\",\"TV-14\",\"TV-14\",\"TV-MA\",\"TV-MA\",\"TV-PG\",\"PG-13\",\"NR\",\"TV-PG\",\"TV-MA\",\"PG-13\",\"TV-PG\",\"R\",\"PG-13\",\"TV-MA\",\"TV-MA\",\"TV-MA\",\"TV-Y7\",\"PG\",\"TV-MA\",\"R\",\"R\",\"TV-MA\",\"NR\",\"TV-MA\",\"PG\",\"PG\",\"TV-MA\",\"TV-MA\",\"TV-G\",\"TV-MA\",\"TV-MA\",\"NR\",\"TV-MA\",\"TV-14\",\"PG-13\",\"TV-G\",\"TV-MA\",\"TV-MA\",\"TV-MA\",\"TV-MA\",\"TV-MA\",\"PG-13\",\"TV-14\",\"TV-MA\",\"TV-Y7\",\"TV-MA\",\"TV-MA\",\"TV-Y\",\"TV-Y\",\"TV-Y\",\"TV-Y\",\"TV-Y\",\"TV-Y\",\"TV-Y\",\"TV-Y\",\"TV-Y\",\"TV-PG\",\"R\",\"R\",\"TV-MA\",\"PG-13\",\"PG-13\",\"TV-14\",\"TV-14\",\"TV-14\",\"PG\",\"TV-14\",\"TV-14\",\"TV-14\",\"TV-MA\",\"TV-MA\",\"TV-G\",\"TV-MA\",\"TV-MA\",\"TV-PG\",\"TV-PG\",\"TV-MA\",\"NC-17\",\"R\",\"R\",\"PG-13\",\"TV-14\",\"R\",\"TV-MA\",\"R\",\"R\",\"TV-14\",\"TV-MA\",\"TV-PG\",\"PG\",\"TV-14\",\"TV-MA\",\"R\",\"TV-MA\",\"TV-MA\",\"TV-14\",\"PG-13\",\"TV-14\",\"TV-14\",\"R\",\"TV-PG\",\"TV-MA\",\"TV-MA\",\"TV-14\",\"TV-MA\",\"TV-MA\",\"TV-14\",\"TV-MA\",\"TV-14\",\"TV-14\",\"TV-MA\",\"TV-PG\",\"G\",\"G\",\"TV-14\",\"TV-MA\",\"R\",\"TV-MA\",\"R\",\"TV-PG\",\"TV-MA\",\"TV-Y7\",\"TV-14\",\"TV-14\",\"TV-MA\",\"R\",\"TV-14\",\"TV-14\",\"TV-MA\",\"TV-PG\",\"TV-MA\",\"PG\",\"PG\",\"PG\",\"TV-PG\",\"TV-MA\",\"TV-Y7\",\"TV-MA\",\"TV-MA\",\"TV-MA\",\"TV-14\",\"R\",\"R\",\"PG-13\",\"TV-PG\",\"TV-MA\",\"TV-PG\",\"TV-MA\",\"TV-14\",\"TV-14\",\"TV-14\",\"TV-14\",\"TV-14\",\"TV-MA\",\"TV-MA\",\"TV-MA\",\"TV-MA\",\"TV-MA\",\"TV-MA\",\"TV-MA\",\"TV-MA\",\"TV-MA\",\"TV-MA\",\"TV-14\",\"R\",\"TV-Y7\",\"PG\",\"PG\",\"TV-MA\",\"TV-14\",\"TV-MA\",\"TV-MA\",\"TV-14\",\"TV-PG\",\"TV-MA\",\"PG-13\",\"R\",\"TV-MA\",\"PG\",\"TV-MA\",\"TV-14\",\"TV-MA\",\"TV-MA\",\"TV-PG\",\"TV-MA\",\"TV-MA\",\"R\",\"R\",\"PG-13\",\"R\",\"R\",\"TV-MA\",\"R\",\"TV-MA\",\"TV-MA\",\"TV-14\",\"R\",\"TV-MA\",\"TV-MA\",\"R\",\"R\",\"TV-MA\",\"TV-14\",\"TV-MA\",\"TV-MA\",\"TV-14\",\"TV-14\",\"TV-MA\",\"TV-14\",\"TV-PG\",\"TV-PG\",\"TV-MA\",\"TV-MA\",\"TV-MA\",\"TV-MA\",\"TV-14\",\"TV-MA\",\"TV-MA\",\"PG-13\",\"TV-MA\",\"R\",\"TV-14\",\"R\",\"TV-14\",\"TV-MA\",\"TV-14\",\"R\",\"TV-14\",\"TV-PG\",\"TV-14\",\"TV-MA\",\"TV-14\",\"R\",\"TV-14\",\"TV-Y7\",\"TV-MA\",\"PG-13\",\"PG-13\",\"PG-13\",\"PG-13\",\"TV-Y\",\"TV-PG\",\"R\",\"TV-MA\",\"TV-MA\",\"R\",\"TV-MA\",\"PG-13\",\"PG-13\",\"TV-MA\",\"TV-MA\",\"TV-14\",\"TV-MA\",\"TV-14\",\"PG-13\",\"PG-13\",\"TV-MA\",\"TV-14\",\"TV-14\",\"TV-PG\",\"PG-13\",\"TV-MA\",\"TV-14\",\"TV-14\",\"TV-MA\",\"R\",\"PG\",\"TV-MA\",\"TV-MA\",\"TV-PG\",\"TV-MA\",\"TV-14\",\"R\",\"TV-MA\",\"TV-14\",\"TV-MA\",\"PG\",\"TV-PG\",\"PG\",\"TV-PG\",\"TV-14\",\"R\",\"TV-14\",\"TV-14\",\"PG-13\",\"TV-MA\",\"PG-13\",\"R\",\"TV-14\",\"R\",\"PG-13\",\"TV-MA\",\"R\",\"TV-14\",\"R\",\"TV-14\",\"TV-MA\",\"TV-14\",\"PG\",\"R\",\"TV-PG\",\"R\",\"TV-PG\",\"R\",\"PG-13\",\"TV-14\",\"TV-MA\",\"R\",\"PG\",\"TV-MA\",\"TV-MA\",\"PG-13\",\"TV-MA\",\"TV-MA\",\"TV-MA\",\"TV-14\",\"TV-MA\",\"R\",\"R\",\"TV-MA\",\"TV-MA\",\"TV-MA\",\"TV-14\",\"R\",\"TV-14\",\"TV-14\",\"R\",\"TV-PG\",\"R\",\"TV-14\",\"TV-MA\",\"TV-MA\",\"TV-MA\",\"R\",\"TV-MA\",\"TV-MA\",\"TV-MA\",\"TV-MA\",\"TV-MA\",\"TV-PG\",\"TV-MA\",\"TV-MA\",\"R\",\"PG-13\",\"R\",\"TV-14\",\"R\",\"TV-MA\",\"TV-14\",\"TV-MA\",\"TV-MA\",\"R\",\"TV-MA\",\"TV-MA\",\"TV-MA\",\"R\",\"R\",\"TV-MA\",\"R\",\"TV-MA\",\"TV-MA\",\"R\",\"TV-14\",\"R\",\"TV-MA\",\"TV-14\",\"TV-MA\",\"PG\",\"R\",\"PG\",\"PG\",\"R\",\"TV-MA\",\"PG-13\",\"TV-MA\",\"R\",\"PG-13\",\"TV-MA\",\"TV-MA\",\"R\",\"PG-13\",\"TV-PG\",\"R\",\"TV-MA\",\"TV-MA\",\"TV-MA\",\"TV-14\",\"TV-14\",\"TV-MA\",\"TV-14\",\"TV-MA\",\"TV-14\",\"TV-MA\",\"TV-MA\",\"R\",\"TV-MA\",\"PG-13\",\"TV-MA\",\"R\",\"TV-14\",\"TV-14\",\"TV-14\",\"TV-14\",\"PG-13\",\"TV-MA\",\"TV-14\",\"TV-MA\",\"TV-14\",\"R\",\"PG-13\",\"R\",\"TV-G\",\"TV-PG\",\"PG-13\",\"R\",\"TV-MA\",\"R\",\"TV-MA\",\"R\",\"PG-13\",\"TV-14\",\"TV-14\",\"R\",\"TV-MA\",\"PG-13\",\"TV-MA\",\"TV-MA\",\"TV-MA\",\"R\",\"TV-14\",\"TV-G\",\"R\",\"TV-14\",\"TV-MA\",\"TV-MA\",\"TV-14\",\"TV-14\",\"TV-PG\",\"R\",\"R\",\"PG\",\"PG-13\",\"PG-13\",\"PG-13\",\"PG-13\",\"TV-MA\",\"TV-MA\",\"TV-G\",\"PG\",\"PG\",\"TV-MA\",\"R\",\"TV-MA\",\"TV-MA\",\"TV-14\",\"NR\",\"R\",\"PG-13\",\"TV-MA\",\"TV-14\",\"TV-MA\",\"R\",\"TV-MA\",\"PG-13\",\"TV-14\",\"TV-14\",\"TV-14\",\"PG-13\",\"R\",\"TV-PG\",\"PG\",\"PG-13\",\"TV-MA\",\"R\",\"R\",\"R\",\"R\",\"TV-14\",\"TV-14\",\"TV-MA\",\"TV-14\",\"PG\",\"PG\",\"TV-MA\",\"TV-14\",\"TV-MA\",\"TV-MA\",\"TV-Y7\",\"PG\",\"TV-14\",\"R\",\"TV-MA\",\"R\",\"PG-13\",\"R\",\"TV-MA\",\"TV-MA\",\"TV-MA\",\"TV-PG\",\"TV-14\",\"TV-MA\",\"TV-14\",\"TV-14\",\"R\",\"PG\",\"R\",\"R\",\"TV-MA\",\"TV-14\",\"TV-MA\",\"TV-MA\",\"TV-14\",\"TV-MA\",\"TV-14\",\"TV-PG\",\"PG-13\",\"TV-MA\",\"TV-MA\",\"TV-MA\",\"TV-14\",\"R\",\"PG\",\"PG\",\"TV-MA\",\"TV-G\",\"TV-14\",\"R\",\"R\",\"R\",\"TV-MA\",\"R\",\"TV-PG\",\"R\",\"PG\",\"PG-13\",\"PG-13\",\"PG-13\",\"TV-MA\",\"PG-13\",\"TV-MA\",\"TV-MA\",\"PG-13\",\"R\",\"R\",\"TV-14\",\"TV-14\",\"TV-14\",\"TV-PG\",\"TV-Y\",\"TV-Y\",\"TV-Y\",\"TV-G\",\"TV-14\",\"TV-14\",\"TV-MA\",\"TV-MA\",\"TV-14\",\"TV-PG\",\"PG-13\",\"TV-Y\",\"R\",\"TV-MA\",\"R\",\"R\",\"R\",\"TV-MA\",\"TV-14\",\"TV-MA\",\"TV-MA\",\"TV-MA\",\"TV-PG\",\"R\",\"TV-MA\",\"TV-14\",\"PG-13\",\"TV-14\",\"TV-MA\",\"TV-14\",\"TV-14\",\"TV-MA\",\"TV-PG\",\"TV-MA\",\"R\",\"TV-MA\",\"TV-MA\",\"TV-MA\",\"TV-PG\",\"TV-MA\",\"PG\",\"TV-PG\",\"PG-13\",\"PG-13\",\"PG\",\"TV-14\",\"TV-MA\",\"TV-MA\",\"PG\",\"TV-MA\",\"R\",\"TV-MA\",\"TV-14\",\"PG\",\"PG\",\"TV-MA\",\"R\",\"TV-MA\",\"R\",\"TV-PG\",\"TV-MA\",\"R\",\"TV-MA\",\"PG-13\",\"TV-14\",\"R\",\"R\",\"TV-14\",\"R\",\"TV-MA\",\"TV-MA\",\"TV-MA\",\"TV-MA\",\"R\",\"NR\",\"R\",\"PG-13\",\"TV-14\",\"TV-14\",\"TV-MA\",\"TV-MA\",\"TV-MA\",\"PG-13\",\"PG-13\",\"TV-MA\",\"R\",\"PG\",\"G\",\"R\",\"PG\",\"G\",\"R\",\"TV-MA\",\"TV-MA\",\"TV-MA\",\"TV-MA\",\"G\",\"TV-14\",\"TV-14\",\"TV-MA\",\"TV-MA\",\"R\",\"PG\",\"G\",\"TV-G\",\"TV-G\",\"TV-MA\",\"TV-14\",\"PG-13\",\"PG-13\",\"TV-14\",\"PG-13\",\"TV-MA\",\"TV-MA\",\"TV-MA\",\"TV-PG\",\"PG-13\",\"TV-PG\",\"TV-PG\",\"TV-MA\",\"TV-MA\",\"TV-MA\",\"TV-14\",\"TV-MA\",\"PG-13\",\"TV-MA\",\"TV-14\",\"TV-MA\",\"TV-MA\",\"TV-MA\",\"TV-14\",\"TV-MA\",\"TV-14\",\"PG-13\",\"R\",\"TV-MA\",\"NR\",\"PG-13\",\"TV-14\",\"TV-MA\",\"PG-13\",\"TV-MA\",\"R\",\"TV-MA\",\"TV-PG\",\"G\",\"R\",\"R\",\"R\",\"TV-PG\",\"TV-MA\",\"TV-PG\",\"TV-14\",\"R\",\"PG-13\",\"TV-14\",\"R\",\"PG-13\",\"TV-G\",\"TV-14\",\"PG\",\"TV-MA\",\"TV-14\",\"R\",\"TV-MA\",\"PG\",\"TV-MA\",\"TV-MA\",\"TV-MA\",\"TV-14\",\"PG-13\",\"PG-13\",\"TV-14\",\"TV-MA\",\"TV-MA\",\"NR\",\"TV-14\",\"TV-MA\",\"TV-MA\",\"TV-PG\",\"PG\",\"PG\",\"PG-13\",\"PG-13\",\"TV-MA\",\"PG-13\",\"R\",\"TV-PG\",\"PG\",\"TV-MA\",\"TV-Y7\",\"PG\",\"TV-MA\",\"TV-MA\",\"R\",\"R\",\"R\",\"TV-14\",\"TV-14\",\"TV-14\",\"TV-14\",\"TV-MA\",\"R\",\"TV-14\",\"TV-14\",\"R\",\"R\",\"R\",\"TV-MA\",\"R\",\"PG-13\",\"TV-14\",\"TV-MA\",\"TV-MA\",\"TV-14\",\"TV-G\",\"PG-13\",\"PG-13\",\"TV-MA\",\"PG-13\",\"TV-PG\",\"TV-MA\",\"TV-MA\",\"R\",\"TV-MA\",\"R\",\"R\",\"TV-MA\",\"R\",\"TV-14\",\"PG-13\",\"TV-14\",\"PG-13\",\"R\",\"TV-MA\",\"TV-MA\",\"PG-13\",\"TV-MA\",\"TV-MA\",\"R\",\"PG-13\",\"TV-MA\",\"TV-MA\",\"TV-14\",\"TV-MA\",\"TV-14\",\"TV-MA\",\"TV-MA\",\"R\",\"PG\",\"PG-13\",\"TV-PG\",\"TV-14\",\"TV-14\",\"TV-PG\",\"TV-14\",\"TV-PG\",\"PG\",\"TV-14\",\"R\",\"TV-14\",\"TV-MA\",\"TV-PG\",\"TV-14\",\"TV-MA\",\"TV-PG\",\"TV-MA\",\"PG-13\",\"TV-MA\",\"PG\",\"TV-PG\",\"TV-MA\",\"TV-14\",\"TV-MA\",\"PG-13\",\"TV-MA\",\"TV-14\",\"TV-14\",\"TV-PG\",\"TV-14\",\"TV-PG\",\"PG-13\",\"TV-14\",\"TV-MA\",\"TV-14\",\"R\",\"TV-14\",\"TV-MA\",\"TV-MA\",\"TV-MA\",\"TV-MA\",\"TV-14\",\"TV-PG\",\"NR\",\"TV-MA\",\"TV-Y\",\"TV-Y\",\"TV-Y\",\"TV-MA\",\"PG-13\",\"TV-Y7\",\"NR\",\"NR\",\"TV-14\",\"TV-MA\",\"TV-G\",\"TV-14\",\"TV-MA\",\"R\",\"TV-14\",\"TV-MA\",\"TV-PG\",\"TV-MA\",\"TV-MA\",\"TV-14\",\"TV-14\",\"TV-14\",\"PG\",\"TV-14\",\"TV-MA\",\"TV-MA\",\"TV-MA\",\"TV-MA\",\"TV-MA\",\"TV-14\",\"TV-14\",\"TV-MA\",\"TV-MA\",\"TV-14\",\"G\",\"G\",\"TV-14\",\"TV-14\",\"TV-14\",\"TV-MA\",\"TV-14\",\"TV-MA\",\"TV-MA\",\"TV-MA\",\"PG-13\",\"TV-MA\",\"TV-MA\",\"TV-MA\",\"TV-MA\",\"TV-MA\",\"TV-MA\",\"TV-G\",\"TV-14\",\"TV-14\",\"TV-MA\",\"TV-Y7\",\"TV-14\",\"TV-14\",\"TV-MA\",\"TV-MA\",\"TV-MA\",\"TV-MA\",\"TV-MA\",\"PG-13\",\"TV-14\",\"TV-MA\",\"TV-14\",\"TV-MA\",\"TV-MA\",\"TV-14\",\"TV-MA\",\"TV-MA\",\"PG-13\",\"NR\",\"R\",\"TV-MA\",\"PG-13\",\"TV-MA\",\"TV-MA\",\"TV-MA\",\"TV-MA\",\"R\",\"TV-MA\",\"TV-MA\",\"R\",\"TV-MA\",\"TV-MA\",\"TV-MA\",\"R\",\"PG-13\",\"TV-MA\",\"PG-13\",\"TV-MA\",\"R\",\"R\",\"TV-MA\",\"TV-MA\",\"TV-MA\",\"TV-G\",\"TV-PG\",\"PG-13\",\"PG-13\",\"PG\",\"PG-13\",\"PG-13\",\"PG-13\",\"PG-13\",\"R\",\"TV-14\",\"TV-MA\",\"TV-MA\",\"TV-14\",\"TV-PG\",\"TV-MA\",\"R\",\"R\",\"R\",\"TV-PG\",\"TV-MA\",\"TV-Y7\",\"TV-MA\",\"TV-MA\",\"TV-14\",\"G\",\"TV-14\",\"R\",\"TV-Y\",\"TV-Y\",\"TV-Y\",\"TV-Y\",\"TV-Y\",\"TV-Y\",\"TV-Y\",\"R\",\"TV-MA\",\"TV-14\",\"R\",\"TV-PG\",\"TV-14\",\"TV-MA\",\"TV-PG\",\"TV-MA\",\"TV-14\",\"PG\",\"TV-MA\",\"R\",\"TV-14\",\"TV-MA\",\"TV-MA\",\"TV-MA\",\"TV-14\",\"TV-MA\",\"TV-MA\",\"R\",\"TV-14\",\"R\",\"TV-14\",\"TV-MA\",\"TV-MA\",\"TV-MA\",\"NR\",\"TV-14\",\"TV-14\",\"TV-MA\",\"TV-MA\",\"TV-MA\",\"TV-MA\",\"R\",\"PG\",\"TV-MA\",\"TV-14\",\"TV-MA\",\"TV-14\",\"TV-MA\",\"TV-MA\",\"TV-14\",\"TV-MA\",\"TV-MA\",\"R\",\"PG-13\",\"TV-14\",\"TV-MA\",\"TV-MA\",\"TV-MA\",\"PG-13\",\"R\",\"R\",\"PG-13\",\"TV-PG\",\"PG\",\"TV-14\",\"PG-13\",\"R\",\"TV-14\",\"TV-14\",\"TV-14\",\"PG-13\",\"TV-MA\",\"TV-14\",\"TV-14\",\"TV-14\",\"TV-PG\",\"TV-MA\",\"R\",\"TV-14\",\"TV-MA\",\"TV-14\",\"TV-14\",\"TV-MA\",\"TV-MA\",\"TV-MA\",\"TV-14\",\"R\",\"TV-14\",\"R\",\"PG-13\",\"TV-MA\",\"PG-13\",\"TV-14\",\"TV-MA\",\"TV-14\",\"TV-14\",\"TV-14\",\"R\",\"TV-14\",\"TV-MA\",\"TV-MA\",\"TV-PG\",\"TV-14\",\"TV-MA\",\"TV-14\",\"NR\",\"TV-14\",\"PG-13\",\"R\",\"TV-PG\",\"R\",\"TV-PG\",\"R\",\"TV-PG\",\"TV-MA\",\"TV-MA\",\"TV-MA\",\"TV-MA\",\"TV-14\",\"TV-MA\",\"TV-14\",\"TV-14\",\"TV-14\",\"TV-14\",\"NR\",\"NR\",\"TV-14\",\"TV-MA\",\"TV-MA\",\"TV-MA\",\"TV-MA\",\"R\",\"TV-MA\",\"TV-MA\",\"TV-14\",\"PG\",\"TV-MA\",\"PG\",\"R\",\"TV-14\",\"R\",\"TV-14\",\"TV-PG\",\"TV-PG\",\"PG-13\",\"TV-Y\",\"TV-MA\",\"TV-MA\",\"R\",\"TV-MA\",\"TV-14\",\"PG-13\",\"TV-MA\",\"R\",\"TV-14\",\"TV-14\",\"TV-MA\",\"TV-14\",\"PG\",\"TV-G\",\"TV-MA\",\"TV-14\",\"TV-14\",\"TV-14\",\"TV-MA\",\"TV-MA\",\"R\",\"TV-14\",\"PG\",\"TV-14\",\"TV-MA\",\"R\",\"R\",\"TV-PG\",\"TV-14\",\"TV-MA\",\"TV-MA\",\"TV-MA\",\"TV-MA\",\"TV-PG\",\"TV-MA\",\"TV-MA\",\"TV-PG\",\"TV-MA\",\"TV-MA\",\"TV-Y7\",\"R\",\"TV-14\",\"R\",\"TV-MA\",\"TV-14\",\"TV-MA\",\"TV-MA\",\"TV-MA\",\"TV-MA\",\"PG\",\"TV-14\",\"TV-MA\",\"TV-14\",\"TV-14\",\"TV-MA\",\"TV-MA\",\"TV-14\",\"R\",\"PG-13\",\"TV-14\",\"TV-14\",\"TV-MA\",\"TV-14\",\"TV-PG\",\"TV-PG\",\"TV-MA\",\"TV-MA\",\"TV-14\",\"PG-13\",\"R\",\"TV-PG\",\"TV-PG\",\"TV-MA\",\"R\",\"TV-MA\",\"NR\",\"TV-14\",\"TV-14\",\"TV-14\",\"PG-13\",\"R\",\"R\",\"TV-MA\",\"TV-14\",\"TV-MA\",\"TV-14\",\"TV-MA\",\"TV-G\",\"TV-PG\",\"TV-MA\",\"TV-MA\",\"TV-MA\",\"TV-MA\",\"TV-MA\",\"TV-MA\",\"R\",\"R\",\"TV-14\",\"TV-MA\",\"TV-MA\",\"TV-PG\",\"PG-13\",\"PG-13\",\"PG-13\",\"PG-13\",\"R\",\"TV-MA\",\"TV-Y\",\"G\",\"TV-MA\",\"PG-13\",\"R\",\"TV-14\",\"NR\",\"TV-MA\",\"R\",\"TV-14\",\"R\",\"TV-14\",\"PG\",\"TV-PG\",\"TV-MA\",\"TV-14\",\"TV-14\",\"TV-PG\",\"R\",\"TV-MA\",\"TV-14\",\"R\",\"TV-MA\",\"PG\",\"TV-14\",\"TV-MA\",\"PG-13\",\"TV-PG\",\"TV-MA\",\"TV-14\",\"TV-MA\",\"TV-PG\",\"TV-MA\",\"PG-13\",\"TV-14\",\"TV-MA\",\"TV-MA\",\"TV-14\",\"R\",\"PG-13\",\"PG-13\",\"R\",\"TV-MA\",\"TV-PG\",\"TV-14\",\"TV-14\",\"TV-14\",\"TV-14\",\"TV-PG\",\"TV-14\",\"TV-MA\",\"TV-PG\",\"PG\",\"PG-13\",\"TV-PG\",\"TV-PG\",\"TV-PG\",\"R\",\"TV-Y7\",\"PG-13\",\"TV-Y\",\"TV-MA\",\"TV-MA\",\"TV-PG\",\"TV-G\",\"TV-PG\",\"TV-MA\",\"TV-PG\",\"UR\",\"TV-MA\",\"TV-PG\",\"TV-14\",\"TV-MA\",\"R\",\"NR\",\"TV-G\",\"TV-MA\",\"TV-MA\",\"TV-MA\",\"PG\",\"TV-14\",\"TV-14\",\"TV-MA\",\"TV-14\",\"TV-MA\",\"R\",\"TV-PG\",\"TV-Y\",\"TV-MA\",\"TV-14\",\"TV-14\",\"TV-MA\",\"TV-14\",\"TV-14\",\"TV-MA\",\"TV-PG\",\"TV-PG\",\"TV-MA\",\"R\",\"PG\",\"R\",\"TV-MA\",\"PG\",\"TV-MA\",\"TV-14\",\"TV-MA\",\"TV-MA\"],\"type\":\"box\"}],                        {\"height\":500,\"template\":{\"data\":{\"barpolar\":[{\"marker\":{\"line\":{\"color\":\"#E5ECF6\",\"width\":0.5},\"pattern\":{\"fillmode\":\"overlay\",\"size\":10,\"solidity\":0.2}},\"type\":\"barpolar\"}],\"bar\":[{\"error_x\":{\"color\":\"#2a3f5f\"},\"error_y\":{\"color\":\"#2a3f5f\"},\"marker\":{\"line\":{\"color\":\"#E5ECF6\",\"width\":0.5},\"pattern\":{\"fillmode\":\"overlay\",\"size\":10,\"solidity\":0.2}},\"type\":\"bar\"}],\"carpet\":[{\"aaxis\":{\"endlinecolor\":\"#2a3f5f\",\"gridcolor\":\"white\",\"linecolor\":\"white\",\"minorgridcolor\":\"white\",\"startlinecolor\":\"#2a3f5f\"},\"baxis\":{\"endlinecolor\":\"#2a3f5f\",\"gridcolor\":\"white\",\"linecolor\":\"white\",\"minorgridcolor\":\"white\",\"startlinecolor\":\"#2a3f5f\"},\"type\":\"carpet\"}],\"choropleth\":[{\"colorbar\":{\"outlinewidth\":0,\"ticks\":\"\"},\"type\":\"choropleth\"}],\"contourcarpet\":[{\"colorbar\":{\"outlinewidth\":0,\"ticks\":\"\"},\"type\":\"contourcarpet\"}],\"contour\":[{\"colorbar\":{\"outlinewidth\":0,\"ticks\":\"\"},\"colorscale\":[[0.0,\"#0d0887\"],[0.1111111111111111,\"#46039f\"],[0.2222222222222222,\"#7201a8\"],[0.3333333333333333,\"#9c179e\"],[0.4444444444444444,\"#bd3786\"],[0.5555555555555556,\"#d8576b\"],[0.6666666666666666,\"#ed7953\"],[0.7777777777777778,\"#fb9f3a\"],[0.8888888888888888,\"#fdca26\"],[1.0,\"#f0f921\"]],\"type\":\"contour\"}],\"heatmapgl\":[{\"colorbar\":{\"outlinewidth\":0,\"ticks\":\"\"},\"colorscale\":[[0.0,\"#0d0887\"],[0.1111111111111111,\"#46039f\"],[0.2222222222222222,\"#7201a8\"],[0.3333333333333333,\"#9c179e\"],[0.4444444444444444,\"#bd3786\"],[0.5555555555555556,\"#d8576b\"],[0.6666666666666666,\"#ed7953\"],[0.7777777777777778,\"#fb9f3a\"],[0.8888888888888888,\"#fdca26\"],[1.0,\"#f0f921\"]],\"type\":\"heatmapgl\"}],\"heatmap\":[{\"colorbar\":{\"outlinewidth\":0,\"ticks\":\"\"},\"colorscale\":[[0.0,\"#0d0887\"],[0.1111111111111111,\"#46039f\"],[0.2222222222222222,\"#7201a8\"],[0.3333333333333333,\"#9c179e\"],[0.4444444444444444,\"#bd3786\"],[0.5555555555555556,\"#d8576b\"],[0.6666666666666666,\"#ed7953\"],[0.7777777777777778,\"#fb9f3a\"],[0.8888888888888888,\"#fdca26\"],[1.0,\"#f0f921\"]],\"type\":\"heatmap\"}],\"histogram2dcontour\":[{\"colorbar\":{\"outlinewidth\":0,\"ticks\":\"\"},\"colorscale\":[[0.0,\"#0d0887\"],[0.1111111111111111,\"#46039f\"],[0.2222222222222222,\"#7201a8\"],[0.3333333333333333,\"#9c179e\"],[0.4444444444444444,\"#bd3786\"],[0.5555555555555556,\"#d8576b\"],[0.6666666666666666,\"#ed7953\"],[0.7777777777777778,\"#fb9f3a\"],[0.8888888888888888,\"#fdca26\"],[1.0,\"#f0f921\"]],\"type\":\"histogram2dcontour\"}],\"histogram2d\":[{\"colorbar\":{\"outlinewidth\":0,\"ticks\":\"\"},\"colorscale\":[[0.0,\"#0d0887\"],[0.1111111111111111,\"#46039f\"],[0.2222222222222222,\"#7201a8\"],[0.3333333333333333,\"#9c179e\"],[0.4444444444444444,\"#bd3786\"],[0.5555555555555556,\"#d8576b\"],[0.6666666666666666,\"#ed7953\"],[0.7777777777777778,\"#fb9f3a\"],[0.8888888888888888,\"#fdca26\"],[1.0,\"#f0f921\"]],\"type\":\"histogram2d\"}],\"histogram\":[{\"marker\":{\"pattern\":{\"fillmode\":\"overlay\",\"size\":10,\"solidity\":0.2}},\"type\":\"histogram\"}],\"mesh3d\":[{\"colorbar\":{\"outlinewidth\":0,\"ticks\":\"\"},\"type\":\"mesh3d\"}],\"parcoords\":[{\"line\":{\"colorbar\":{\"outlinewidth\":0,\"ticks\":\"\"}},\"type\":\"parcoords\"}],\"pie\":[{\"automargin\":true,\"type\":\"pie\"}],\"scatter3d\":[{\"line\":{\"colorbar\":{\"outlinewidth\":0,\"ticks\":\"\"}},\"marker\":{\"colorbar\":{\"outlinewidth\":0,\"ticks\":\"\"}},\"type\":\"scatter3d\"}],\"scattercarpet\":[{\"marker\":{\"colorbar\":{\"outlinewidth\":0,\"ticks\":\"\"}},\"type\":\"scattercarpet\"}],\"scattergeo\":[{\"marker\":{\"colorbar\":{\"outlinewidth\":0,\"ticks\":\"\"}},\"type\":\"scattergeo\"}],\"scattergl\":[{\"marker\":{\"colorbar\":{\"outlinewidth\":0,\"ticks\":\"\"}},\"type\":\"scattergl\"}],\"scattermapbox\":[{\"marker\":{\"colorbar\":{\"outlinewidth\":0,\"ticks\":\"\"}},\"type\":\"scattermapbox\"}],\"scatterpolargl\":[{\"marker\":{\"colorbar\":{\"outlinewidth\":0,\"ticks\":\"\"}},\"type\":\"scatterpolargl\"}],\"scatterpolar\":[{\"marker\":{\"colorbar\":{\"outlinewidth\":0,\"ticks\":\"\"}},\"type\":\"scatterpolar\"}],\"scatter\":[{\"marker\":{\"colorbar\":{\"outlinewidth\":0,\"ticks\":\"\"}},\"type\":\"scatter\"}],\"scatterternary\":[{\"marker\":{\"colorbar\":{\"outlinewidth\":0,\"ticks\":\"\"}},\"type\":\"scatterternary\"}],\"surface\":[{\"colorbar\":{\"outlinewidth\":0,\"ticks\":\"\"},\"colorscale\":[[0.0,\"#0d0887\"],[0.1111111111111111,\"#46039f\"],[0.2222222222222222,\"#7201a8\"],[0.3333333333333333,\"#9c179e\"],[0.4444444444444444,\"#bd3786\"],[0.5555555555555556,\"#d8576b\"],[0.6666666666666666,\"#ed7953\"],[0.7777777777777778,\"#fb9f3a\"],[0.8888888888888888,\"#fdca26\"],[1.0,\"#f0f921\"]],\"type\":\"surface\"}],\"table\":[{\"cells\":{\"fill\":{\"color\":\"#EBF0F8\"},\"line\":{\"color\":\"white\"}},\"header\":{\"fill\":{\"color\":\"#C8D4E3\"},\"line\":{\"color\":\"white\"}},\"type\":\"table\"}]},\"layout\":{\"annotationdefaults\":{\"arrowcolor\":\"#2a3f5f\",\"arrowhead\":0,\"arrowwidth\":1},\"autotypenumbers\":\"strict\",\"coloraxis\":{\"colorbar\":{\"outlinewidth\":0,\"ticks\":\"\"}},\"colorscale\":{\"diverging\":[[0,\"#8e0152\"],[0.1,\"#c51b7d\"],[0.2,\"#de77ae\"],[0.3,\"#f1b6da\"],[0.4,\"#fde0ef\"],[0.5,\"#f7f7f7\"],[0.6,\"#e6f5d0\"],[0.7,\"#b8e186\"],[0.8,\"#7fbc41\"],[0.9,\"#4d9221\"],[1,\"#276419\"]],\"sequential\":[[0.0,\"#0d0887\"],[0.1111111111111111,\"#46039f\"],[0.2222222222222222,\"#7201a8\"],[0.3333333333333333,\"#9c179e\"],[0.4444444444444444,\"#bd3786\"],[0.5555555555555556,\"#d8576b\"],[0.6666666666666666,\"#ed7953\"],[0.7777777777777778,\"#fb9f3a\"],[0.8888888888888888,\"#fdca26\"],[1.0,\"#f0f921\"]],\"sequentialminus\":[[0.0,\"#0d0887\"],[0.1111111111111111,\"#46039f\"],[0.2222222222222222,\"#7201a8\"],[0.3333333333333333,\"#9c179e\"],[0.4444444444444444,\"#bd3786\"],[0.5555555555555556,\"#d8576b\"],[0.6666666666666666,\"#ed7953\"],[0.7777777777777778,\"#fb9f3a\"],[0.8888888888888888,\"#fdca26\"],[1.0,\"#f0f921\"]]},\"colorway\":[\"#636efa\",\"#EF553B\",\"#00cc96\",\"#ab63fa\",\"#FFA15A\",\"#19d3f3\",\"#FF6692\",\"#B6E880\",\"#FF97FF\",\"#FECB52\"],\"font\":{\"color\":\"#2a3f5f\"},\"geo\":{\"bgcolor\":\"white\",\"lakecolor\":\"white\",\"landcolor\":\"#E5ECF6\",\"showlakes\":true,\"showland\":true,\"subunitcolor\":\"white\"},\"hoverlabel\":{\"align\":\"left\"},\"hovermode\":\"closest\",\"mapbox\":{\"style\":\"light\"},\"paper_bgcolor\":\"white\",\"plot_bgcolor\":\"#E5ECF6\",\"polar\":{\"angularaxis\":{\"gridcolor\":\"white\",\"linecolor\":\"white\",\"ticks\":\"\"},\"bgcolor\":\"#E5ECF6\",\"radialaxis\":{\"gridcolor\":\"white\",\"linecolor\":\"white\",\"ticks\":\"\"}},\"scene\":{\"xaxis\":{\"backgroundcolor\":\"#E5ECF6\",\"gridcolor\":\"white\",\"gridwidth\":2,\"linecolor\":\"white\",\"showbackground\":true,\"ticks\":\"\",\"zerolinecolor\":\"white\"},\"yaxis\":{\"backgroundcolor\":\"#E5ECF6\",\"gridcolor\":\"white\",\"gridwidth\":2,\"linecolor\":\"white\",\"showbackground\":true,\"ticks\":\"\",\"zerolinecolor\":\"white\"},\"zaxis\":{\"backgroundcolor\":\"#E5ECF6\",\"gridcolor\":\"white\",\"gridwidth\":2,\"linecolor\":\"white\",\"showbackground\":true,\"ticks\":\"\",\"zerolinecolor\":\"white\"}},\"shapedefaults\":{\"line\":{\"color\":\"#2a3f5f\"}},\"ternary\":{\"aaxis\":{\"gridcolor\":\"white\",\"linecolor\":\"white\",\"ticks\":\"\"},\"baxis\":{\"gridcolor\":\"white\",\"linecolor\":\"white\",\"ticks\":\"\"},\"bgcolor\":\"#E5ECF6\",\"caxis\":{\"gridcolor\":\"white\",\"linecolor\":\"white\",\"ticks\":\"\"}},\"title\":{\"x\":0.05},\"xaxis\":{\"automargin\":true,\"gridcolor\":\"white\",\"linecolor\":\"white\",\"ticks\":\"\",\"title\":{\"standoff\":15},\"zerolinecolor\":\"white\",\"zerolinewidth\":2},\"yaxis\":{\"automargin\":true,\"gridcolor\":\"white\",\"linecolor\":\"white\",\"ticks\":\"\",\"title\":{\"standoff\":15},\"zerolinecolor\":\"white\",\"zerolinewidth\":2}}},\"title\":{\"text\":\"Box Plots of Netflix Shows\"},\"width\":800},                        {\"responsive\": true}                    ).then(function(){\n",
              "                            \n",
              "var gd = document.getElementById('84050a30-833b-40c5-bb9c-47216def1d45');\n",
              "var x = new MutationObserver(function (mutations, observer) {{\n",
              "        var display = window.getComputedStyle(gd).display;\n",
              "        if (!display || display === 'none') {{\n",
              "            console.log([gd, 'removed!']);\n",
              "            Plotly.purge(gd);\n",
              "            observer.disconnect();\n",
              "        }}\n",
              "}});\n",
              "\n",
              "// Listen for the removal of the full notebook cells\n",
              "var notebookContainer = gd.closest('#notebook-container');\n",
              "if (notebookContainer) {{\n",
              "    x.observe(notebookContainer, {childList: true});\n",
              "}}\n",
              "\n",
              "// Listen for the clearing of the current output cell\n",
              "var outputEl = gd.closest('.output');\n",
              "if (outputEl) {{\n",
              "    x.observe(outputEl, {childList: true});\n",
              "}}\n",
              "\n",
              "                        })                };                            </script>        </div>\n",
              "</body>\n",
              "</html>"
            ]
          },
          "metadata": {}
        }
      ]
    },
    {
      "cell_type": "code",
      "source": [
        "plt.figure(figsize = (18,8))\n",
        "sns.countplot(x = 'rating', hue = 'type', data = df, palette = 'afmhot_r')\n",
        "plt.xlabel('Rating', fontsize = 15)\n",
        "plt.ylabel('Count', fontsize = 15)\n",
        "plt.title('Type and rating', size = '20', fontweight = 'bold')\n",
        "plt.show();"
      ],
      "metadata": {
        "colab": {
          "base_uri": "https://localhost:8080/",
          "height": 523
        },
        "id": "7Rn5WpAQXCj0",
        "outputId": "d1e926a0-b373-47cd-c262-cbfc4a2bb37f"
      },
      "execution_count": 17,
      "outputs": [
        {
          "output_type": "display_data",
          "data": {
            "text/plain": [
              "<Figure size 1296x576 with 1 Axes>"
            ],
            "image/png": "[encoded data removed]"
          },
          "metadata": {
            "needs_background": "light"
          }
        }
      ]
    },
    {
      "cell_type": "code",
      "source": [
        "# Release year insights\n",
        "\n",
        "df['release_year'].value_counts().to_frame().head(10)"
      ],
      "metadata": {
        "colab": {
          "base_uri": "https://localhost:8080/",
          "height": 363
        },
        "id": "UxEOFqVbAa5_",
        "outputId": "81b95175-6b1a-4519-f49c-3e9931261d68"
      },
      "execution_count": 18,
      "outputs": [
        {
          "output_type": "execute_result",
          "data": {
            "text/plain": [
              "      release_year\n",
              "2018          1121\n",
              "2017          1012\n",
              "2019           996\n",
              "2016           882\n",
              "2020           868\n",
              "2015           541\n",
              "2014           334\n",
              "2013           267\n",
              "2012           219\n",
              "2010           173"
            ],
            "text/html": [
              "\n",
              "  <div id=\"df-0e84d915-a006-4e7c-bd48-f8ada4e3b04c\">\n",
              "    <div class=\"colab-df-container\">\n",
              "      <div>\n",
              "<style scoped>\n",
              "    .dataframe tbody tr th:only-of-type {\n",
              "        vertical-align: middle;\n",
              "    }\n",
              "\n",
              "    .dataframe tbody tr th {\n",
              "        vertical-align: top;\n",
              "    }\n",
              "\n",
              "    .dataframe thead th {\n",
              "        text-align: right;\n",
              "    }\n",
              "</style>\n",
              "<table border=\"1\" class=\"dataframe\">\n",
              "  <thead>\n",
              "    <tr style=\"text-align: right;\">\n",
              "      <th></th>\n",
              "      <th>release_year</th>\n",
              "    </tr>\n",
              "  </thead>\n",
              "  <tbody>\n",
              "    <tr>\n",
              "      <th>2018</th>\n",
              "      <td>1121</td>\n",
              "    </tr>\n",
              "    <tr>\n",
              "      <th>2017</th>\n",
              "      <td>1012</td>\n",
              "    </tr>\n",
              "    <tr>\n",
              "      <th>2019</th>\n",
              "      <td>996</td>\n",
              "    </tr>\n",
              "    <tr>\n",
              "      <th>2016</th>\n",
              "      <td>882</td>\n",
              "    </tr>\n",
              "    <tr>\n",
              "      <th>2020</th>\n",
              "      <td>868</td>\n",
              "    </tr>\n",
              "    <tr>\n",
              "      <th>2015</th>\n",
              "      <td>541</td>\n",
              "    </tr>\n",
              "    <tr>\n",
              "      <th>2014</th>\n",
              "      <td>334</td>\n",
              "    </tr>\n",
              "    <tr>\n",
              "      <th>2013</th>\n",
              "      <td>267</td>\n",
              "    </tr>\n",
              "    <tr>\n",
              "      <th>2012</th>\n",
              "      <td>219</td>\n",
              "    </tr>\n",
              "    <tr>\n",
              "      <th>2010</th>\n",
              "      <td>173</td>\n",
              "    </tr>\n",
              "  </tbody>\n",
              "</table>\n",
              "</div>\n",
              "      <button class=\"colab-df-convert\" onclick=\"convertToInteractive('df-0e84d915-a006-4e7c-bd48-f8ada4e3b04c')\"\n",
              "              title=\"Convert this dataframe to an interactive table.\"\n",
              "              style=\"display:none;\">\n",
              "        \n",
              "  <svg xmlns=\"http://www.w3.org/2000/svg\" height=\"24px\"viewBox=\"0 0 24 24\"\n",
              "       width=\"24px\">\n",
              "    <path d=\"M0 0h24v24H0V0z\" fill=\"none\"/>\n",
              "    <path d=\"M18.56 5.44l.94 2.06.94-2.06 2.06-.94-2.06-.94-.94-2.06-.94 2.06-2.06.94zm-11 1L8.5 8.5l.94-2.06 2.06-.94-2.06-.94L8.5 2.5l-.94 2.06-2.06.94zm10 10l.94 2.06.94-2.06 2.06-.94-2.06-.94-.94-2.06-.94 2.06-2.06.94z\"/><path d=\"M17.41 7.96l-1.37-1.37c-.4-.4-.92-.59-1.43-.59-.52 0-1.04.2-1.43.59L10.3 9.45l-7.72 7.72c-.78.78-.78 2.05 0 2.83L4 21.41c.39.39.9.59 1.41.59.51 0 1.02-.2 1.41-.59l7.78-7.78 2.81-2.81c.8-.78.8-2.07 0-2.86zM5.41 20L4 18.59l7.72-7.72 1.47 1.35L5.41 20z\"/>\n",
              "  </svg>\n",
              "      </button>\n",
              "      \n",
              "  <style>\n",
              "    .colab-df-container {\n",
              "      display:flex;\n",
              "      flex-wrap:wrap;\n",
              "      gap: 12px;\n",
              "    }\n",
              "\n",
              "    .colab-df-convert {\n",
              "      background-color: #E8F0FE;\n",
              "      border: none;\n",
              "      border-radius: 50%;\n",
              "      cursor: pointer;\n",
              "      display: none;\n",
              "      fill: #1967D2;\n",
              "      height: 32px;\n",
              "      padding: 0 0 0 0;\n",
              "      width: 32px;\n",
              "    }\n",
              "\n",
              "    .colab-df-convert:hover {\n",
              "      background-color: #E2EBFA;\n",
              "      box-shadow: 0px 1px 2px rgba(60, 64, 67, 0.3), 0px 1px 3px 1px rgba(60, 64, 67, 0.15);\n",
              "      fill: #174EA6;\n",
              "    }\n",
              "\n",
              "    [theme=dark] .colab-df-convert {\n",
              "      background-color: #3B4455;\n",
              "      fill: #D2E3FC;\n",
              "    }\n",
              "\n",
              "    [theme=dark] .colab-df-convert:hover {\n",
              "      background-color: #434B5C;\n",
              "      box-shadow: 0px 1px 3px 1px rgba(0, 0, 0, 0.15);\n",
              "      filter: drop-shadow(0px 1px 2px rgba(0, 0, 0, 0.3));\n",
              "      fill: #FFFFFF;\n",
              "    }\n",
              "  </style>\n",
              "\n",
              "      <script>\n",
              "        const buttonEl =\n",
              "          document.querySelector('#df-0e84d915-a006-4e7c-bd48-f8ada4e3b04c button.colab-df-convert');\n",
              "        buttonEl.style.display =\n",
              "          google.colab.kernel.accessAllowed ? 'block' : 'none';\n",
              "\n",
              "        async function convertToInteractive(key) {\n",
              "          const element = document.querySelector('#df-0e84d915-a006-4e7c-bd48-f8ada4e3b04c');\n",
              "          const dataTable =\n",
              "            await google.colab.kernel.invokeFunction('convertToInteractive',\n",
              "                                                     [key], {});\n",
              "          if (!dataTable) return;\n",
              "\n",
              "          const docLinkHtml = 'Like what you see? Visit the ' +\n",
              "            '<a target=\"_blank\" href=https://colab.research.google.com/notebooks/data_table.ipynb>data table notebook</a>'\n",
              "            + ' to learn more about interactive tables.';\n",
              "          element.innerHTML = '';\n",
              "          dataTable['output_type'] = 'display_data';\n",
              "          await google.colab.output.renderOutput(dataTable, element);\n",
              "          const docLink = document.createElement('div');\n",
              "          docLink.innerHTML = docLinkHtml;\n",
              "          element.appendChild(docLink);\n",
              "        }\n",
              "      </script>\n",
              "    </div>\n",
              "  </div>\n",
              "  "
            ]
          },
          "metadata": {},
          "execution_count": 18
        }
      ]
    },
    {
      "cell_type": "code",
      "source": [
        "# Year wise Netflix Shows\n",
        "\n",
        "fig = go.Figure()\n",
        "year = df['release_year'].value_counts().to_frame().head(10).index\n",
        "yearly_movies = df[df.type == 'TV Show']['release_year'].value_counts().sort_index(ascending = False).head(10)\n",
        "trace0 = go.Scatter(x = year, y = yearly_movies, name = 'Yearly Movies',\n",
        "              marker = dict(color = 'rgb(255,140,0)',))\n",
        "\n",
        "yearly_shows = df[df.type == 'Movie']['release_year'].value_counts().sort_index(ascending = False).head(10)\n",
        "trace1 = go.Scatter(x = year, y = yearly_shows, name = 'Yearly Shows',\n",
        "              marker = dict(color = 'rgb(3,168,158)',))\n",
        "\n",
        "total_content = df['release_year'].value_counts().sort_index(ascending = False).head(10)\n",
        "trace2 = go.Scatter(x = year, y = total_content, name = 'Total Content',\n",
        "              marker = dict(color = 'rgb(255,106,106)',))\n",
        "\n",
        "\n",
        "layout = go.Layout(title = 'Line plot of Netflix Shows',width = 1000, height = 500)\n",
        "\n",
        "data = [trace0, trace1, trace2]\n",
        "fig = go.Figure(data = data, layout = layout)\n",
        "py.iplot(fig)"
      ],
      "metadata": {
        "colab": {
          "base_uri": "https://localhost:8080/",
          "height": 517
        },
        "id": "VL-Sxy9hAUhe",
        "outputId": "8f5dc35f-5be5-4804-9b25-c76703f5d9a8"
      },
      "execution_count": 19,
      "outputs": [
        {
          "output_type": "display_data",
          "data": {
            "text/html": [
              "<html>\n",
              "<head><meta charset=\"utf-8\" /></head>\n",
              "<body>\n",
              "    <div>            <script src=\"https://cdnjs.cloudflare.com/ajax/libs/mathjax/2.7.5/MathJax.js?config=TeX-AMS-MML_SVG\"></script><script type=\"text/javascript\">if (window.MathJax) {MathJax.Hub.Config({SVG: {font: \"STIX-Web\"}});}</script>                <script type=\"text/javascript\">window.PlotlyConfig = {MathJaxConfig: 'local'};</script>\n",
              "        <script src=\"https://cdn.plot.ly/plotly-2.8.3.min.js\"></script>                <div id=\"d94667e1-e304-4045-99f6-55627abd1110\" class=\"plotly-graph-div\" style=\"height:500px; width:1000px;\"></div>            <script type=\"text/javascript\">                                    window.PLOTLYENV=window.PLOTLYENV || {};                                    if (document.getElementById(\"d94667e1-e304-4045-99f6-55627abd1110\")) {                    Plotly.newPlot(                        \"d94667e1-e304-4045-99f6-55627abd1110\",                        [{\"marker\":{\"color\":\"rgb(255,140,0)\"},\"name\":\"Yearly Movies\",\"x\":[2018,2017,2019,2016,2020,2015,2014,2013,2012,2010],\"y\":[19,457,414,387,268,240,159,90,65,61],\"type\":\"scatter\"},{\"marker\":{\"color\":\"rgb(3,168,158)\"},\"name\":\"Yearly Shows\",\"x\":[2018,2017,2019,2016,2020,2015,2014,2013,2012,2010],\"y\":[12,411,582,734,744,642,382,244,202,158],\"type\":\"scatter\"},{\"marker\":{\"color\":\"rgb(255,106,106)\"},\"name\":\"Total Content\",\"x\":[2018,2017,2019,2016,2020,2015,2014,2013,2012,2010],\"y\":[31,868,996,1121,1012,882,541,334,267,219],\"type\":\"scatter\"}],                        {\"height\":500,\"template\":{\"data\":{\"barpolar\":[{\"marker\":{\"line\":{\"color\":\"#E5ECF6\",\"width\":0.5},\"pattern\":{\"fillmode\":\"overlay\",\"size\":10,\"solidity\":0.2}},\"type\":\"barpolar\"}],\"bar\":[{\"error_x\":{\"color\":\"#2a3f5f\"},\"error_y\":{\"color\":\"#2a3f5f\"},\"marker\":{\"line\":{\"color\":\"#E5ECF6\",\"width\":0.5},\"pattern\":{\"fillmode\":\"overlay\",\"size\":10,\"solidity\":0.2}},\"type\":\"bar\"}],\"carpet\":[{\"aaxis\":{\"endlinecolor\":\"#2a3f5f\",\"gridcolor\":\"white\",\"linecolor\":\"white\",\"minorgridcolor\":\"white\",\"startlinecolor\":\"#2a3f5f\"},\"baxis\":{\"endlinecolor\":\"#2a3f5f\",\"gridcolor\":\"white\",\"linecolor\":\"white\",\"minorgridcolor\":\"white\",\"startlinecolor\":\"#2a3f5f\"},\"type\":\"carpet\"}],\"choropleth\":[{\"colorbar\":{\"outlinewidth\":0,\"ticks\":\"\"},\"type\":\"choropleth\"}],\"contourcarpet\":[{\"colorbar\":{\"outlinewidth\":0,\"ticks\":\"\"},\"type\":\"contourcarpet\"}],\"contour\":[{\"colorbar\":{\"outlinewidth\":0,\"ticks\":\"\"},\"colorscale\":[[0.0,\"#0d0887\"],[0.1111111111111111,\"#46039f\"],[0.2222222222222222,\"#7201a8\"],[0.3333333333333333,\"#9c179e\"],[0.4444444444444444,\"#bd3786\"],[0.5555555555555556,\"#d8576b\"],[0.6666666666666666,\"#ed7953\"],[0.7777777777777778,\"#fb9f3a\"],[0.8888888888888888,\"#fdca26\"],[1.0,\"#f0f921\"]],\"type\":\"contour\"}],\"heatmapgl\":[{\"colorbar\":{\"outlinewidth\":0,\"ticks\":\"\"},\"colorscale\":[[0.0,\"#0d0887\"],[0.1111111111111111,\"#46039f\"],[0.2222222222222222,\"#7201a8\"],[0.3333333333333333,\"#9c179e\"],[0.4444444444444444,\"#bd3786\"],[0.5555555555555556,\"#d8576b\"],[0.6666666666666666,\"#ed7953\"],[0.7777777777777778,\"#fb9f3a\"],[0.8888888888888888,\"#fdca26\"],[1.0,\"#f0f921\"]],\"type\":\"heatmapgl\"}],\"heatmap\":[{\"colorbar\":{\"outlinewidth\":0,\"ticks\":\"\"},\"colorscale\":[[0.0,\"#0d0887\"],[0.1111111111111111,\"#46039f\"],[0.2222222222222222,\"#7201a8\"],[0.3333333333333333,\"#9c179e\"],[0.4444444444444444,\"#bd3786\"],[0.5555555555555556,\"#d8576b\"],[0.6666666666666666,\"#ed7953\"],[0.7777777777777778,\"#fb9f3a\"],[0.8888888888888888,\"#fdca26\"],[1.0,\"#f0f921\"]],\"type\":\"heatmap\"}],\"histogram2dcontour\":[{\"colorbar\":{\"outlinewidth\":0,\"ticks\":\"\"},\"colorscale\":[[0.0,\"#0d0887\"],[0.1111111111111111,\"#46039f\"],[0.2222222222222222,\"#7201a8\"],[0.3333333333333333,\"#9c179e\"],[0.4444444444444444,\"#bd3786\"],[0.5555555555555556,\"#d8576b\"],[0.6666666666666666,\"#ed7953\"],[0.7777777777777778,\"#fb9f3a\"],[0.8888888888888888,\"#fdca26\"],[1.0,\"#f0f921\"]],\"type\":\"histogram2dcontour\"}],\"histogram2d\":[{\"colorbar\":{\"outlinewidth\":0,\"ticks\":\"\"},\"colorscale\":[[0.0,\"#0d0887\"],[0.1111111111111111,\"#46039f\"],[0.2222222222222222,\"#7201a8\"],[0.3333333333333333,\"#9c179e\"],[0.4444444444444444,\"#bd3786\"],[0.5555555555555556,\"#d8576b\"],[0.6666666666666666,\"#ed7953\"],[0.7777777777777778,\"#fb9f3a\"],[0.8888888888888888,\"#fdca26\"],[1.0,\"#f0f921\"]],\"type\":\"histogram2d\"}],\"histogram\":[{\"marker\":{\"pattern\":{\"fillmode\":\"overlay\",\"size\":10,\"solidity\":0.2}},\"type\":\"histogram\"}],\"mesh3d\":[{\"colorbar\":{\"outlinewidth\":0,\"ticks\":\"\"},\"type\":\"mesh3d\"}],\"parcoords\":[{\"line\":{\"colorbar\":{\"outlinewidth\":0,\"ticks\":\"\"}},\"type\":\"parcoords\"}],\"pie\":[{\"automargin\":true,\"type\":\"pie\"}],\"scatter3d\":[{\"line\":{\"colorbar\":{\"outlinewidth\":0,\"ticks\":\"\"}},\"marker\":{\"colorbar\":{\"outlinewidth\":0,\"ticks\":\"\"}},\"type\":\"scatter3d\"}],\"scattercarpet\":[{\"marker\":{\"colorbar\":{\"outlinewidth\":0,\"ticks\":\"\"}},\"type\":\"scattercarpet\"}],\"scattergeo\":[{\"marker\":{\"colorbar\":{\"outlinewidth\":0,\"ticks\":\"\"}},\"type\":\"scattergeo\"}],\"scattergl\":[{\"marker\":{\"colorbar\":{\"outlinewidth\":0,\"ticks\":\"\"}},\"type\":\"scattergl\"}],\"scattermapbox\":[{\"marker\":{\"colorbar\":{\"outlinewidth\":0,\"ticks\":\"\"}},\"type\":\"scattermapbox\"}],\"scatterpolargl\":[{\"marker\":{\"colorbar\":{\"outlinewidth\":0,\"ticks\":\"\"}},\"type\":\"scatterpolargl\"}],\"scatterpolar\":[{\"marker\":{\"colorbar\":{\"outlinewidth\":0,\"ticks\":\"\"}},\"type\":\"scatterpolar\"}],\"scatter\":[{\"marker\":{\"colorbar\":{\"outlinewidth\":0,\"ticks\":\"\"}},\"type\":\"scatter\"}],\"scatterternary\":[{\"marker\":{\"colorbar\":{\"outlinewidth\":0,\"ticks\":\"\"}},\"type\":\"scatterternary\"}],\"surface\":[{\"colorbar\":{\"outlinewidth\":0,\"ticks\":\"\"},\"colorscale\":[[0.0,\"#0d0887\"],[0.1111111111111111,\"#46039f\"],[0.2222222222222222,\"#7201a8\"],[0.3333333333333333,\"#9c179e\"],[0.4444444444444444,\"#bd3786\"],[0.5555555555555556,\"#d8576b\"],[0.6666666666666666,\"#ed7953\"],[0.7777777777777778,\"#fb9f3a\"],[0.8888888888888888,\"#fdca26\"],[1.0,\"#f0f921\"]],\"type\":\"surface\"}],\"table\":[{\"cells\":{\"fill\":{\"color\":\"#EBF0F8\"},\"line\":{\"color\":\"white\"}},\"header\":{\"fill\":{\"color\":\"#C8D4E3\"},\"line\":{\"color\":\"white\"}},\"type\":\"table\"}]},\"layout\":{\"annotationdefaults\":{\"arrowcolor\":\"#2a3f5f\",\"arrowhead\":0,\"arrowwidth\":1},\"autotypenumbers\":\"strict\",\"coloraxis\":{\"colorbar\":{\"outlinewidth\":0,\"ticks\":\"\"}},\"colorscale\":{\"diverging\":[[0,\"#8e0152\"],[0.1,\"#c51b7d\"],[0.2,\"#de77ae\"],[0.3,\"#f1b6da\"],[0.4,\"#fde0ef\"],[0.5,\"#f7f7f7\"],[0.6,\"#e6f5d0\"],[0.7,\"#b8e186\"],[0.8,\"#7fbc41\"],[0.9,\"#4d9221\"],[1,\"#276419\"]],\"sequential\":[[0.0,\"#0d0887\"],[0.1111111111111111,\"#46039f\"],[0.2222222222222222,\"#7201a8\"],[0.3333333333333333,\"#9c179e\"],[0.4444444444444444,\"#bd3786\"],[0.5555555555555556,\"#d8576b\"],[0.6666666666666666,\"#ed7953\"],[0.7777777777777778,\"#fb9f3a\"],[0.8888888888888888,\"#fdca26\"],[1.0,\"#f0f921\"]],\"sequentialminus\":[[0.0,\"#0d0887\"],[0.1111111111111111,\"#46039f\"],[0.2222222222222222,\"#7201a8\"],[0.3333333333333333,\"#9c179e\"],[0.4444444444444444,\"#bd3786\"],[0.5555555555555556,\"#d8576b\"],[0.6666666666666666,\"#ed7953\"],[0.7777777777777778,\"#fb9f3a\"],[0.8888888888888888,\"#fdca26\"],[1.0,\"#f0f921\"]]},\"colorway\":[\"#636efa\",\"#EF553B\",\"#00cc96\",\"#ab63fa\",\"#FFA15A\",\"#19d3f3\",\"#FF6692\",\"#B6E880\",\"#FF97FF\",\"#FECB52\"],\"font\":{\"color\":\"#2a3f5f\"},\"geo\":{\"bgcolor\":\"white\",\"lakecolor\":\"white\",\"landcolor\":\"#E5ECF6\",\"showlakes\":true,\"showland\":true,\"subunitcolor\":\"white\"},\"hoverlabel\":{\"align\":\"left\"},\"hovermode\":\"closest\",\"mapbox\":{\"style\":\"light\"},\"paper_bgcolor\":\"white\",\"plot_bgcolor\":\"#E5ECF6\",\"polar\":{\"angularaxis\":{\"gridcolor\":\"white\",\"linecolor\":\"white\",\"ticks\":\"\"},\"bgcolor\":\"#E5ECF6\",\"radialaxis\":{\"gridcolor\":\"white\",\"linecolor\":\"white\",\"ticks\":\"\"}},\"scene\":{\"xaxis\":{\"backgroundcolor\":\"#E5ECF6\",\"gridcolor\":\"white\",\"gridwidth\":2,\"linecolor\":\"white\",\"showbackground\":true,\"ticks\":\"\",\"zerolinecolor\":\"white\"},\"yaxis\":{\"backgroundcolor\":\"#E5ECF6\",\"gridcolor\":\"white\",\"gridwidth\":2,\"linecolor\":\"white\",\"showbackground\":true,\"ticks\":\"\",\"zerolinecolor\":\"white\"},\"zaxis\":{\"backgroundcolor\":\"#E5ECF6\",\"gridcolor\":\"white\",\"gridwidth\":2,\"linecolor\":\"white\",\"showbackground\":true,\"ticks\":\"\",\"zerolinecolor\":\"white\"}},\"shapedefaults\":{\"line\":{\"color\":\"#2a3f5f\"}},\"ternary\":{\"aaxis\":{\"gridcolor\":\"white\",\"linecolor\":\"white\",\"ticks\":\"\"},\"baxis\":{\"gridcolor\":\"white\",\"linecolor\":\"white\",\"ticks\":\"\"},\"bgcolor\":\"#E5ECF6\",\"caxis\":{\"gridcolor\":\"white\",\"linecolor\":\"white\",\"ticks\":\"\"}},\"title\":{\"x\":0.05},\"xaxis\":{\"automargin\":true,\"gridcolor\":\"white\",\"linecolor\":\"white\",\"ticks\":\"\",\"title\":{\"standoff\":15},\"zerolinecolor\":\"white\",\"zerolinewidth\":2},\"yaxis\":{\"automargin\":true,\"gridcolor\":\"white\",\"linecolor\":\"white\",\"ticks\":\"\",\"title\":{\"standoff\":15},\"zerolinecolor\":\"white\",\"zerolinewidth\":2}}},\"title\":{\"text\":\"Line plot of Netflix Shows\"},\"width\":1000},                        {\"responsive\": true}                    ).then(function(){\n",
              "                            \n",
              "var gd = document.getElementById('d94667e1-e304-4045-99f6-55627abd1110');\n",
              "var x = new MutationObserver(function (mutations, observer) {{\n",
              "        var display = window.getComputedStyle(gd).display;\n",
              "        if (!display || display === 'none') {{\n",
              "            console.log([gd, 'removed!']);\n",
              "            Plotly.purge(gd);\n",
              "            observer.disconnect();\n",
              "        }}\n",
              "}});\n",
              "\n",
              "// Listen for the removal of the full notebook cells\n",
              "var notebookContainer = gd.closest('#notebook-container');\n",
              "if (notebookContainer) {{\n",
              "    x.observe(notebookContainer, {childList: true});\n",
              "}}\n",
              "\n",
              "// Listen for the clearing of the current output cell\n",
              "var outputEl = gd.closest('.output');\n",
              "if (outputEl) {{\n",
              "    x.observe(outputEl, {childList: true});\n",
              "}}\n",
              "\n",
              "                        })                };                            </script>        </div>\n",
              "</body>\n",
              "</html>"
            ]
          },
          "metadata": {}
        }
      ]
    },
    {
      "cell_type": "code",
      "source": [
        "df['cast_name'] = df['cast'].apply(lambda x :  x.split(',')) \n",
        "cast_count = []\n",
        "for i in df['cast_name']: cast_count += i\n",
        "    \n",
        "cast_dict = dict((i, cast_count.count(i)) for i in cast_count)\n",
        "\n",
        "df_cast_count = pd.DataFrame(cast_dict.values(),cast_dict.keys()).reset_index().sort_values(0,ascending = False).rename(\n",
        "    columns = {'index' : 'cast_name', 0 : 'count'}).iloc[1:21]\n",
        "plt.figure(figsize = (18, 5))\n",
        "sns.barplot(x = 'cast_name', y = 'count', data = df_cast_count, palette = 'ocean')\n",
        "plt.xlabel('Cast Name', fontsize = 15)\n",
        "plt.ylabel('Count', fontsize = 15)\n",
        "plt.title('Top-20 ACTORS on Netflix', size = '16', fontweight = 'bold')\n",
        "plt.xticks(rotation = 90)\n",
        "plt.show()"
      ],
      "metadata": {
        "colab": {
          "base_uri": "https://localhost:8080/",
          "height": 447
        },
        "id": "ODM6cXLHWWYm",
        "outputId": "ab8128db-76ff-4aef-e2de-6acc82ea58f9"
      },
      "execution_count": 20,
      "outputs": [
        {
          "output_type": "display_data",
          "data": {
            "text/plain": [
              "<Figure size 1296x360 with 1 Axes>"
            ],
            "image/png": "[encoded data removed]"
          },
          "metadata": {
            "needs_background": "light"
          }
        }
      ]
    },
    {
      "cell_type": "code",
      "source": [
        "country = df['country'].value_counts().reset_index()\n",
        "country = country[country['country'] /  country['country'].sum() > 0.01]\n",
        "\n",
        "fig = px.pie(country, values='country', names = 'index', color_discrete_sequence = px.colors.sequential.Reds)\n",
        "fig.update_traces(textposition = 'inside', textinfo = 'percent+label',\n",
        "                  marker = dict(line = dict(color = 'black', width = 2)))\n",
        "fig.show()"
      ],
      "metadata": {
        "colab": {
          "base_uri": "https://localhost:8080/",
          "height": 542
        },
        "id": "GauNekOrZv7K",
        "outputId": "ef3b01ae-b879-4554-a22d-8d9e213be973"
      },
      "execution_count": 22,
      "outputs": [
        {
          "output_type": "display_data",
          "data": {
            "text/html": [
              "<html>\n",
              "<head><meta charset=\"utf-8\" /></head>\n",
              "<body>\n",
              "    <div>            <script src=\"https://cdnjs.cloudflare.com/ajax/libs/mathjax/2.7.5/MathJax.js?config=TeX-AMS-MML_SVG\"></script><script type=\"text/javascript\">if (window.MathJax) {MathJax.Hub.Config({SVG: {font: \"STIX-Web\"}});}</script>                <script type=\"text/javascript\">window.PlotlyConfig = {MathJaxConfig: 'local'};</script>\n",
              "        <script src=\"https://cdn.plot.ly/plotly-2.8.3.min.js\"></script>                <div id=\"38a5bc3e-1f66-4eb5-828b-9df62ad28146\" class=\"plotly-graph-div\" style=\"height:525px; width:100%;\"></div>            <script type=\"text/javascript\">                                    window.PLOTLYENV=window.PLOTLYENV || {};                                    if (document.getElementById(\"38a5bc3e-1f66-4eb5-828b-9df62ad28146\")) {                    Plotly.newPlot(                        \"38a5bc3e-1f66-4eb5-828b-9df62ad28146\",                        [{\"domain\":{\"x\":[0.0,1.0],\"y\":[0.0,1.0]},\"hovertemplate\":\"index=%{label}<br>country=%{value}<extra></extra>\",\"labels\":[\"United States\",\"India\",\"United Kingdom\",\"Japan\",\"South Korea\",\"Canada\",\"Spain\",\"France\",\"Egypt\",\"Turkey\",\"Mexico\",\"Australia\",\"Taiwan\"],\"legendgroup\":\"\",\"name\":\"\",\"showlegend\":true,\"values\":[3062,923,397,226,183,177,134,115,101,100,100,83,78],\"type\":\"pie\",\"marker\":{\"line\":{\"color\":\"black\",\"width\":2}},\"textinfo\":\"percent+label\",\"textposition\":\"inside\"}],                        {\"template\":{\"data\":{\"bar\":[{\"error_x\":{\"color\":\"#2a3f5f\"},\"error_y\":{\"color\":\"#2a3f5f\"},\"marker\":{\"line\":{\"color\":\"#E5ECF6\",\"width\":0.5},\"pattern\":{\"fillmode\":\"overlay\",\"size\":10,\"solidity\":0.2}},\"type\":\"bar\"}],\"barpolar\":[{\"marker\":{\"line\":{\"color\":\"#E5ECF6\",\"width\":0.5},\"pattern\":{\"fillmode\":\"overlay\",\"size\":10,\"solidity\":0.2}},\"type\":\"barpolar\"}],\"carpet\":[{\"aaxis\":{\"endlinecolor\":\"#2a3f5f\",\"gridcolor\":\"white\",\"linecolor\":\"white\",\"minorgridcolor\":\"white\",\"startlinecolor\":\"#2a3f5f\"},\"baxis\":{\"endlinecolor\":\"#2a3f5f\",\"gridcolor\":\"white\",\"linecolor\":\"white\",\"minorgridcolor\":\"white\",\"startlinecolor\":\"#2a3f5f\"},\"type\":\"carpet\"}],\"choropleth\":[{\"colorbar\":{\"outlinewidth\":0,\"ticks\":\"\"},\"type\":\"choropleth\"}],\"contour\":[{\"colorbar\":{\"outlinewidth\":0,\"ticks\":\"\"},\"colorscale\":[[0.0,\"#0d0887\"],[0.1111111111111111,\"#46039f\"],[0.2222222222222222,\"#7201a8\"],[0.3333333333333333,\"#9c179e\"],[0.4444444444444444,\"#bd3786\"],[0.5555555555555556,\"#d8576b\"],[0.6666666666666666,\"#ed7953\"],[0.7777777777777778,\"#fb9f3a\"],[0.8888888888888888,\"#fdca26\"],[1.0,\"#f0f921\"]],\"type\":\"contour\"}],\"contourcarpet\":[{\"colorbar\":{\"outlinewidth\":0,\"ticks\":\"\"},\"type\":\"contourcarpet\"}],\"heatmap\":[{\"colorbar\":{\"outlinewidth\":0,\"ticks\":\"\"},\"colorscale\":[[0.0,\"#0d0887\"],[0.1111111111111111,\"#46039f\"],[0.2222222222222222,\"#7201a8\"],[0.3333333333333333,\"#9c179e\"],[0.4444444444444444,\"#bd3786\"],[0.5555555555555556,\"#d8576b\"],[0.6666666666666666,\"#ed7953\"],[0.7777777777777778,\"#fb9f3a\"],[0.8888888888888888,\"#fdca26\"],[1.0,\"#f0f921\"]],\"type\":\"heatmap\"}],\"heatmapgl\":[{\"colorbar\":{\"outlinewidth\":0,\"ticks\":\"\"},\"colorscale\":[[0.0,\"#0d0887\"],[0.1111111111111111,\"#46039f\"],[0.2222222222222222,\"#7201a8\"],[0.3333333333333333,\"#9c179e\"],[0.4444444444444444,\"#bd3786\"],[0.5555555555555556,\"#d8576b\"],[0.6666666666666666,\"#ed7953\"],[0.7777777777777778,\"#fb9f3a\"],[0.8888888888888888,\"#fdca26\"],[1.0,\"#f0f921\"]],\"type\":\"heatmapgl\"}],\"histogram\":[{\"marker\":{\"pattern\":{\"fillmode\":\"overlay\",\"size\":10,\"solidity\":0.2}},\"type\":\"histogram\"}],\"histogram2d\":[{\"colorbar\":{\"outlinewidth\":0,\"ticks\":\"\"},\"colorscale\":[[0.0,\"#0d0887\"],[0.1111111111111111,\"#46039f\"],[0.2222222222222222,\"#7201a8\"],[0.3333333333333333,\"#9c179e\"],[0.4444444444444444,\"#bd3786\"],[0.5555555555555556,\"#d8576b\"],[0.6666666666666666,\"#ed7953\"],[0.7777777777777778,\"#fb9f3a\"],[0.8888888888888888,\"#fdca26\"],[1.0,\"#f0f921\"]],\"type\":\"histogram2d\"}],\"histogram2dcontour\":[{\"colorbar\":{\"outlinewidth\":0,\"ticks\":\"\"},\"colorscale\":[[0.0,\"#0d0887\"],[0.1111111111111111,\"#46039f\"],[0.2222222222222222,\"#7201a8\"],[0.3333333333333333,\"#9c179e\"],[0.4444444444444444,\"#bd3786\"],[0.5555555555555556,\"#d8576b\"],[0.6666666666666666,\"#ed7953\"],[0.7777777777777778,\"#fb9f3a\"],[0.8888888888888888,\"#fdca26\"],[1.0,\"#f0f921\"]],\"type\":\"histogram2dcontour\"}],\"mesh3d\":[{\"colorbar\":{\"outlinewidth\":0,\"ticks\":\"\"},\"type\":\"mesh3d\"}],\"parcoords\":[{\"line\":{\"colorbar\":{\"outlinewidth\":0,\"ticks\":\"\"}},\"type\":\"parcoords\"}],\"pie\":[{\"automargin\":true,\"type\":\"pie\"}],\"scatter\":[{\"marker\":{\"colorbar\":{\"outlinewidth\":0,\"ticks\":\"\"}},\"type\":\"scatter\"}],\"scatter3d\":[{\"line\":{\"colorbar\":{\"outlinewidth\":0,\"ticks\":\"\"}},\"marker\":{\"colorbar\":{\"outlinewidth\":0,\"ticks\":\"\"}},\"type\":\"scatter3d\"}],\"scattercarpet\":[{\"marker\":{\"colorbar\":{\"outlinewidth\":0,\"ticks\":\"\"}},\"type\":\"scattercarpet\"}],\"scattergeo\":[{\"marker\":{\"colorbar\":{\"outlinewidth\":0,\"ticks\":\"\"}},\"type\":\"scattergeo\"}],\"scattergl\":[{\"marker\":{\"colorbar\":{\"outlinewidth\":0,\"ticks\":\"\"}},\"type\":\"scattergl\"}],\"scattermapbox\":[{\"marker\":{\"colorbar\":{\"outlinewidth\":0,\"ticks\":\"\"}},\"type\":\"scattermapbox\"}],\"scatterpolar\":[{\"marker\":{\"colorbar\":{\"outlinewidth\":0,\"ticks\":\"\"}},\"type\":\"scatterpolar\"}],\"scatterpolargl\":[{\"marker\":{\"colorbar\":{\"outlinewidth\":0,\"ticks\":\"\"}},\"type\":\"scatterpolargl\"}],\"scatterternary\":[{\"marker\":{\"colorbar\":{\"outlinewidth\":0,\"ticks\":\"\"}},\"type\":\"scatterternary\"}],\"surface\":[{\"colorbar\":{\"outlinewidth\":0,\"ticks\":\"\"},\"colorscale\":[[0.0,\"#0d0887\"],[0.1111111111111111,\"#46039f\"],[0.2222222222222222,\"#7201a8\"],[0.3333333333333333,\"#9c179e\"],[0.4444444444444444,\"#bd3786\"],[0.5555555555555556,\"#d8576b\"],[0.6666666666666666,\"#ed7953\"],[0.7777777777777778,\"#fb9f3a\"],[0.8888888888888888,\"#fdca26\"],[1.0,\"#f0f921\"]],\"type\":\"surface\"}],\"table\":[{\"cells\":{\"fill\":{\"color\":\"#EBF0F8\"},\"line\":{\"color\":\"white\"}},\"header\":{\"fill\":{\"color\":\"#C8D4E3\"},\"line\":{\"color\":\"white\"}},\"type\":\"table\"}]},\"layout\":{\"annotationdefaults\":{\"arrowcolor\":\"#2a3f5f\",\"arrowhead\":0,\"arrowwidth\":1},\"autotypenumbers\":\"strict\",\"coloraxis\":{\"colorbar\":{\"outlinewidth\":0,\"ticks\":\"\"}},\"colorscale\":{\"diverging\":[[0,\"#8e0152\"],[0.1,\"#c51b7d\"],[0.2,\"#de77ae\"],[0.3,\"#f1b6da\"],[0.4,\"#fde0ef\"],[0.5,\"#f7f7f7\"],[0.6,\"#e6f5d0\"],[0.7,\"#b8e186\"],[0.8,\"#7fbc41\"],[0.9,\"#4d9221\"],[1,\"#276419\"]],\"sequential\":[[0.0,\"#0d0887\"],[0.1111111111111111,\"#46039f\"],[0.2222222222222222,\"#7201a8\"],[0.3333333333333333,\"#9c179e\"],[0.4444444444444444,\"#bd3786\"],[0.5555555555555556,\"#d8576b\"],[0.6666666666666666,\"#ed7953\"],[0.7777777777777778,\"#fb9f3a\"],[0.8888888888888888,\"#fdca26\"],[1.0,\"#f0f921\"]],\"sequentialminus\":[[0.0,\"#0d0887\"],[0.1111111111111111,\"#46039f\"],[0.2222222222222222,\"#7201a8\"],[0.3333333333333333,\"#9c179e\"],[0.4444444444444444,\"#bd3786\"],[0.5555555555555556,\"#d8576b\"],[0.6666666666666666,\"#ed7953\"],[0.7777777777777778,\"#fb9f3a\"],[0.8888888888888888,\"#fdca26\"],[1.0,\"#f0f921\"]]},\"colorway\":[\"#636efa\",\"#EF553B\",\"#00cc96\",\"#ab63fa\",\"#FFA15A\",\"#19d3f3\",\"#FF6692\",\"#B6E880\",\"#FF97FF\",\"#FECB52\"],\"font\":{\"color\":\"#2a3f5f\"},\"geo\":{\"bgcolor\":\"white\",\"lakecolor\":\"white\",\"landcolor\":\"#E5ECF6\",\"showlakes\":true,\"showland\":true,\"subunitcolor\":\"white\"},\"hoverlabel\":{\"align\":\"left\"},\"hovermode\":\"closest\",\"mapbox\":{\"style\":\"light\"},\"paper_bgcolor\":\"white\",\"plot_bgcolor\":\"#E5ECF6\",\"polar\":{\"angularaxis\":{\"gridcolor\":\"white\",\"linecolor\":\"white\",\"ticks\":\"\"},\"bgcolor\":\"#E5ECF6\",\"radialaxis\":{\"gridcolor\":\"white\",\"linecolor\":\"white\",\"ticks\":\"\"}},\"scene\":{\"xaxis\":{\"backgroundcolor\":\"#E5ECF6\",\"gridcolor\":\"white\",\"gridwidth\":2,\"linecolor\":\"white\",\"showbackground\":true,\"ticks\":\"\",\"zerolinecolor\":\"white\"},\"yaxis\":{\"backgroundcolor\":\"#E5ECF6\",\"gridcolor\":\"white\",\"gridwidth\":2,\"linecolor\":\"white\",\"showbackground\":true,\"ticks\":\"\",\"zerolinecolor\":\"white\"},\"zaxis\":{\"backgroundcolor\":\"#E5ECF6\",\"gridcolor\":\"white\",\"gridwidth\":2,\"linecolor\":\"white\",\"showbackground\":true,\"ticks\":\"\",\"zerolinecolor\":\"white\"}},\"shapedefaults\":{\"line\":{\"color\":\"#2a3f5f\"}},\"ternary\":{\"aaxis\":{\"gridcolor\":\"white\",\"linecolor\":\"white\",\"ticks\":\"\"},\"baxis\":{\"gridcolor\":\"white\",\"linecolor\":\"white\",\"ticks\":\"\"},\"bgcolor\":\"#E5ECF6\",\"caxis\":{\"gridcolor\":\"white\",\"linecolor\":\"white\",\"ticks\":\"\"}},\"title\":{\"x\":0.05},\"xaxis\":{\"automargin\":true,\"gridcolor\":\"white\",\"linecolor\":\"white\",\"ticks\":\"\",\"title\":{\"standoff\":15},\"zerolinecolor\":\"white\",\"zerolinewidth\":2},\"yaxis\":{\"automargin\":true,\"gridcolor\":\"white\",\"linecolor\":\"white\",\"ticks\":\"\",\"title\":{\"standoff\":15},\"zerolinecolor\":\"white\",\"zerolinewidth\":2}}},\"legend\":{\"tracegroupgap\":0},\"margin\":{\"t\":60},\"piecolorway\":[\"rgb(255,245,240)\",\"rgb(254,224,210)\",\"rgb(252,187,161)\",\"rgb(252,146,114)\",\"rgb(251,106,74)\",\"rgb(239,59,44)\",\"rgb(203,24,29)\",\"rgb(165,15,21)\",\"rgb(103,0,13)\"]},                        {\"responsive\": true}                    ).then(function(){\n",
              "                            \n",
              "var gd = document.getElementById('38a5bc3e-1f66-4eb5-828b-9df62ad28146');\n",
              "var x = new MutationObserver(function (mutations, observer) {{\n",
              "        var display = window.getComputedStyle(gd).display;\n",
              "        if (!display || display === 'none') {{\n",
              "            console.log([gd, 'removed!']);\n",
              "            Plotly.purge(gd);\n",
              "            observer.disconnect();\n",
              "        }}\n",
              "}});\n",
              "\n",
              "// Listen for the removal of the full notebook cells\n",
              "var notebookContainer = gd.closest('#notebook-container');\n",
              "if (notebookContainer) {{\n",
              "    x.observe(notebookContainer, {childList: true});\n",
              "}}\n",
              "\n",
              "// Listen for the clearing of the current output cell\n",
              "var outputEl = gd.closest('.output');\n",
              "if (outputEl) {{\n",
              "    x.observe(outputEl, {childList: true});\n",
              "}}\n",
              "\n",
              "                        })                };                            </script>        </div>\n",
              "</body>\n",
              "</html>"
            ]
          },
          "metadata": {}
        }
      ]
    },
    {
      "cell_type": "code",
      "source": [
        "fig = px.bar(df, \n",
        "             x = df['listed_in'].value_counts().head(15).index, \n",
        "             y = df['listed_in'].value_counts().head(15).values,\n",
        "             color_discrete_sequence = px.colors.sequential.Plasma,\n",
        "             labels = {'x':'Genre', 'y': 'Count'}, \n",
        "             title = 'Top 15 Genre in Shows',\n",
        "             height = 500)\n",
        "fig.show()"
      ],
      "metadata": {
        "colab": {
          "base_uri": "https://localhost:8080/",
          "height": 517
        },
        "id": "T_Z1ySL5bRJr",
        "outputId": "7539d6b5-fc31-4e37-df3b-3784ff785cb3"
      },
      "execution_count": 23,
      "outputs": [
        {
          "output_type": "display_data",
          "data": {
            "text/html": [
              "<html>\n",
              "<head><meta charset=\"utf-8\" /></head>\n",
              "<body>\n",
              "    <div>            <script src=\"https://cdnjs.cloudflare.com/ajax/libs/mathjax/2.7.5/MathJax.js?config=TeX-AMS-MML_SVG\"></script><script type=\"text/javascript\">if (window.MathJax) {MathJax.Hub.Config({SVG: {font: \"STIX-Web\"}});}</script>                <script type=\"text/javascript\">window.PlotlyConfig = {MathJaxConfig: 'local'};</script>\n",
              "        <script src=\"https://cdn.plot.ly/plotly-2.8.3.min.js\"></script>                <div id=\"02f3cf9b-3d43-474e-add6-f5c0480d6f77\" class=\"plotly-graph-div\" style=\"height:500px; width:100%;\"></div>            <script type=\"text/javascript\">                                    window.PLOTLYENV=window.PLOTLYENV || {};                                    if (document.getElementById(\"02f3cf9b-3d43-474e-add6-f5c0480d6f77\")) {                    Plotly.newPlot(                        \"02f3cf9b-3d43-474e-add6-f5c0480d6f77\",                        [{\"alignmentgroup\":\"True\",\"hovertemplate\":\"Genre=%{x}<br>Count=%{y}<extra></extra>\",\"legendgroup\":\"\",\"marker\":{\"color\":\"#0d0887\",\"pattern\":{\"shape\":\"\"}},\"name\":\"\",\"offsetgroup\":\"\",\"orientation\":\"v\",\"showlegend\":false,\"textposition\":\"auto\",\"x\":[\"Documentaries\",\"Stand-Up Comedy\",\"Dramas, International Movies\",\"Comedies, Dramas, International Movies\",\"Dramas, Independent Movies, International Movies\",\"Kids' TV\",\"Children & Family Movies\",\"Documentaries, International Movies\",\"Children & Family Movies, Comedies\",\"Comedies, International Movies\",\"Dramas, International Movies, Romantic Movies\",\"Comedies, International Movies, Romantic Movies\",\"Dramas\",\"Action & Adventure, Dramas, International Movies\",\"International TV Shows, TV Dramas\"],\"xaxis\":\"x\",\"y\":[334,321,320,243,215,205,177,172,169,161,153,139,117,117,111],\"yaxis\":\"y\",\"type\":\"bar\"}],                        {\"template\":{\"data\":{\"bar\":[{\"error_x\":{\"color\":\"#2a3f5f\"},\"error_y\":{\"color\":\"#2a3f5f\"},\"marker\":{\"line\":{\"color\":\"#E5ECF6\",\"width\":0.5},\"pattern\":{\"fillmode\":\"overlay\",\"size\":10,\"solidity\":0.2}},\"type\":\"bar\"}],\"barpolar\":[{\"marker\":{\"line\":{\"color\":\"#E5ECF6\",\"width\":0.5},\"pattern\":{\"fillmode\":\"overlay\",\"size\":10,\"solidity\":0.2}},\"type\":\"barpolar\"}],\"carpet\":[{\"aaxis\":{\"endlinecolor\":\"#2a3f5f\",\"gridcolor\":\"white\",\"linecolor\":\"white\",\"minorgridcolor\":\"white\",\"startlinecolor\":\"#2a3f5f\"},\"baxis\":{\"endlinecolor\":\"#2a3f5f\",\"gridcolor\":\"white\",\"linecolor\":\"white\",\"minorgridcolor\":\"white\",\"startlinecolor\":\"#2a3f5f\"},\"type\":\"carpet\"}],\"choropleth\":[{\"colorbar\":{\"outlinewidth\":0,\"ticks\":\"\"},\"type\":\"choropleth\"}],\"contour\":[{\"colorbar\":{\"outlinewidth\":0,\"ticks\":\"\"},\"colorscale\":[[0.0,\"#0d0887\"],[0.1111111111111111,\"#46039f\"],[0.2222222222222222,\"#7201a8\"],[0.3333333333333333,\"#9c179e\"],[0.4444444444444444,\"#bd3786\"],[0.5555555555555556,\"#d8576b\"],[0.6666666666666666,\"#ed7953\"],[0.7777777777777778,\"#fb9f3a\"],[0.8888888888888888,\"#fdca26\"],[1.0,\"#f0f921\"]],\"type\":\"contour\"}],\"contourcarpet\":[{\"colorbar\":{\"outlinewidth\":0,\"ticks\":\"\"},\"type\":\"contourcarpet\"}],\"heatmap\":[{\"colorbar\":{\"outlinewidth\":0,\"ticks\":\"\"},\"colorscale\":[[0.0,\"#0d0887\"],[0.1111111111111111,\"#46039f\"],[0.2222222222222222,\"#7201a8\"],[0.3333333333333333,\"#9c179e\"],[0.4444444444444444,\"#bd3786\"],[0.5555555555555556,\"#d8576b\"],[0.6666666666666666,\"#ed7953\"],[0.7777777777777778,\"#fb9f3a\"],[0.8888888888888888,\"#fdca26\"],[1.0,\"#f0f921\"]],\"type\":\"heatmap\"}],\"heatmapgl\":[{\"colorbar\":{\"outlinewidth\":0,\"ticks\":\"\"},\"colorscale\":[[0.0,\"#0d0887\"],[0.1111111111111111,\"#46039f\"],[0.2222222222222222,\"#7201a8\"],[0.3333333333333333,\"#9c179e\"],[0.4444444444444444,\"#bd3786\"],[0.5555555555555556,\"#d8576b\"],[0.6666666666666666,\"#ed7953\"],[0.7777777777777778,\"#fb9f3a\"],[0.8888888888888888,\"#fdca26\"],[1.0,\"#f0f921\"]],\"type\":\"heatmapgl\"}],\"histogram\":[{\"marker\":{\"pattern\":{\"fillmode\":\"overlay\",\"size\":10,\"solidity\":0.2}},\"type\":\"histogram\"}],\"histogram2d\":[{\"colorbar\":{\"outlinewidth\":0,\"ticks\":\"\"},\"colorscale\":[[0.0,\"#0d0887\"],[0.1111111111111111,\"#46039f\"],[0.2222222222222222,\"#7201a8\"],[0.3333333333333333,\"#9c179e\"],[0.4444444444444444,\"#bd3786\"],[0.5555555555555556,\"#d8576b\"],[0.6666666666666666,\"#ed7953\"],[0.7777777777777778,\"#fb9f3a\"],[0.8888888888888888,\"#fdca26\"],[1.0,\"#f0f921\"]],\"type\":\"histogram2d\"}],\"histogram2dcontour\":[{\"colorbar\":{\"outlinewidth\":0,\"ticks\":\"\"},\"colorscale\":[[0.0,\"#0d0887\"],[0.1111111111111111,\"#46039f\"],[0.2222222222222222,\"#7201a8\"],[0.3333333333333333,\"#9c179e\"],[0.4444444444444444,\"#bd3786\"],[0.5555555555555556,\"#d8576b\"],[0.6666666666666666,\"#ed7953\"],[0.7777777777777778,\"#fb9f3a\"],[0.8888888888888888,\"#fdca26\"],[1.0,\"#f0f921\"]],\"type\":\"histogram2dcontour\"}],\"mesh3d\":[{\"colorbar\":{\"outlinewidth\":0,\"ticks\":\"\"},\"type\":\"mesh3d\"}],\"parcoords\":[{\"line\":{\"colorbar\":{\"outlinewidth\":0,\"ticks\":\"\"}},\"type\":\"parcoords\"}],\"pie\":[{\"automargin\":true,\"type\":\"pie\"}],\"scatter\":[{\"marker\":{\"colorbar\":{\"outlinewidth\":0,\"ticks\":\"\"}},\"type\":\"scatter\"}],\"scatter3d\":[{\"line\":{\"colorbar\":{\"outlinewidth\":0,\"ticks\":\"\"}},\"marker\":{\"colorbar\":{\"outlinewidth\":0,\"ticks\":\"\"}},\"type\":\"scatter3d\"}],\"scattercarpet\":[{\"marker\":{\"colorbar\":{\"outlinewidth\":0,\"ticks\":\"\"}},\"type\":\"scattercarpet\"}],\"scattergeo\":[{\"marker\":{\"colorbar\":{\"outlinewidth\":0,\"ticks\":\"\"}},\"type\":\"scattergeo\"}],\"scattergl\":[{\"marker\":{\"colorbar\":{\"outlinewidth\":0,\"ticks\":\"\"}},\"type\":\"scattergl\"}],\"scattermapbox\":[{\"marker\":{\"colorbar\":{\"outlinewidth\":0,\"ticks\":\"\"}},\"type\":\"scattermapbox\"}],\"scatterpolar\":[{\"marker\":{\"colorbar\":{\"outlinewidth\":0,\"ticks\":\"\"}},\"type\":\"scatterpolar\"}],\"scatterpolargl\":[{\"marker\":{\"colorbar\":{\"outlinewidth\":0,\"ticks\":\"\"}},\"type\":\"scatterpolargl\"}],\"scatterternary\":[{\"marker\":{\"colorbar\":{\"outlinewidth\":0,\"ticks\":\"\"}},\"type\":\"scatterternary\"}],\"surface\":[{\"colorbar\":{\"outlinewidth\":0,\"ticks\":\"\"},\"colorscale\":[[0.0,\"#0d0887\"],[0.1111111111111111,\"#46039f\"],[0.2222222222222222,\"#7201a8\"],[0.3333333333333333,\"#9c179e\"],[0.4444444444444444,\"#bd3786\"],[0.5555555555555556,\"#d8576b\"],[0.6666666666666666,\"#ed7953\"],[0.7777777777777778,\"#fb9f3a\"],[0.8888888888888888,\"#fdca26\"],[1.0,\"#f0f921\"]],\"type\":\"surface\"}],\"table\":[{\"cells\":{\"fill\":{\"color\":\"#EBF0F8\"},\"line\":{\"color\":\"white\"}},\"header\":{\"fill\":{\"color\":\"#C8D4E3\"},\"line\":{\"color\":\"white\"}},\"type\":\"table\"}]},\"layout\":{\"annotationdefaults\":{\"arrowcolor\":\"#2a3f5f\",\"arrowhead\":0,\"arrowwidth\":1},\"autotypenumbers\":\"strict\",\"coloraxis\":{\"colorbar\":{\"outlinewidth\":0,\"ticks\":\"\"}},\"colorscale\":{\"diverging\":[[0,\"#8e0152\"],[0.1,\"#c51b7d\"],[0.2,\"#de77ae\"],[0.3,\"#f1b6da\"],[0.4,\"#fde0ef\"],[0.5,\"#f7f7f7\"],[0.6,\"#e6f5d0\"],[0.7,\"#b8e186\"],[0.8,\"#7fbc41\"],[0.9,\"#4d9221\"],[1,\"#276419\"]],\"sequential\":[[0.0,\"#0d0887\"],[0.1111111111111111,\"#46039f\"],[0.2222222222222222,\"#7201a8\"],[0.3333333333333333,\"#9c179e\"],[0.4444444444444444,\"#bd3786\"],[0.5555555555555556,\"#d8576b\"],[0.6666666666666666,\"#ed7953\"],[0.7777777777777778,\"#fb9f3a\"],[0.8888888888888888,\"#fdca26\"],[1.0,\"#f0f921\"]],\"sequentialminus\":[[0.0,\"#0d0887\"],[0.1111111111111111,\"#46039f\"],[0.2222222222222222,\"#7201a8\"],[0.3333333333333333,\"#9c179e\"],[0.4444444444444444,\"#bd3786\"],[0.5555555555555556,\"#d8576b\"],[0.6666666666666666,\"#ed7953\"],[0.7777777777777778,\"#fb9f3a\"],[0.8888888888888888,\"#fdca26\"],[1.0,\"#f0f921\"]]},\"colorway\":[\"#636efa\",\"#EF553B\",\"#00cc96\",\"#ab63fa\",\"#FFA15A\",\"#19d3f3\",\"#FF6692\",\"#B6E880\",\"#FF97FF\",\"#FECB52\"],\"font\":{\"color\":\"#2a3f5f\"},\"geo\":{\"bgcolor\":\"white\",\"lakecolor\":\"white\",\"landcolor\":\"#E5ECF6\",\"showlakes\":true,\"showland\":true,\"subunitcolor\":\"white\"},\"hoverlabel\":{\"align\":\"left\"},\"hovermode\":\"closest\",\"mapbox\":{\"style\":\"light\"},\"paper_bgcolor\":\"white\",\"plot_bgcolor\":\"#E5ECF6\",\"polar\":{\"angularaxis\":{\"gridcolor\":\"white\",\"linecolor\":\"white\",\"ticks\":\"\"},\"bgcolor\":\"#E5ECF6\",\"radialaxis\":{\"gridcolor\":\"white\",\"linecolor\":\"white\",\"ticks\":\"\"}},\"scene\":{\"xaxis\":{\"backgroundcolor\":\"#E5ECF6\",\"gridcolor\":\"white\",\"gridwidth\":2,\"linecolor\":\"white\",\"showbackground\":true,\"ticks\":\"\",\"zerolinecolor\":\"white\"},\"yaxis\":{\"backgroundcolor\":\"#E5ECF6\",\"gridcolor\":\"white\",\"gridwidth\":2,\"linecolor\":\"white\",\"showbackground\":true,\"ticks\":\"\",\"zerolinecolor\":\"white\"},\"zaxis\":{\"backgroundcolor\":\"#E5ECF6\",\"gridcolor\":\"white\",\"gridwidth\":2,\"linecolor\":\"white\",\"showbackground\":true,\"ticks\":\"\",\"zerolinecolor\":\"white\"}},\"shapedefaults\":{\"line\":{\"color\":\"#2a3f5f\"}},\"ternary\":{\"aaxis\":{\"gridcolor\":\"white\",\"linecolor\":\"white\",\"ticks\":\"\"},\"baxis\":{\"gridcolor\":\"white\",\"linecolor\":\"white\",\"ticks\":\"\"},\"bgcolor\":\"#E5ECF6\",\"caxis\":{\"gridcolor\":\"white\",\"linecolor\":\"white\",\"ticks\":\"\"}},\"title\":{\"x\":0.05},\"xaxis\":{\"automargin\":true,\"gridcolor\":\"white\",\"linecolor\":\"white\",\"ticks\":\"\",\"title\":{\"standoff\":15},\"zerolinecolor\":\"white\",\"zerolinewidth\":2},\"yaxis\":{\"automargin\":true,\"gridcolor\":\"white\",\"linecolor\":\"white\",\"ticks\":\"\",\"title\":{\"standoff\":15},\"zerolinecolor\":\"white\",\"zerolinewidth\":2}}},\"xaxis\":{\"anchor\":\"y\",\"domain\":[0.0,1.0],\"title\":{\"text\":\"Genre\"}},\"yaxis\":{\"anchor\":\"x\",\"domain\":[0.0,1.0],\"title\":{\"text\":\"Count\"}},\"legend\":{\"tracegroupgap\":0},\"title\":{\"text\":\"Top 15 Genre in Shows\"},\"barmode\":\"relative\",\"height\":500},                        {\"responsive\": true}                    ).then(function(){\n",
              "                            \n",
              "var gd = document.getElementById('02f3cf9b-3d43-474e-add6-f5c0480d6f77');\n",
              "var x = new MutationObserver(function (mutations, observer) {{\n",
              "        var display = window.getComputedStyle(gd).display;\n",
              "        if (!display || display === 'none') {{\n",
              "            console.log([gd, 'removed!']);\n",
              "            Plotly.purge(gd);\n",
              "            observer.disconnect();\n",
              "        }}\n",
              "}});\n",
              "\n",
              "// Listen for the removal of the full notebook cells\n",
              "var notebookContainer = gd.closest('#notebook-container');\n",
              "if (notebookContainer) {{\n",
              "    x.observe(notebookContainer, {childList: true});\n",
              "}}\n",
              "\n",
              "// Listen for the clearing of the current output cell\n",
              "var outputEl = gd.closest('.output');\n",
              "if (outputEl) {{\n",
              "    x.observe(outputEl, {childList: true});\n",
              "}}\n",
              "\n",
              "                        })                };                            </script>        </div>\n",
              "</body>\n",
              "</html>"
            ]
          },
          "metadata": {}
        }
      ]
    },
    {
      "cell_type": "code",
      "source": [
        "tv_df = df[df['type'] == 'TV Show']\n",
        "tv_df['duration'].value_counts()\n",
        "\n",
        "\n",
        "tv = tv_df['duration'].value_counts().T.reset_index()\n",
        "\n",
        "fig = px.pie(tv, values = 'duration', names = 'index', color_discrete_sequence = px.colors.sequential.RdBu)\n",
        "fig.update_layout(title = 'Season-wise distribution of TV Shows')\n",
        "fig.update_traces(textposition = 'inside', textinfo = 'percent+label', textfont_size = 20,\n",
        "                  marker = dict( line = dict(color = '#000000', width = 2)))"
      ],
      "metadata": {
        "colab": {
          "base_uri": "https://localhost:8080/",
          "height": 542
        },
        "id": "KvVnfByadvlh",
        "outputId": "4bf1b7db-afda-44d1-92c1-7ec88940c86e"
      },
      "execution_count": 24,
      "outputs": [
        {
          "output_type": "display_data",
          "data": {
            "text/html": [
              "<html>\n",
              "<head><meta charset=\"utf-8\" /></head>\n",
              "<body>\n",
              "    <div>            <script src=\"https://cdnjs.cloudflare.com/ajax/libs/mathjax/2.7.5/MathJax.js?config=TeX-AMS-MML_SVG\"></script><script type=\"text/javascript\">if (window.MathJax) {MathJax.Hub.Config({SVG: {font: \"STIX-Web\"}});}</script>                <script type=\"text/javascript\">window.PlotlyConfig = {MathJaxConfig: 'local'};</script>\n",
              "        <script src=\"https://cdn.plot.ly/plotly-2.8.3.min.js\"></script>                <div id=\"41e924cb-6b09-4fac-869c-b665c2a1b614\" class=\"plotly-graph-div\" style=\"height:525px; width:100%;\"></div>            <script type=\"text/javascript\">                                    window.PLOTLYENV=window.PLOTLYENV || {};                                    if (document.getElementById(\"41e924cb-6b09-4fac-869c-b665c2a1b614\")) {                    Plotly.newPlot(                        \"41e924cb-6b09-4fac-869c-b665c2a1b614\",                        [{\"domain\":{\"x\":[0.0,1.0],\"y\":[0.0,1.0]},\"hovertemplate\":\"index=%{label}<br>duration=%{value}<extra></extra>\",\"labels\":[\"1 Season\",\"2 Seasons\",\"3 Seasons\",\"4 Seasons\",\"5 Seasons\",\"6 Seasons\",\"7 Seasons\",\"8 Seasons\",\"9 Seasons\",\"10 Seasons\",\"11 Seasons\",\"13 Seasons\",\"12 Seasons\",\"15 Seasons\",\"16 Seasons\"],\"legendgroup\":\"\",\"name\":\"\",\"showlegend\":true,\"values\":[1608,382,184,87,58,30,19,18,8,6,3,2,2,2,1],\"type\":\"pie\",\"textfont\":{\"size\":20},\"marker\":{\"line\":{\"color\":\"#000000\",\"width\":2}},\"textinfo\":\"percent+label\",\"textposition\":\"inside\"}],                        {\"template\":{\"data\":{\"bar\":[{\"error_x\":{\"color\":\"#2a3f5f\"},\"error_y\":{\"color\":\"#2a3f5f\"},\"marker\":{\"line\":{\"color\":\"#E5ECF6\",\"width\":0.5},\"pattern\":{\"fillmode\":\"overlay\",\"size\":10,\"solidity\":0.2}},\"type\":\"bar\"}],\"barpolar\":[{\"marker\":{\"line\":{\"color\":\"#E5ECF6\",\"width\":0.5},\"pattern\":{\"fillmode\":\"overlay\",\"size\":10,\"solidity\":0.2}},\"type\":\"barpolar\"}],\"carpet\":[{\"aaxis\":{\"endlinecolor\":\"#2a3f5f\",\"gridcolor\":\"white\",\"linecolor\":\"white\",\"minorgridcolor\":\"white\",\"startlinecolor\":\"#2a3f5f\"},\"baxis\":{\"endlinecolor\":\"#2a3f5f\",\"gridcolor\":\"white\",\"linecolor\":\"white\",\"minorgridcolor\":\"white\",\"startlinecolor\":\"#2a3f5f\"},\"type\":\"carpet\"}],\"choropleth\":[{\"colorbar\":{\"outlinewidth\":0,\"ticks\":\"\"},\"type\":\"choropleth\"}],\"contour\":[{\"colorbar\":{\"outlinewidth\":0,\"ticks\":\"\"},\"colorscale\":[[0.0,\"#0d0887\"],[0.1111111111111111,\"#46039f\"],[0.2222222222222222,\"#7201a8\"],[0.3333333333333333,\"#9c179e\"],[0.4444444444444444,\"#bd3786\"],[0.5555555555555556,\"#d8576b\"],[0.6666666666666666,\"#ed7953\"],[0.7777777777777778,\"#fb9f3a\"],[0.8888888888888888,\"#fdca26\"],[1.0,\"#f0f921\"]],\"type\":\"contour\"}],\"contourcarpet\":[{\"colorbar\":{\"outlinewidth\":0,\"ticks\":\"\"},\"type\":\"contourcarpet\"}],\"heatmap\":[{\"colorbar\":{\"outlinewidth\":0,\"ticks\":\"\"},\"colorscale\":[[0.0,\"#0d0887\"],[0.1111111111111111,\"#46039f\"],[0.2222222222222222,\"#7201a8\"],[0.3333333333333333,\"#9c179e\"],[0.4444444444444444,\"#bd3786\"],[0.5555555555555556,\"#d8576b\"],[0.6666666666666666,\"#ed7953\"],[0.7777777777777778,\"#fb9f3a\"],[0.8888888888888888,\"#fdca26\"],[1.0,\"#f0f921\"]],\"type\":\"heatmap\"}],\"heatmapgl\":[{\"colorbar\":{\"outlinewidth\":0,\"ticks\":\"\"},\"colorscale\":[[0.0,\"#0d0887\"],[0.1111111111111111,\"#46039f\"],[0.2222222222222222,\"#7201a8\"],[0.3333333333333333,\"#9c179e\"],[0.4444444444444444,\"#bd3786\"],[0.5555555555555556,\"#d8576b\"],[0.6666666666666666,\"#ed7953\"],[0.7777777777777778,\"#fb9f3a\"],[0.8888888888888888,\"#fdca26\"],[1.0,\"#f0f921\"]],\"type\":\"heatmapgl\"}],\"histogram\":[{\"marker\":{\"pattern\":{\"fillmode\":\"overlay\",\"size\":10,\"solidity\":0.2}},\"type\":\"histogram\"}],\"histogram2d\":[{\"colorbar\":{\"outlinewidth\":0,\"ticks\":\"\"},\"colorscale\":[[0.0,\"#0d0887\"],[0.1111111111111111,\"#46039f\"],[0.2222222222222222,\"#7201a8\"],[0.3333333333333333,\"#9c179e\"],[0.4444444444444444,\"#bd3786\"],[0.5555555555555556,\"#d8576b\"],[0.6666666666666666,\"#ed7953\"],[0.7777777777777778,\"#fb9f3a\"],[0.8888888888888888,\"#fdca26\"],[1.0,\"#f0f921\"]],\"type\":\"histogram2d\"}],\"histogram2dcontour\":[{\"colorbar\":{\"outlinewidth\":0,\"ticks\":\"\"},\"colorscale\":[[0.0,\"#0d0887\"],[0.1111111111111111,\"#46039f\"],[0.2222222222222222,\"#7201a8\"],[0.3333333333333333,\"#9c179e\"],[0.4444444444444444,\"#bd3786\"],[0.5555555555555556,\"#d8576b\"],[0.6666666666666666,\"#ed7953\"],[0.7777777777777778,\"#fb9f3a\"],[0.8888888888888888,\"#fdca26\"],[1.0,\"#f0f921\"]],\"type\":\"histogram2dcontour\"}],\"mesh3d\":[{\"colorbar\":{\"outlinewidth\":0,\"ticks\":\"\"},\"type\":\"mesh3d\"}],\"parcoords\":[{\"line\":{\"colorbar\":{\"outlinewidth\":0,\"ticks\":\"\"}},\"type\":\"parcoords\"}],\"pie\":[{\"automargin\":true,\"type\":\"pie\"}],\"scatter\":[{\"marker\":{\"colorbar\":{\"outlinewidth\":0,\"ticks\":\"\"}},\"type\":\"scatter\"}],\"scatter3d\":[{\"line\":{\"colorbar\":{\"outlinewidth\":0,\"ticks\":\"\"}},\"marker\":{\"colorbar\":{\"outlinewidth\":0,\"ticks\":\"\"}},\"type\":\"scatter3d\"}],\"scattercarpet\":[{\"marker\":{\"colorbar\":{\"outlinewidth\":0,\"ticks\":\"\"}},\"type\":\"scattercarpet\"}],\"scattergeo\":[{\"marker\":{\"colorbar\":{\"outlinewidth\":0,\"ticks\":\"\"}},\"type\":\"scattergeo\"}],\"scattergl\":[{\"marker\":{\"colorbar\":{\"outlinewidth\":0,\"ticks\":\"\"}},\"type\":\"scattergl\"}],\"scattermapbox\":[{\"marker\":{\"colorbar\":{\"outlinewidth\":0,\"ticks\":\"\"}},\"type\":\"scattermapbox\"}],\"scatterpolar\":[{\"marker\":{\"colorbar\":{\"outlinewidth\":0,\"ticks\":\"\"}},\"type\":\"scatterpolar\"}],\"scatterpolargl\":[{\"marker\":{\"colorbar\":{\"outlinewidth\":0,\"ticks\":\"\"}},\"type\":\"scatterpolargl\"}],\"scatterternary\":[{\"marker\":{\"colorbar\":{\"outlinewidth\":0,\"ticks\":\"\"}},\"type\":\"scatterternary\"}],\"surface\":[{\"colorbar\":{\"outlinewidth\":0,\"ticks\":\"\"},\"colorscale\":[[0.0,\"#0d0887\"],[0.1111111111111111,\"#46039f\"],[0.2222222222222222,\"#7201a8\"],[0.3333333333333333,\"#9c179e\"],[0.4444444444444444,\"#bd3786\"],[0.5555555555555556,\"#d8576b\"],[0.6666666666666666,\"#ed7953\"],[0.7777777777777778,\"#fb9f3a\"],[0.8888888888888888,\"#fdca26\"],[1.0,\"#f0f921\"]],\"type\":\"surface\"}],\"table\":[{\"cells\":{\"fill\":{\"color\":\"#EBF0F8\"},\"line\":{\"color\":\"white\"}},\"header\":{\"fill\":{\"color\":\"#C8D4E3\"},\"line\":{\"color\":\"white\"}},\"type\":\"table\"}]},\"layout\":{\"annotationdefaults\":{\"arrowcolor\":\"#2a3f5f\",\"arrowhead\":0,\"arrowwidth\":1},\"autotypenumbers\":\"strict\",\"coloraxis\":{\"colorbar\":{\"outlinewidth\":0,\"ticks\":\"\"}},\"colorscale\":{\"diverging\":[[0,\"#8e0152\"],[0.1,\"#c51b7d\"],[0.2,\"#de77ae\"],[0.3,\"#f1b6da\"],[0.4,\"#fde0ef\"],[0.5,\"#f7f7f7\"],[0.6,\"#e6f5d0\"],[0.7,\"#b8e186\"],[0.8,\"#7fbc41\"],[0.9,\"#4d9221\"],[1,\"#276419\"]],\"sequential\":[[0.0,\"#0d0887\"],[0.1111111111111111,\"#46039f\"],[0.2222222222222222,\"#7201a8\"],[0.3333333333333333,\"#9c179e\"],[0.4444444444444444,\"#bd3786\"],[0.5555555555555556,\"#d8576b\"],[0.6666666666666666,\"#ed7953\"],[0.7777777777777778,\"#fb9f3a\"],[0.8888888888888888,\"#fdca26\"],[1.0,\"#f0f921\"]],\"sequentialminus\":[[0.0,\"#0d0887\"],[0.1111111111111111,\"#46039f\"],[0.2222222222222222,\"#7201a8\"],[0.3333333333333333,\"#9c179e\"],[0.4444444444444444,\"#bd3786\"],[0.5555555555555556,\"#d8576b\"],[0.6666666666666666,\"#ed7953\"],[0.7777777777777778,\"#fb9f3a\"],[0.8888888888888888,\"#fdca26\"],[1.0,\"#f0f921\"]]},\"colorway\":[\"#636efa\",\"#EF553B\",\"#00cc96\",\"#ab63fa\",\"#FFA15A\",\"#19d3f3\",\"#FF6692\",\"#B6E880\",\"#FF97FF\",\"#FECB52\"],\"font\":{\"color\":\"#2a3f5f\"},\"geo\":{\"bgcolor\":\"white\",\"lakecolor\":\"white\",\"landcolor\":\"#E5ECF6\",\"showlakes\":true,\"showland\":true,\"subunitcolor\":\"white\"},\"hoverlabel\":{\"align\":\"left\"},\"hovermode\":\"closest\",\"mapbox\":{\"style\":\"light\"},\"paper_bgcolor\":\"white\",\"plot_bgcolor\":\"#E5ECF6\",\"polar\":{\"angularaxis\":{\"gridcolor\":\"white\",\"linecolor\":\"white\",\"ticks\":\"\"},\"bgcolor\":\"#E5ECF6\",\"radialaxis\":{\"gridcolor\":\"white\",\"linecolor\":\"white\",\"ticks\":\"\"}},\"scene\":{\"xaxis\":{\"backgroundcolor\":\"#E5ECF6\",\"gridcolor\":\"white\",\"gridwidth\":2,\"linecolor\":\"white\",\"showbackground\":true,\"ticks\":\"\",\"zerolinecolor\":\"white\"},\"yaxis\":{\"backgroundcolor\":\"#E5ECF6\",\"gridcolor\":\"white\",\"gridwidth\":2,\"linecolor\":\"white\",\"showbackground\":true,\"ticks\":\"\",\"zerolinecolor\":\"white\"},\"zaxis\":{\"backgroundcolor\":\"#E5ECF6\",\"gridcolor\":\"white\",\"gridwidth\":2,\"linecolor\":\"white\",\"showbackground\":true,\"ticks\":\"\",\"zerolinecolor\":\"white\"}},\"shapedefaults\":{\"line\":{\"color\":\"#2a3f5f\"}},\"ternary\":{\"aaxis\":{\"gridcolor\":\"white\",\"linecolor\":\"white\",\"ticks\":\"\"},\"baxis\":{\"gridcolor\":\"white\",\"linecolor\":\"white\",\"ticks\":\"\"},\"bgcolor\":\"#E5ECF6\",\"caxis\":{\"gridcolor\":\"white\",\"linecolor\":\"white\",\"ticks\":\"\"}},\"title\":{\"x\":0.05},\"xaxis\":{\"automargin\":true,\"gridcolor\":\"white\",\"linecolor\":\"white\",\"ticks\":\"\",\"title\":{\"standoff\":15},\"zerolinecolor\":\"white\",\"zerolinewidth\":2},\"yaxis\":{\"automargin\":true,\"gridcolor\":\"white\",\"linecolor\":\"white\",\"ticks\":\"\",\"title\":{\"standoff\":15},\"zerolinecolor\":\"white\",\"zerolinewidth\":2}}},\"legend\":{\"tracegroupgap\":0},\"margin\":{\"t\":60},\"piecolorway\":[\"rgb(103,0,31)\",\"rgb(178,24,43)\",\"rgb(214,96,77)\",\"rgb(244,165,130)\",\"rgb(253,219,199)\",\"rgb(247,247,247)\",\"rgb(209,229,240)\",\"rgb(146,197,222)\",\"rgb(67,147,195)\",\"rgb(33,102,172)\",\"rgb(5,48,97)\"],\"title\":{\"text\":\"Season-wise distribution of TV Shows\"}},                        {\"responsive\": true}                    ).then(function(){\n",
              "                            \n",
              "var gd = document.getElementById('41e924cb-6b09-4fac-869c-b665c2a1b614');\n",
              "var x = new MutationObserver(function (mutations, observer) {{\n",
              "        var display = window.getComputedStyle(gd).display;\n",
              "        if (!display || display === 'none') {{\n",
              "            console.log([gd, 'removed!']);\n",
              "            Plotly.purge(gd);\n",
              "            observer.disconnect();\n",
              "        }}\n",
              "}});\n",
              "\n",
              "// Listen for the removal of the full notebook cells\n",
              "var notebookContainer = gd.closest('#notebook-container');\n",
              "if (notebookContainer) {{\n",
              "    x.observe(notebookContainer, {childList: true});\n",
              "}}\n",
              "\n",
              "// Listen for the clearing of the current output cell\n",
              "var outputEl = gd.closest('.output');\n",
              "if (outputEl) {{\n",
              "    x.observe(outputEl, {childList: true});\n",
              "}}\n",
              "\n",
              "                        })                };                            </script>        </div>\n",
              "</body>\n",
              "</html>"
            ]
          },
          "metadata": {}
        }
      ]
    },
    {
      "cell_type": "code",
      "source": [
        "movie_df = df[df['type'] == 'Movie']\n",
        "movie_df['duration'].value_counts()\n",
        "\n",
        "\n",
        "movie = movie_df['duration'].value_counts().head(10).sort_index(ascending = False).T.reset_index()\n",
        "\n",
        "fig = px.pie(movie, values = 'duration', names = 'index', color_discrete_sequence = px.colors.sequential.Turbo)\n",
        "fig.update_layout(title = 'Top 10 Duration for Movies')\n",
        "fig.update_traces(textposition = 'inside', textinfo = 'percent+label', textfont_size = 20,\n",
        "                  marker = dict( line = dict(color = '#000000', width = 2)))"
      ],
      "metadata": {
        "colab": {
          "base_uri": "https://localhost:8080/",
          "height": 542
        },
        "id": "vD0WVsXViQdl",
        "outputId": "cface677-84ed-4a4d-f1fe-b36fa5a4bd26"
      },
      "execution_count": 25,
      "outputs": [
        {
          "output_type": "display_data",
          "data": {
            "text/html": [
              "<html>\n",
              "<head><meta charset=\"utf-8\" /></head>\n",
              "<body>\n",
              "    <div>            <script src=\"https://cdnjs.cloudflare.com/ajax/libs/mathjax/2.7.5/MathJax.js?config=TeX-AMS-MML_SVG\"></script><script type=\"text/javascript\">if (window.MathJax) {MathJax.Hub.Config({SVG: {font: \"STIX-Web\"}});}</script>                <script type=\"text/javascript\">window.PlotlyConfig = {MathJaxConfig: 'local'};</script>\n",
              "        <script src=\"https://cdn.plot.ly/plotly-2.8.3.min.js\"></script>                <div id=\"0779e75d-4453-4a52-b8f3-e1006b13d3df\" class=\"plotly-graph-div\" style=\"height:525px; width:100%;\"></div>            <script type=\"text/javascript\">                                    window.PLOTLYENV=window.PLOTLYENV || {};                                    if (document.getElementById(\"0779e75d-4453-4a52-b8f3-e1006b13d3df\")) {                    Plotly.newPlot(                        \"0779e75d-4453-4a52-b8f3-e1006b13d3df\",                        [{\"domain\":{\"x\":[0.0,1.0],\"y\":[0.0,1.0]},\"hovertemplate\":\"index=%{label}<br>duration=%{value}<extra></extra>\",\"labels\":[\"98 min\",\"97 min\",\"96 min\",\"95 min\",\"94 min\",\"93 min\",\"92 min\",\"91 min\",\"90 min\",\"103 min\"],\"legendgroup\":\"\",\"name\":\"\",\"showlegend\":true,\"values\":[106,117,115,119,125,131,118,125,136,101],\"type\":\"pie\",\"textfont\":{\"size\":20},\"marker\":{\"line\":{\"color\":\"#000000\",\"width\":2}},\"textinfo\":\"percent+label\",\"textposition\":\"inside\"}],                        {\"template\":{\"data\":{\"bar\":[{\"error_x\":{\"color\":\"#2a3f5f\"},\"error_y\":{\"color\":\"#2a3f5f\"},\"marker\":{\"line\":{\"color\":\"#E5ECF6\",\"width\":0.5},\"pattern\":{\"fillmode\":\"overlay\",\"size\":10,\"solidity\":0.2}},\"type\":\"bar\"}],\"barpolar\":[{\"marker\":{\"line\":{\"color\":\"#E5ECF6\",\"width\":0.5},\"pattern\":{\"fillmode\":\"overlay\",\"size\":10,\"solidity\":0.2}},\"type\":\"barpolar\"}],\"carpet\":[{\"aaxis\":{\"endlinecolor\":\"#2a3f5f\",\"gridcolor\":\"white\",\"linecolor\":\"white\",\"minorgridcolor\":\"white\",\"startlinecolor\":\"#2a3f5f\"},\"baxis\":{\"endlinecolor\":\"#2a3f5f\",\"gridcolor\":\"white\",\"linecolor\":\"white\",\"minorgridcolor\":\"white\",\"startlinecolor\":\"#2a3f5f\"},\"type\":\"carpet\"}],\"choropleth\":[{\"colorbar\":{\"outlinewidth\":0,\"ticks\":\"\"},\"type\":\"choropleth\"}],\"contour\":[{\"colorbar\":{\"outlinewidth\":0,\"ticks\":\"\"},\"colorscale\":[[0.0,\"#0d0887\"],[0.1111111111111111,\"#46039f\"],[0.2222222222222222,\"#7201a8\"],[0.3333333333333333,\"#9c179e\"],[0.4444444444444444,\"#bd3786\"],[0.5555555555555556,\"#d8576b\"],[0.6666666666666666,\"#ed7953\"],[0.7777777777777778,\"#fb9f3a\"],[0.8888888888888888,\"#fdca26\"],[1.0,\"#f0f921\"]],\"type\":\"contour\"}],\"contourcarpet\":[{\"colorbar\":{\"outlinewidth\":0,\"ticks\":\"\"},\"type\":\"contourcarpet\"}],\"heatmap\":[{\"colorbar\":{\"outlinewidth\":0,\"ticks\":\"\"},\"colorscale\":[[0.0,\"#0d0887\"],[0.1111111111111111,\"#46039f\"],[0.2222222222222222,\"#7201a8\"],[0.3333333333333333,\"#9c179e\"],[0.4444444444444444,\"#bd3786\"],[0.5555555555555556,\"#d8576b\"],[0.6666666666666666,\"#ed7953\"],[0.7777777777777778,\"#fb9f3a\"],[0.8888888888888888,\"#fdca26\"],[1.0,\"#f0f921\"]],\"type\":\"heatmap\"}],\"heatmapgl\":[{\"colorbar\":{\"outlinewidth\":0,\"ticks\":\"\"},\"colorscale\":[[0.0,\"#0d0887\"],[0.1111111111111111,\"#46039f\"],[0.2222222222222222,\"#7201a8\"],[0.3333333333333333,\"#9c179e\"],[0.4444444444444444,\"#bd3786\"],[0.5555555555555556,\"#d8576b\"],[0.6666666666666666,\"#ed7953\"],[0.7777777777777778,\"#fb9f3a\"],[0.8888888888888888,\"#fdca26\"],[1.0,\"#f0f921\"]],\"type\":\"heatmapgl\"}],\"histogram\":[{\"marker\":{\"pattern\":{\"fillmode\":\"overlay\",\"size\":10,\"solidity\":0.2}},\"type\":\"histogram\"}],\"histogram2d\":[{\"colorbar\":{\"outlinewidth\":0,\"ticks\":\"\"},\"colorscale\":[[0.0,\"#0d0887\"],[0.1111111111111111,\"#46039f\"],[0.2222222222222222,\"#7201a8\"],[0.3333333333333333,\"#9c179e\"],[0.4444444444444444,\"#bd3786\"],[0.5555555555555556,\"#d8576b\"],[0.6666666666666666,\"#ed7953\"],[0.7777777777777778,\"#fb9f3a\"],[0.8888888888888888,\"#fdca26\"],[1.0,\"#f0f921\"]],\"type\":\"histogram2d\"}],\"histogram2dcontour\":[{\"colorbar\":{\"outlinewidth\":0,\"ticks\":\"\"},\"colorscale\":[[0.0,\"#0d0887\"],[0.1111111111111111,\"#46039f\"],[0.2222222222222222,\"#7201a8\"],[0.3333333333333333,\"#9c179e\"],[0.4444444444444444,\"#bd3786\"],[0.5555555555555556,\"#d8576b\"],[0.6666666666666666,\"#ed7953\"],[0.7777777777777778,\"#fb9f3a\"],[0.8888888888888888,\"#fdca26\"],[1.0,\"#f0f921\"]],\"type\":\"histogram2dcontour\"}],\"mesh3d\":[{\"colorbar\":{\"outlinewidth\":0,\"ticks\":\"\"},\"type\":\"mesh3d\"}],\"parcoords\":[{\"line\":{\"colorbar\":{\"outlinewidth\":0,\"ticks\":\"\"}},\"type\":\"parcoords\"}],\"pie\":[{\"automargin\":true,\"type\":\"pie\"}],\"scatter\":[{\"marker\":{\"colorbar\":{\"outlinewidth\":0,\"ticks\":\"\"}},\"type\":\"scatter\"}],\"scatter3d\":[{\"line\":{\"colorbar\":{\"outlinewidth\":0,\"ticks\":\"\"}},\"marker\":{\"colorbar\":{\"outlinewidth\":0,\"ticks\":\"\"}},\"type\":\"scatter3d\"}],\"scattercarpet\":[{\"marker\":{\"colorbar\":{\"outlinewidth\":0,\"ticks\":\"\"}},\"type\":\"scattercarpet\"}],\"scattergeo\":[{\"marker\":{\"colorbar\":{\"outlinewidth\":0,\"ticks\":\"\"}},\"type\":\"scattergeo\"}],\"scattergl\":[{\"marker\":{\"colorbar\":{\"outlinewidth\":0,\"ticks\":\"\"}},\"type\":\"scattergl\"}],\"scattermapbox\":[{\"marker\":{\"colorbar\":{\"outlinewidth\":0,\"ticks\":\"\"}},\"type\":\"scattermapbox\"}],\"scatterpolar\":[{\"marker\":{\"colorbar\":{\"outlinewidth\":0,\"ticks\":\"\"}},\"type\":\"scatterpolar\"}],\"scatterpolargl\":[{\"marker\":{\"colorbar\":{\"outlinewidth\":0,\"ticks\":\"\"}},\"type\":\"scatterpolargl\"}],\"scatterternary\":[{\"marker\":{\"colorbar\":{\"outlinewidth\":0,\"ticks\":\"\"}},\"type\":\"scatterternary\"}],\"surface\":[{\"colorbar\":{\"outlinewidth\":0,\"ticks\":\"\"},\"colorscale\":[[0.0,\"#0d0887\"],[0.1111111111111111,\"#46039f\"],[0.2222222222222222,\"#7201a8\"],[0.3333333333333333,\"#9c179e\"],[0.4444444444444444,\"#bd3786\"],[0.5555555555555556,\"#d8576b\"],[0.6666666666666666,\"#ed7953\"],[0.7777777777777778,\"#fb9f3a\"],[0.8888888888888888,\"#fdca26\"],[1.0,\"#f0f921\"]],\"type\":\"surface\"}],\"table\":[{\"cells\":{\"fill\":{\"color\":\"#EBF0F8\"},\"line\":{\"color\":\"white\"}},\"header\":{\"fill\":{\"color\":\"#C8D4E3\"},\"line\":{\"color\":\"white\"}},\"type\":\"table\"}]},\"layout\":{\"annotationdefaults\":{\"arrowcolor\":\"#2a3f5f\",\"arrowhead\":0,\"arrowwidth\":1},\"autotypenumbers\":\"strict\",\"coloraxis\":{\"colorbar\":{\"outlinewidth\":0,\"ticks\":\"\"}},\"colorscale\":{\"diverging\":[[0,\"#8e0152\"],[0.1,\"#c51b7d\"],[0.2,\"#de77ae\"],[0.3,\"#f1b6da\"],[0.4,\"#fde0ef\"],[0.5,\"#f7f7f7\"],[0.6,\"#e6f5d0\"],[0.7,\"#b8e186\"],[0.8,\"#7fbc41\"],[0.9,\"#4d9221\"],[1,\"#276419\"]],\"sequential\":[[0.0,\"#0d0887\"],[0.1111111111111111,\"#46039f\"],[0.2222222222222222,\"#7201a8\"],[0.3333333333333333,\"#9c179e\"],[0.4444444444444444,\"#bd3786\"],[0.5555555555555556,\"#d8576b\"],[0.6666666666666666,\"#ed7953\"],[0.7777777777777778,\"#fb9f3a\"],[0.8888888888888888,\"#fdca26\"],[1.0,\"#f0f921\"]],\"sequentialminus\":[[0.0,\"#0d0887\"],[0.1111111111111111,\"#46039f\"],[0.2222222222222222,\"#7201a8\"],[0.3333333333333333,\"#9c179e\"],[0.4444444444444444,\"#bd3786\"],[0.5555555555555556,\"#d8576b\"],[0.6666666666666666,\"#ed7953\"],[0.7777777777777778,\"#fb9f3a\"],[0.8888888888888888,\"#fdca26\"],[1.0,\"#f0f921\"]]},\"colorway\":[\"#636efa\",\"#EF553B\",\"#00cc96\",\"#ab63fa\",\"#FFA15A\",\"#19d3f3\",\"#FF6692\",\"#B6E880\",\"#FF97FF\",\"#FECB52\"],\"font\":{\"color\":\"#2a3f5f\"},\"geo\":{\"bgcolor\":\"white\",\"lakecolor\":\"white\",\"landcolor\":\"#E5ECF6\",\"showlakes\":true,\"showland\":true,\"subunitcolor\":\"white\"},\"hoverlabel\":{\"align\":\"left\"},\"hovermode\":\"closest\",\"mapbox\":{\"style\":\"light\"},\"paper_bgcolor\":\"white\",\"plot_bgcolor\":\"#E5ECF6\",\"polar\":{\"angularaxis\":{\"gridcolor\":\"white\",\"linecolor\":\"white\",\"ticks\":\"\"},\"bgcolor\":\"#E5ECF6\",\"radialaxis\":{\"gridcolor\":\"white\",\"linecolor\":\"white\",\"ticks\":\"\"}},\"scene\":{\"xaxis\":{\"backgroundcolor\":\"#E5ECF6\",\"gridcolor\":\"white\",\"gridwidth\":2,\"linecolor\":\"white\",\"showbackground\":true,\"ticks\":\"\",\"zerolinecolor\":\"white\"},\"yaxis\":{\"backgroundcolor\":\"#E5ECF6\",\"gridcolor\":\"white\",\"gridwidth\":2,\"linecolor\":\"white\",\"showbackground\":true,\"ticks\":\"\",\"zerolinecolor\":\"white\"},\"zaxis\":{\"backgroundcolor\":\"#E5ECF6\",\"gridcolor\":\"white\",\"gridwidth\":2,\"linecolor\":\"white\",\"showbackground\":true,\"ticks\":\"\",\"zerolinecolor\":\"white\"}},\"shapedefaults\":{\"line\":{\"color\":\"#2a3f5f\"}},\"ternary\":{\"aaxis\":{\"gridcolor\":\"white\",\"linecolor\":\"white\",\"ticks\":\"\"},\"baxis\":{\"gridcolor\":\"white\",\"linecolor\":\"white\",\"ticks\":\"\"},\"bgcolor\":\"#E5ECF6\",\"caxis\":{\"gridcolor\":\"white\",\"linecolor\":\"white\",\"ticks\":\"\"}},\"title\":{\"x\":0.05},\"xaxis\":{\"automargin\":true,\"gridcolor\":\"white\",\"linecolor\":\"white\",\"ticks\":\"\",\"title\":{\"standoff\":15},\"zerolinecolor\":\"white\",\"zerolinewidth\":2},\"yaxis\":{\"automargin\":true,\"gridcolor\":\"white\",\"linecolor\":\"white\",\"ticks\":\"\",\"title\":{\"standoff\":15},\"zerolinecolor\":\"white\",\"zerolinewidth\":2}}},\"legend\":{\"tracegroupgap\":0},\"margin\":{\"t\":60},\"piecolorway\":[\"#30123b\",\"#4145ab\",\"#4675ed\",\"#39a2fc\",\"#1bcfd4\",\"#24eca6\",\"#61fc6c\",\"#a4fc3b\",\"#d1e834\",\"#f3c63a\",\"#fe9b2d\",\"#f36315\",\"#d93806\",\"#b11901\",\"#7a0402\"],\"title\":{\"text\":\"Top 10 Duration for Movies\"}},                        {\"responsive\": true}                    ).then(function(){\n",
              "                            \n",
              "var gd = document.getElementById('0779e75d-4453-4a52-b8f3-e1006b13d3df');\n",
              "var x = new MutationObserver(function (mutations, observer) {{\n",
              "        var display = window.getComputedStyle(gd).display;\n",
              "        if (!display || display === 'none') {{\n",
              "            console.log([gd, 'removed!']);\n",
              "            Plotly.purge(gd);\n",
              "            observer.disconnect();\n",
              "        }}\n",
              "}});\n",
              "\n",
              "// Listen for the removal of the full notebook cells\n",
              "var notebookContainer = gd.closest('#notebook-container');\n",
              "if (notebookContainer) {{\n",
              "    x.observe(notebookContainer, {childList: true});\n",
              "}}\n",
              "\n",
              "// Listen for the clearing of the current output cell\n",
              "var outputEl = gd.closest('.output');\n",
              "if (outputEl) {{\n",
              "    x.observe(outputEl, {childList: true});\n",
              "}}\n",
              "\n",
              "                        })                };                            </script>        </div>\n",
              "</body>\n",
              "</html>"
            ]
          },
          "metadata": {}
        }
      ]
    },
    {
      "cell_type": "code",
      "source": [
        ""
      ],
      "metadata": {
        "id": "NQjFtwUvifeV"
      },
      "execution_count": 25,
      "outputs": []
    }
  ]
}